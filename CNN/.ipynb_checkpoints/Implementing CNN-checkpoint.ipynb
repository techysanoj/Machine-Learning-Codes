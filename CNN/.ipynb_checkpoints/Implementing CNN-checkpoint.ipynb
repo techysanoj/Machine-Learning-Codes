{
 "cells": [
  {
   "cell_type": "code",
   "execution_count": 1,
   "id": "1645df02",
   "metadata": {},
   "outputs": [
    {
     "name": "stderr",
     "output_type": "stream",
     "text": [
      "C:\\Users\\Family PC\\anaconda3\\lib\\site-packages\\sklearn\\datasets\\_openml.py:932: FutureWarning: The default value of `parser` will change from `'liac-arff'` to `'auto'` in 1.4. You can set `parser='auto'` to silence this warning. Therefore, an `ImportError` will be raised from 1.4 if the dataset is dense and pandas is not installed. Note that the pandas parser may return different data types. See the Notes Section in fetch_openml's API doc for details.\n",
      "  warn(\n"
     ]
    },
    {
     "data": {
      "text/plain": [
       "(70000, 784)"
      ]
     },
     "execution_count": 1,
     "metadata": {},
     "output_type": "execute_result"
    }
   ],
   "source": [
    "from sklearn.datasets import fetch_openml\n",
    "mnist = fetch_openml('mnist_784')\n",
    "mnist.data.shape"
   ]
  },
  {
   "cell_type": "code",
   "execution_count": 4,
   "id": "94777458",
   "metadata": {},
   "outputs": [],
   "source": [
    "imp"
   ]
  },
  {
   "cell_type": "code",
   "execution_count": 9,
   "id": "0d3bce7f",
   "metadata": {},
   "outputs": [],
   "source": [
    "input_width = 28\n",
    "input_height = 28\n",
    "input_channel = 1\n",
    "input_pixel = 784\n",
    "\n",
    "n_conv1 = 32\n",
    "n_conv2 = 64\n",
    "\n",
    "stride_conv1 = 1\n",
    "stride_conv2 = 1\n",
    "\n",
    "conv1_k = 5\n",
    "conv2_k = 5\n",
    "\n",
    "max_pool1_k = 2\n",
    "max_pool2_k = 2\n",
    "\n",
    "n_hidden = 1024\n",
    "n_out = 10\n",
    "\n",
    "input_size_to_hidden_layer = (input_width//(max_pool1_k*max_pool2_k)) * (input_height//(max_pool1_k*max_pool2_k)) *n_conv2"
   ]
  },
  {
   "cell_type": "code",
   "execution_count": 10,
   "id": "d3372b62",
   "metadata": {},
   "outputs": [],
   "source": [
    "weights = {\n",
    "    \"wc1\": tf.Variable(tf.compat.v1.random_normal([conv1_k,conv1_k, input_channel,n_conv1])),\n",
    "    \"wc2\": tf.Variable(tf.compat.v1.random_normal([conv2_k,conv2_k, n_conv1,n_conv2])),\n",
    "    \"whl\": tf.Variable(tf.compat.v1.random_normal([input_size_to_hidden_layer, n_hidden])),\n",
    "    \"wo\" : tf.Variable(tf.compat.v1.random_normal([n_hidden, n_out]))\n",
    "}"
   ]
  },
  {
   "cell_type": "code",
   "execution_count": 11,
   "id": "da0de32d",
   "metadata": {},
   "outputs": [],
   "source": [
    "biases = {\n",
    "    \"bc1\": tf.Variable(tf.compat.v1.random_normal([n_conv1])),\n",
    "    \"bc2\": tf.Variable(tf.compat.v1.random_normal([n_conv2])),\n",
    "    \"bhl\": tf.Variable(tf.compat.v1.random_normal([n_hidden])),\n",
    "    \"bol\": tf.Variable(tf.compat.v1.random_normal([n_out])),\n",
    "}"
   ]
  },
  {
   "cell_type": "code",
   "execution_count": 12,
   "id": "d23401ba",
   "metadata": {},
   "outputs": [],
   "source": [
    "def cnn(x, weights, biases):\n",
    "    x = tf.reshape(x, shape[ -1, input_height, input_widht, input_channels])\n",
    "    conv1 = conv(x, weights['wc1'], biases['bc1'])\n",
    "    conv1_pool = maxpooling(conv1, max_pool1_k)\n",
    "    conv2 = conv(conv1_pool, weights['wc2'], biases['bc2'])\n",
    "    conv2_pool = maxpooling(conv2, max_pool2_k)\n",
    "    \n",
    "    hidden_input = tf.reshape(conv2_pool, shape[-1, input_size_to_hidden_layer])\n",
    "    hidden_output_before_activation = tf.add(tf.matmul(hidden_input, weights['whl']), biases['bhl'])\n",
    "    hidden_output = tf.nn.relu(hidden_output_before_activation)\n",
    "    \n",
    "    output = tf.add(tf.matmul(hidden_output, weights['wo']), biases['bo'])\n",
    "    return output"
   ]
  }
 ],
 "metadata": {
  "kernelspec": {
   "display_name": "Python 3 (ipykernel)",
   "language": "python",
   "name": "python3"
  },
  "language_info": {
   "codemirror_mode": {
    "name": "ipython",
    "version": 3
   },
   "file_extension": ".py",
   "mimetype": "text/x-python",
   "name": "python",
   "nbconvert_exporter": "python",
   "pygments_lexer": "ipython3",
   "version": "3.10.9"
  }
 },
 "nbformat": 4,
 "nbformat_minor": 5
}
