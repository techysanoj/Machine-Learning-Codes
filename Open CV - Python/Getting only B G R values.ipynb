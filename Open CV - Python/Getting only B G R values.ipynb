{
 "cells": [
  {
   "cell_type": "code",
   "execution_count": 1,
   "id": "f96f31d9",
   "metadata": {},
   "outputs": [],
   "source": [
    "import cv2\n",
    "import numpy as np"
   ]
  },
  {
   "cell_type": "code",
   "execution_count": 2,
   "id": "04397af7",
   "metadata": {},
   "outputs": [],
   "source": [
    "img = cv2.imread(\"SARCASM1.png\")"
   ]
  },
  {
   "cell_type": "code",
   "execution_count": 3,
   "id": "b5cb7b0f",
   "metadata": {},
   "outputs": [],
   "source": [
    "# getting the only B, G, R values\n",
    "\n",
    "img_blue = img[:,:,0]\n",
    "img_green = img[:,:,1]\n",
    "img_red = img[:,:,2]"
   ]
  },
  {
   "cell_type": "code",
   "execution_count": 6,
   "id": "662d8d6f",
   "metadata": {},
   "outputs": [],
   "source": [
    "new_img = np.hstack((img_blue, img_green, img_red))"
   ]
  },
  {
   "cell_type": "code",
   "execution_count": 7,
   "id": "e02b4a23",
   "metadata": {},
   "outputs": [
    {
     "data": {
      "text/plain": [
       "-1"
      ]
     },
     "execution_count": 7,
     "metadata": {},
     "output_type": "execute_result"
    }
   ],
   "source": [
    "cv2.imshow(\"window_name\", new_img)\n",
    "\n",
    "cv2.waitKey(0)"
   ]
  }
 ],
 "metadata": {
  "kernelspec": {
   "display_name": "Python 3 (ipykernel)",
   "language": "python",
   "name": "python3"
  },
  "language_info": {
   "codemirror_mode": {
    "name": "ipython",
    "version": 3
   },
   "file_extension": ".py",
   "mimetype": "text/x-python",
   "name": "python",
   "nbconvert_exporter": "python",
   "pygments_lexer": "ipython3",
   "version": "3.10.9"
  }
 },
 "nbformat": 4,
 "nbformat_minor": 5
}
