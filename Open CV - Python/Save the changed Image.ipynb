{
 "cells": [
  {
   "cell_type": "code",
   "execution_count": 1,
   "id": "ef117ed6",
   "metadata": {},
   "outputs": [],
   "source": [
    "import cv2\n",
    "import numpy as np"
   ]
  },
  {
   "cell_type": "code",
   "execution_count": 2,
   "id": "ab53d3d5",
   "metadata": {},
   "outputs": [],
   "source": [
    "img = cv2.imread('SARCASM1.png')"
   ]
  },
  {
   "cell_type": "code",
   "execution_count": 3,
   "id": "5d796142",
   "metadata": {},
   "outputs": [],
   "source": [
    "img_crop = img[0:400, 0:300]"
   ]
  },
  {
   "cell_type": "code",
   "execution_count": 4,
   "id": "55614be1",
   "metadata": {},
   "outputs": [
    {
     "data": {
      "text/plain": [
       "True"
      ]
     },
     "execution_count": 4,
     "metadata": {},
     "output_type": "execute_result"
    }
   ],
   "source": [
    "cv2.imwrite('CroppedImage.png', img_crop)"
   ]
  }
 ],
 "metadata": {
  "kernelspec": {
   "display_name": "Python 3 (ipykernel)",
   "language": "python",
   "name": "python3"
  },
  "language_info": {
   "codemirror_mode": {
    "name": "ipython",
    "version": 3
   },
   "file_extension": ".py",
   "mimetype": "text/x-python",
   "name": "python",
   "nbconvert_exporter": "python",
   "pygments_lexer": "ipython3",
   "version": "3.10.9"
  }
 },
 "nbformat": 4,
 "nbformat_minor": 5
}
