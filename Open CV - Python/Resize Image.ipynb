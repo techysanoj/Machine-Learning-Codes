{
 "cells": [
  {
   "cell_type": "code",
   "execution_count": 1,
   "id": "1783f362",
   "metadata": {},
   "outputs": [],
   "source": [
    "import cv2\n",
    "import numpy as np"
   ]
  },
  {
   "cell_type": "code",
   "execution_count": 2,
   "id": "a5767e6a",
   "metadata": {},
   "outputs": [],
   "source": [
    "img = cv2.imread(\"SARCASM1.png\")"
   ]
  },
  {
   "cell_type": "code",
   "execution_count": 5,
   "id": "41bbd198",
   "metadata": {},
   "outputs": [],
   "source": [
    "# to resize the image in given parameters\n",
    "\n",
    "img_resize = cv2.resize(img, (250,250))"
   ]
  },
  {
   "cell_type": "code",
   "execution_count": 4,
   "id": "fe8497c5",
   "metadata": {},
   "outputs": [
    {
     "data": {
      "text/plain": [
       "-1"
      ]
     },
     "execution_count": 4,
     "metadata": {},
     "output_type": "execute_result"
    }
   ],
   "source": [
    "cv2.imshow(\"window_name\", img_resize)\n",
    "\n",
    "cv2.waitKey(0)"
   ]
  },
  {
   "cell_type": "code",
   "execution_count": 6,
   "id": "cb652aa0",
   "metadata": {},
   "outputs": [
    {
     "data": {
      "text/plain": [
       "(250, 250, 3)"
      ]
     },
     "execution_count": 6,
     "metadata": {},
     "output_type": "execute_result"
    }
   ],
   "source": [
    "img_resize.shape"
   ]
  },
  {
   "cell_type": "code",
   "execution_count": 8,
   "id": "53bd04e0",
   "metadata": {},
   "outputs": [
    {
     "data": {
      "text/plain": [
       "-1"
      ]
     },
     "execution_count": 8,
     "metadata": {},
     "output_type": "execute_result"
    }
   ],
   "source": [
    "# to half the image when we do not the size of the given picture\n",
    "\n",
    "# it takes first img.shape[1] in reverse order\n",
    "\n",
    "\n",
    "img_new = cv2.resize(img, (img.shape[1]//2, img.shape[0]//2))\n",
    "\n",
    "cv2.imshow(\"window_name\", img_new)\n",
    "\n",
    "cv2.waitKey(0)"
   ]
  }
 ],
 "metadata": {
  "kernelspec": {
   "display_name": "Python 3 (ipykernel)",
   "language": "python",
   "name": "python3"
  },
  "language_info": {
   "codemirror_mode": {
    "name": "ipython",
    "version": 3
   },
   "file_extension": ".py",
   "mimetype": "text/x-python",
   "name": "python",
   "nbconvert_exporter": "python",
   "pygments_lexer": "ipython3",
   "version": "3.10.9"
  }
 },
 "nbformat": 4,
 "nbformat_minor": 5
}
