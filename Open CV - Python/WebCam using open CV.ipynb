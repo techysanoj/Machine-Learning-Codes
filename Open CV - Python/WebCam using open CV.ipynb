{
 "cells": [
  {
   "cell_type": "code",
   "execution_count": 25,
   "id": "0b19df31",
   "metadata": {},
   "outputs": [],
   "source": [
    "import cv2\n",
    "import numpy as np"
   ]
  },
  {
   "cell_type": "code",
   "execution_count": null,
   "id": "e8118d9f",
   "metadata": {},
   "outputs": [],
   "source": []
  },
  {
   "cell_type": "code",
   "execution_count": 26,
   "id": "30b1fde2",
   "metadata": {},
   "outputs": [],
   "source": [
    "# capturing the video\n",
    "\n",
    "# we can use this to play video also just pass the path location into the ()brackets\n",
    "capture = cv2.VideoCapture(0)"
   ]
  },
  {
   "cell_type": "code",
   "execution_count": 27,
   "id": "adb9d47a",
   "metadata": {},
   "outputs": [],
   "source": [
    "while True:\n",
    "    # it will return frames and return values\n",
    "    ret, frame = capture.read()\n",
    "    cv2.imshow(\"Window\", frame)\n",
    "    if cv2.waitKey(1) & 0xFF ==ord('x'):\n",
    "        break"
   ]
  },
  {
   "cell_type": "code",
   "execution_count": 28,
   "id": "699a0ae2",
   "metadata": {},
   "outputs": [],
   "source": [
    "cv2.destroyAllWindows()"
   ]
  }
 ],
 "metadata": {
  "kernelspec": {
   "display_name": "Python 3 (ipykernel)",
   "language": "python",
   "name": "python3"
  },
  "language_info": {
   "codemirror_mode": {
    "name": "ipython",
    "version": 3
   },
   "file_extension": ".py",
   "mimetype": "text/x-python",
   "name": "python",
   "nbconvert_exporter": "python",
   "pygments_lexer": "ipython3",
   "version": "3.10.9"
  }
 },
 "nbformat": 4,
 "nbformat_minor": 5
}
