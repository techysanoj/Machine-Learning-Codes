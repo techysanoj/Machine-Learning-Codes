{
 "cells": [
  {
   "cell_type": "code",
   "execution_count": 2,
   "id": "2cc5e7d3",
   "metadata": {},
   "outputs": [],
   "source": [
    "import cv2\n",
    "import numpy as np"
   ]
  },
  {
   "cell_type": "code",
   "execution_count": 3,
   "id": "b46ea439",
   "metadata": {},
   "outputs": [],
   "source": [
    "img = cv2.imread('SARCASM1.png')"
   ]
  },
  {
   "cell_type": "code",
   "execution_count": 4,
   "id": "eb8f39d1",
   "metadata": {},
   "outputs": [
    {
     "data": {
      "text/plain": [
       "-1"
      ]
     },
     "execution_count": 4,
     "metadata": {},
     "output_type": "execute_result"
    }
   ],
   "source": [
    "cv2.imshow(\"window\", img)\n",
    "\n",
    "cv2.waitKey(0)"
   ]
  },
  {
   "cell_type": "code",
   "execution_count": 8,
   "id": "1ea149e7",
   "metadata": {},
   "outputs": [
    {
     "data": {
      "text/plain": [
       "-1"
      ]
     },
     "execution_count": 8,
     "metadata": {},
     "output_type": "execute_result"
    }
   ],
   "source": [
    "# we have three option in flipping an image\n",
    "\n",
    "# 0 - vertical \n",
    "# 1 - horizontal \n",
    "# -1 - it will flip in both the directions\n",
    "\n",
    "img_0 = cv2.flip(img, 0)\n",
    "img_1 = cv2.flip(img, 1)\n",
    "img_11 = cv2.flip(img, -1)\n",
    "\n",
    "# hstack will combine both the array\n",
    "new_img = np.hstack((img_0, img_1, img_11))\n",
    "cv2.imshow(\"window - flip\", new_img)\n",
    "cv2.waitKey(0)"
   ]
  }
 ],
 "metadata": {
  "kernelspec": {
   "display_name": "Python 3 (ipykernel)",
   "language": "python",
   "name": "python3"
  },
  "language_info": {
   "codemirror_mode": {
    "name": "ipython",
    "version": 3
   },
   "file_extension": ".py",
   "mimetype": "text/x-python",
   "name": "python",
   "nbconvert_exporter": "python",
   "pygments_lexer": "ipython3",
   "version": "3.10.9"
  }
 },
 "nbformat": 4,
 "nbformat_minor": 5
}
