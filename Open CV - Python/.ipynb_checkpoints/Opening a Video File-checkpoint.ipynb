{
 "cells": [
  {
   "cell_type": "code",
   "execution_count": 4,
   "id": "007747be",
   "metadata": {},
   "outputs": [],
   "source": [
    "import cv2\n",
    "import numpy as np"
   ]
  },
  {
   "cell_type": "code",
   "execution_count": 5,
   "id": "cd278f33",
   "metadata": {},
   "outputs": [],
   "source": [
    "import time"
   ]
  },
  {
   "cell_type": "code",
   "execution_count": 6,
   "id": "23b088e0",
   "metadata": {},
   "outputs": [],
   "source": [
    "cap = cv2.VideoCapture('Recording 2023-04-10 184923.mp4')"
   ]
  },
  {
   "cell_type": "code",
   "execution_count": 7,
   "id": "b0712e14",
   "metadata": {},
   "outputs": [],
   "source": [
    "while True:\n",
    "    # it will return frames and return values\n",
    "    ret, frame = cap.read()\n",
    "    cv2.imshow(\"Window\", frame)\n",
    "    time.sleep(1/30)\n",
    "    if cv2.waitKey(1) & 0xFF ==ord('x'):\n",
    "        break"
   ]
  },
  {
   "cell_type": "code",
   "execution_count": 8,
   "id": "5db56663",
   "metadata": {},
   "outputs": [],
   "source": [
    "cv2.destroyAllWindows()"
   ]
  }
 ],
 "metadata": {
  "kernelspec": {
   "display_name": "Python 3 (ipykernel)",
   "language": "python",
   "name": "python3"
  },
  "language_info": {
   "codemirror_mode": {
    "name": "ipython",
    "version": 3
   },
   "file_extension": ".py",
   "mimetype": "text/x-python",
   "name": "python",
   "nbconvert_exporter": "python",
   "pygments_lexer": "ipython3",
   "version": "3.10.9"
  }
 },
 "nbformat": 4,
 "nbformat_minor": 5
}
