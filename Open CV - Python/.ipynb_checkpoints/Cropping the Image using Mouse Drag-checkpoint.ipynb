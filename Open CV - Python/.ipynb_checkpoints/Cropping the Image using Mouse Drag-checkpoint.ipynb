{
 "cells": [
  {
   "cell_type": "code",
   "execution_count": 58,
   "id": "1a6ab2a2",
   "metadata": {},
   "outputs": [],
   "source": [
    "import cv2\n",
    "import numpy as np"
   ]
  },
  {
   "cell_type": "code",
   "execution_count": 59,
   "id": "70822941",
   "metadata": {},
   "outputs": [
    {
     "data": {
      "text/plain": [
       "(1278, 1920, 3)"
      ]
     },
     "execution_count": 59,
     "metadata": {},
     "output_type": "execute_result"
    }
   ],
   "source": [
    "img = cv2.imread('pexels-pixabay-268533.jpg')\n",
    "\n",
    "img.shape"
   ]
  },
  {
   "cell_type": "code",
   "execution_count": 60,
   "id": "568757c1",
   "metadata": {},
   "outputs": [],
   "source": [
    "def crop(event, x, y, flags, params):\n",
    "    global flag, ix, iy\n",
    "    if event == 1:\n",
    "        flag = True\n",
    "        ix = x\n",
    "        iy = y\n",
    "    elif event == 4:\n",
    "        fx = x\n",
    "        fy = y\n",
    "        flag = False\n",
    "        crop = img[iy:fy, ix:fx]\n",
    "        cv2.imshow(\"Cropped Image\", crop)\n",
    "        cv2.waitKey(0)"
   ]
  },
  {
   "cell_type": "code",
   "execution_count": 61,
   "id": "661cf7f4",
   "metadata": {},
   "outputs": [],
   "source": [
    "# to register the crop function using mouse call back\n",
    "cv2.namedWindow(winname = \"Window\")\n",
    "cv2.setMouseCallback(\"Window\", crop)"
   ]
  },
  {
   "cell_type": "code",
   "execution_count": 62,
   "id": "a16464a0",
   "metadata": {},
   "outputs": [],
   "source": [
    "# here OxFF == ord('x') means pressing the x key on keyboard\n",
    "\n",
    "while True:\n",
    "    cv2.imshow(\"Window\", img)\n",
    "    if(cv2.waitKey(1) & 0xFF==ord('x')):\n",
    "        break\n",
    "        \n",
    "cv2.destroyAllWindows()"
   ]
  }
 ],
 "metadata": {
  "kernelspec": {
   "display_name": "Python 3 (ipykernel)",
   "language": "python",
   "name": "python3"
  },
  "language_info": {
   "codemirror_mode": {
    "name": "ipython",
    "version": 3
   },
   "file_extension": ".py",
   "mimetype": "text/x-python",
   "name": "python",
   "nbconvert_exporter": "python",
   "pygments_lexer": "ipython3",
   "version": "3.10.9"
  }
 },
 "nbformat": 4,
 "nbformat_minor": 5
}
