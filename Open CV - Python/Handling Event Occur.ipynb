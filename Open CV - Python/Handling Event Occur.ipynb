{
 "cells": [
  {
   "cell_type": "code",
   "execution_count": 18,
   "id": "e190b8a7",
   "metadata": {},
   "outputs": [],
   "source": [
    "import cv2\n",
    "import numpy as np"
   ]
  },
  {
   "cell_type": "code",
   "execution_count": 19,
   "id": "d1246cb5",
   "metadata": {},
   "outputs": [],
   "source": [
    "img = np.zeros((512, 512, 3))"
   ]
  },
  {
   "cell_type": "code",
   "execution_count": 20,
   "id": "425e73d6",
   "metadata": {},
   "outputs": [],
   "source": [
    "flag = False\n",
    "ix = -1\n",
    "iy = -1"
   ]
  },
  {
   "cell_type": "code",
   "execution_count": 21,
   "id": "aba491aa",
   "metadata": {},
   "outputs": [],
   "source": [
    "def draw(event, x, y, flags, params):\n",
    "    global flag, ix, iy\n",
    "    if event == 1:\n",
    "        flag = True\n",
    "        ix = x\n",
    "        iy = y\n",
    "    elif event == 0:\n",
    "        if flag == True:\n",
    "            cv2.rectangle(img, pt1 = (ix,iy), pt2 = (x,y), color = (125, 0, 0), thickness = 4)\n",
    "    elif event == 4:\n",
    "        flag = False\n",
    "        cv2.rectangle(img, pt1 = (ix,iy), pt2 = (x,y), color = (125, 0, 0), thickness = 4)\n",
    "     # if event == 1:\n",
    "        # cv2.circle(img, center = (x,y), radius = 50, thickness = 10, color = (135, 126, 33))\n",
    "\n",
    "cv2.namedWindow(winname = \"Window\")\n",
    "cv2.setMouseCallback(\"Window\", draw)"
   ]
  },
  {
   "cell_type": "code",
   "execution_count": 22,
   "id": "aae99389",
   "metadata": {},
   "outputs": [],
   "source": [
    "# here OxFF == ord('x') means pressing the x key on keyboard\n",
    "\n",
    "while True:\n",
    "    cv2.imshow(\"Window\", img)\n",
    "    if(cv2.waitKey(1) & 0xFF==ord('x')):\n",
    "        break\n",
    "        \n",
    "cv2.destroyAllWindows()"
   ]
  }
 ],
 "metadata": {
  "kernelspec": {
   "display_name": "Python 3 (ipykernel)",
   "language": "python",
   "name": "python3"
  },
  "language_info": {
   "codemirror_mode": {
    "name": "ipython",
    "version": 3
   },
   "file_extension": ".py",
   "mimetype": "text/x-python",
   "name": "python",
   "nbconvert_exporter": "python",
   "pygments_lexer": "ipython3",
   "version": "3.10.9"
  }
 },
 "nbformat": 4,
 "nbformat_minor": 5
}
