{
 "cells": [
  {
   "cell_type": "code",
   "execution_count": 2,
   "id": "273ec8da",
   "metadata": {},
   "outputs": [],
   "source": [
    "import pandas as pd\n",
    "import numpy as np"
   ]
  },
  {
   "cell_type": "code",
   "execution_count": 3,
   "id": "7915c3f7",
   "metadata": {},
   "outputs": [
    {
     "data": {
      "text/html": [
       "<div>\n",
       "<style scoped>\n",
       "    .dataframe tbody tr th:only-of-type {\n",
       "        vertical-align: middle;\n",
       "    }\n",
       "\n",
       "    .dataframe tbody tr th {\n",
       "        vertical-align: top;\n",
       "    }\n",
       "\n",
       "    .dataframe thead th {\n",
       "        text-align: right;\n",
       "    }\n",
       "</style>\n",
       "<table border=\"1\" class=\"dataframe\">\n",
       "  <thead>\n",
       "    <tr style=\"text-align: right;\">\n",
       "      <th></th>\n",
       "      <th>Date</th>\n",
       "      <th>Stock</th>\n",
       "      <th>liabilities</th>\n",
       "      <th>equity</th>\n",
       "      <th>total_assets</th>\n",
       "      <th>current_assets</th>\n",
       "      <th>current_liabilities</th>\n",
       "      <th>total_revenue</th>\n",
       "      <th>net_income</th>\n",
       "      <th>dividend</th>\n",
       "      <th>shares_outstanding</th>\n",
       "      <th>price</th>\n",
       "    </tr>\n",
       "  </thead>\n",
       "  <tbody>\n",
       "    <tr>\n",
       "      <th>0</th>\n",
       "      <td>2006-07-31</td>\n",
       "      <td>Stock 1</td>\n",
       "      <td>625.898686</td>\n",
       "      <td>925.086518</td>\n",
       "      <td>1550.985204</td>\n",
       "      <td>675.789905</td>\n",
       "      <td>555.931329</td>\n",
       "      <td>548.488451</td>\n",
       "      <td>251.282553</td>\n",
       "      <td>68.184030</td>\n",
       "      <td>1040831</td>\n",
       "      <td>100.000000</td>\n",
       "    </tr>\n",
       "    <tr>\n",
       "      <th>1</th>\n",
       "      <td>2006-08-31</td>\n",
       "      <td>Stock 1</td>\n",
       "      <td>407.387467</td>\n",
       "      <td>903.249093</td>\n",
       "      <td>1310.636561</td>\n",
       "      <td>1023.110983</td>\n",
       "      <td>1295.186240</td>\n",
       "      <td>513.446432</td>\n",
       "      <td>207.576940</td>\n",
       "      <td>42.232672</td>\n",
       "      <td>1046649</td>\n",
       "      <td>101.924169</td>\n",
       "    </tr>\n",
       "    <tr>\n",
       "      <th>2</th>\n",
       "      <td>2006-09-29</td>\n",
       "      <td>Stock 1</td>\n",
       "      <td>464.069891</td>\n",
       "      <td>602.668832</td>\n",
       "      <td>1066.738722</td>\n",
       "      <td>709.711673</td>\n",
       "      <td>598.719338</td>\n",
       "      <td>503.519871</td>\n",
       "      <td>133.719700</td>\n",
       "      <td>28.835722</td>\n",
       "      <td>1094158</td>\n",
       "      <td>103.166191</td>\n",
       "    </tr>\n",
       "    <tr>\n",
       "      <th>3</th>\n",
       "      <td>2006-10-31</td>\n",
       "      <td>Stock 1</td>\n",
       "      <td>855.854937</td>\n",
       "      <td>391.375369</td>\n",
       "      <td>1247.230306</td>\n",
       "      <td>649.979564</td>\n",
       "      <td>733.594339</td>\n",
       "      <td>596.006397</td>\n",
       "      <td>-76.881818</td>\n",
       "      <td>0.000000</td>\n",
       "      <td>1018574</td>\n",
       "      <td>104.478956</td>\n",
       "    </tr>\n",
       "    <tr>\n",
       "      <th>4</th>\n",
       "      <td>2006-11-30</td>\n",
       "      <td>Stock 1</td>\n",
       "      <td>453.954969</td>\n",
       "      <td>956.490566</td>\n",
       "      <td>1410.445534</td>\n",
       "      <td>1115.594551</td>\n",
       "      <td>1152.274711</td>\n",
       "      <td>965.939247</td>\n",
       "      <td>-309.204301</td>\n",
       "      <td>0.000000</td>\n",
       "      <td>1036293</td>\n",
       "      <td>104.160907</td>\n",
       "    </tr>\n",
       "    <tr>\n",
       "      <th>...</th>\n",
       "      <td>...</td>\n",
       "      <td>...</td>\n",
       "      <td>...</td>\n",
       "      <td>...</td>\n",
       "      <td>...</td>\n",
       "      <td>...</td>\n",
       "      <td>...</td>\n",
       "      <td>...</td>\n",
       "      <td>...</td>\n",
       "      <td>...</td>\n",
       "      <td>...</td>\n",
       "      <td>...</td>\n",
       "    </tr>\n",
       "    <tr>\n",
       "      <th>14995</th>\n",
       "      <td>2018-08-31</td>\n",
       "      <td>Stock 100</td>\n",
       "      <td>810.402398</td>\n",
       "      <td>953.465125</td>\n",
       "      <td>1763.867523</td>\n",
       "      <td>1014.718528</td>\n",
       "      <td>957.998121</td>\n",
       "      <td>675.953821</td>\n",
       "      <td>102.346000</td>\n",
       "      <td>21.785595</td>\n",
       "      <td>1016713</td>\n",
       "      <td>101.747952</td>\n",
       "    </tr>\n",
       "    <tr>\n",
       "      <th>14996</th>\n",
       "      <td>2018-09-28</td>\n",
       "      <td>Stock 100</td>\n",
       "      <td>811.620957</td>\n",
       "      <td>443.679899</td>\n",
       "      <td>1255.300856</td>\n",
       "      <td>392.059390</td>\n",
       "      <td>365.958118</td>\n",
       "      <td>815.913721</td>\n",
       "      <td>-301.200669</td>\n",
       "      <td>0.000000</td>\n",
       "      <td>1042638</td>\n",
       "      <td>102.039499</td>\n",
       "    </tr>\n",
       "    <tr>\n",
       "      <th>14997</th>\n",
       "      <td>2018-10-31</td>\n",
       "      <td>Stock 100</td>\n",
       "      <td>739.371050</td>\n",
       "      <td>423.172140</td>\n",
       "      <td>1162.543189</td>\n",
       "      <td>478.844995</td>\n",
       "      <td>396.603049</td>\n",
       "      <td>550.561664</td>\n",
       "      <td>227.299298</td>\n",
       "      <td>56.788344</td>\n",
       "      <td>1077825</td>\n",
       "      <td>101.126752</td>\n",
       "    </tr>\n",
       "    <tr>\n",
       "      <th>14998</th>\n",
       "      <td>2018-11-30</td>\n",
       "      <td>Stock 100</td>\n",
       "      <td>741.898496</td>\n",
       "      <td>286.891422</td>\n",
       "      <td>1028.789919</td>\n",
       "      <td>347.793349</td>\n",
       "      <td>358.229637</td>\n",
       "      <td>176.189978</td>\n",
       "      <td>19.405005</td>\n",
       "      <td>5.183536</td>\n",
       "      <td>1003161</td>\n",
       "      <td>102.020776</td>\n",
       "    </tr>\n",
       "    <tr>\n",
       "      <th>14999</th>\n",
       "      <td>2018-12-31</td>\n",
       "      <td>Stock 100</td>\n",
       "      <td>772.426342</td>\n",
       "      <td>538.766121</td>\n",
       "      <td>1311.192462</td>\n",
       "      <td>440.572996</td>\n",
       "      <td>493.849915</td>\n",
       "      <td>586.705439</td>\n",
       "      <td>260.221041</td>\n",
       "      <td>65.005348</td>\n",
       "      <td>1021927</td>\n",
       "      <td>102.594684</td>\n",
       "    </tr>\n",
       "  </tbody>\n",
       "</table>\n",
       "<p>15000 rows × 12 columns</p>\n",
       "</div>"
      ],
      "text/plain": [
       "             Date      Stock  liabilities      equity  total_assets  \\\n",
       "0      2006-07-31    Stock 1   625.898686  925.086518   1550.985204   \n",
       "1      2006-08-31    Stock 1   407.387467  903.249093   1310.636561   \n",
       "2      2006-09-29    Stock 1   464.069891  602.668832   1066.738722   \n",
       "3      2006-10-31    Stock 1   855.854937  391.375369   1247.230306   \n",
       "4      2006-11-30    Stock 1   453.954969  956.490566   1410.445534   \n",
       "...           ...        ...          ...         ...           ...   \n",
       "14995  2018-08-31  Stock 100   810.402398  953.465125   1763.867523   \n",
       "14996  2018-09-28  Stock 100   811.620957  443.679899   1255.300856   \n",
       "14997  2018-10-31  Stock 100   739.371050  423.172140   1162.543189   \n",
       "14998  2018-11-30  Stock 100   741.898496  286.891422   1028.789919   \n",
       "14999  2018-12-31  Stock 100   772.426342  538.766121   1311.192462   \n",
       "\n",
       "       current_assets  current_liabilities  total_revenue  net_income  \\\n",
       "0          675.789905           555.931329     548.488451  251.282553   \n",
       "1         1023.110983          1295.186240     513.446432  207.576940   \n",
       "2          709.711673           598.719338     503.519871  133.719700   \n",
       "3          649.979564           733.594339     596.006397  -76.881818   \n",
       "4         1115.594551          1152.274711     965.939247 -309.204301   \n",
       "...               ...                  ...            ...         ...   \n",
       "14995     1014.718528           957.998121     675.953821  102.346000   \n",
       "14996      392.059390           365.958118     815.913721 -301.200669   \n",
       "14997      478.844995           396.603049     550.561664  227.299298   \n",
       "14998      347.793349           358.229637     176.189978   19.405005   \n",
       "14999      440.572996           493.849915     586.705439  260.221041   \n",
       "\n",
       "        dividend  shares_outstanding       price  \n",
       "0      68.184030             1040831  100.000000  \n",
       "1      42.232672             1046649  101.924169  \n",
       "2      28.835722             1094158  103.166191  \n",
       "3       0.000000             1018574  104.478956  \n",
       "4       0.000000             1036293  104.160907  \n",
       "...          ...                 ...         ...  \n",
       "14995  21.785595             1016713  101.747952  \n",
       "14996   0.000000             1042638  102.039499  \n",
       "14997  56.788344             1077825  101.126752  \n",
       "14998   5.183536             1003161  102.020776  \n",
       "14999  65.005348             1021927  102.594684  \n",
       "\n",
       "[15000 rows x 12 columns]"
      ]
     },
     "execution_count": 3,
     "metadata": {},
     "output_type": "execute_result"
    }
   ],
   "source": [
    "df = pd.read_csv('train.csv')\n",
    "df"
   ]
  },
  {
   "cell_type": "code",
   "execution_count": 4,
   "id": "cb3a931a",
   "metadata": {},
   "outputs": [],
   "source": [
    "import datetime as dt\n",
    "df['Date'] = pd.to_datetime(df['Date'])\n",
    "df['Date']=df['Date'].map(dt.datetime.toordinal)"
   ]
  },
  {
   "cell_type": "code",
   "execution_count": 5,
   "id": "5571d039",
   "metadata": {},
   "outputs": [],
   "source": [
    "from sklearn.model_selection import train_test_split\n",
    "\n",
    "x_train, x_test, y_train, y_test = train_test_split(df.drop(columns  = ['price']), df['price'], random_state = 0)"
   ]
  },
  {
   "cell_type": "code",
   "execution_count": 6,
   "id": "a1964237",
   "metadata": {},
   "outputs": [
    {
     "data": {
      "text/plain": [
       "(11250,)"
      ]
     },
     "execution_count": 6,
     "metadata": {},
     "output_type": "execute_result"
    }
   ],
   "source": [
    "y_train.shape"
   ]
  },
  {
   "cell_type": "code",
   "execution_count": 7,
   "id": "736af9ee",
   "metadata": {},
   "outputs": [],
   "source": [
    "from sklearn.preprocessing import OneHotEncoder"
   ]
  },
  {
   "cell_type": "code",
   "execution_count": 8,
   "id": "69760f63",
   "metadata": {},
   "outputs": [],
   "source": [
    "from sklearn.compose import ColumnTransformer\n",
    "\n",
    "tranformer = ColumnTransformer(transformers = [\n",
    "    ('tnf1', OneHotEncoder(sparse = False, drop = 'first'), ['Stock'])\n",
    "], remainder = 'passthrough')"
   ]
  },
  {
   "cell_type": "code",
   "execution_count": 9,
   "id": "5224683b",
   "metadata": {},
   "outputs": [
    {
     "name": "stderr",
     "output_type": "stream",
     "text": [
      "C:\\Users\\Family PC\\anaconda3\\lib\\site-packages\\sklearn\\preprocessing\\_encoders.py:828: FutureWarning: `sparse` was renamed to `sparse_output` in version 1.2 and will be removed in 1.4. `sparse_output` is ignored unless you leave `sparse` to its default value.\n",
      "  warnings.warn(\n"
     ]
    }
   ],
   "source": [
    "x_train = tranformer.fit_transform(x_train)"
   ]
  },
  {
   "cell_type": "code",
   "execution_count": 10,
   "id": "0beba7ba",
   "metadata": {},
   "outputs": [
    {
     "data": {
      "text/plain": [
       "array([[ 0.00000000e+00,  0.00000000e+00,  0.00000000e+00, ...,\n",
       "         1.07051884e+02,  3.16728165e+01,  1.09318800e+06],\n",
       "       [ 0.00000000e+00,  0.00000000e+00,  0.00000000e+00, ...,\n",
       "        -2.84521636e+01,  0.00000000e+00,  1.01242100e+06],\n",
       "       [ 0.00000000e+00,  0.00000000e+00,  0.00000000e+00, ...,\n",
       "         3.16095698e+00,  8.15867005e-01,  1.01639500e+06],\n",
       "       ...,\n",
       "       [ 0.00000000e+00,  0.00000000e+00,  0.00000000e+00, ...,\n",
       "        -4.95540995e+00,  0.00000000e+00,  1.09315400e+06],\n",
       "       [ 0.00000000e+00,  0.00000000e+00,  0.00000000e+00, ...,\n",
       "         1.70633112e+01,  4.93999313e+00,  1.05408600e+06],\n",
       "       [ 0.00000000e+00,  0.00000000e+00,  0.00000000e+00, ...,\n",
       "         9.67717501e+01,  2.02347334e+01,  1.02424900e+06]])"
      ]
     },
     "execution_count": 10,
     "metadata": {},
     "output_type": "execute_result"
    }
   ],
   "source": [
    "x_train"
   ]
  },
  {
   "cell_type": "code",
   "execution_count": 11,
   "id": "5d6ab330",
   "metadata": {},
   "outputs": [],
   "source": [
    "from sklearn.ensemble import RandomForestRegressor\n",
    "\n",
    "clf = RandomForestRegressor()"
   ]
  },
  {
   "cell_type": "code",
   "execution_count": 12,
   "id": "76b0d9d8",
   "metadata": {},
   "outputs": [
    {
     "data": {
      "text/html": [
       "<style>#sk-container-id-1 {color: black;background-color: white;}#sk-container-id-1 pre{padding: 0;}#sk-container-id-1 div.sk-toggleable {background-color: white;}#sk-container-id-1 label.sk-toggleable__label {cursor: pointer;display: block;width: 100%;margin-bottom: 0;padding: 0.3em;box-sizing: border-box;text-align: center;}#sk-container-id-1 label.sk-toggleable__label-arrow:before {content: \"▸\";float: left;margin-right: 0.25em;color: #696969;}#sk-container-id-1 label.sk-toggleable__label-arrow:hover:before {color: black;}#sk-container-id-1 div.sk-estimator:hover label.sk-toggleable__label-arrow:before {color: black;}#sk-container-id-1 div.sk-toggleable__content {max-height: 0;max-width: 0;overflow: hidden;text-align: left;background-color: #f0f8ff;}#sk-container-id-1 div.sk-toggleable__content pre {margin: 0.2em;color: black;border-radius: 0.25em;background-color: #f0f8ff;}#sk-container-id-1 input.sk-toggleable__control:checked~div.sk-toggleable__content {max-height: 200px;max-width: 100%;overflow: auto;}#sk-container-id-1 input.sk-toggleable__control:checked~label.sk-toggleable__label-arrow:before {content: \"▾\";}#sk-container-id-1 div.sk-estimator input.sk-toggleable__control:checked~label.sk-toggleable__label {background-color: #d4ebff;}#sk-container-id-1 div.sk-label input.sk-toggleable__control:checked~label.sk-toggleable__label {background-color: #d4ebff;}#sk-container-id-1 input.sk-hidden--visually {border: 0;clip: rect(1px 1px 1px 1px);clip: rect(1px, 1px, 1px, 1px);height: 1px;margin: -1px;overflow: hidden;padding: 0;position: absolute;width: 1px;}#sk-container-id-1 div.sk-estimator {font-family: monospace;background-color: #f0f8ff;border: 1px dotted black;border-radius: 0.25em;box-sizing: border-box;margin-bottom: 0.5em;}#sk-container-id-1 div.sk-estimator:hover {background-color: #d4ebff;}#sk-container-id-1 div.sk-parallel-item::after {content: \"\";width: 100%;border-bottom: 1px solid gray;flex-grow: 1;}#sk-container-id-1 div.sk-label:hover label.sk-toggleable__label {background-color: #d4ebff;}#sk-container-id-1 div.sk-serial::before {content: \"\";position: absolute;border-left: 1px solid gray;box-sizing: border-box;top: 0;bottom: 0;left: 50%;z-index: 0;}#sk-container-id-1 div.sk-serial {display: flex;flex-direction: column;align-items: center;background-color: white;padding-right: 0.2em;padding-left: 0.2em;position: relative;}#sk-container-id-1 div.sk-item {position: relative;z-index: 1;}#sk-container-id-1 div.sk-parallel {display: flex;align-items: stretch;justify-content: center;background-color: white;position: relative;}#sk-container-id-1 div.sk-item::before, #sk-container-id-1 div.sk-parallel-item::before {content: \"\";position: absolute;border-left: 1px solid gray;box-sizing: border-box;top: 0;bottom: 0;left: 50%;z-index: -1;}#sk-container-id-1 div.sk-parallel-item {display: flex;flex-direction: column;z-index: 1;position: relative;background-color: white;}#sk-container-id-1 div.sk-parallel-item:first-child::after {align-self: flex-end;width: 50%;}#sk-container-id-1 div.sk-parallel-item:last-child::after {align-self: flex-start;width: 50%;}#sk-container-id-1 div.sk-parallel-item:only-child::after {width: 0;}#sk-container-id-1 div.sk-dashed-wrapped {border: 1px dashed gray;margin: 0 0.4em 0.5em 0.4em;box-sizing: border-box;padding-bottom: 0.4em;background-color: white;}#sk-container-id-1 div.sk-label label {font-family: monospace;font-weight: bold;display: inline-block;line-height: 1.2em;}#sk-container-id-1 div.sk-label-container {text-align: center;}#sk-container-id-1 div.sk-container {/* jupyter's `normalize.less` sets `[hidden] { display: none; }` but bootstrap.min.css set `[hidden] { display: none !important; }` so we also need the `!important` here to be able to override the default hidden behavior on the sphinx rendered scikit-learn.org. See: https://github.com/scikit-learn/scikit-learn/issues/21755 */display: inline-block !important;position: relative;}#sk-container-id-1 div.sk-text-repr-fallback {display: none;}</style><div id=\"sk-container-id-1\" class=\"sk-top-container\"><div class=\"sk-text-repr-fallback\"><pre>RandomForestRegressor()</pre><b>In a Jupyter environment, please rerun this cell to show the HTML representation or trust the notebook. <br />On GitHub, the HTML representation is unable to render, please try loading this page with nbviewer.org.</b></div><div class=\"sk-container\" hidden><div class=\"sk-item\"><div class=\"sk-estimator sk-toggleable\"><input class=\"sk-toggleable__control sk-hidden--visually\" id=\"sk-estimator-id-1\" type=\"checkbox\" checked><label for=\"sk-estimator-id-1\" class=\"sk-toggleable__label sk-toggleable__label-arrow\">RandomForestRegressor</label><div class=\"sk-toggleable__content\"><pre>RandomForestRegressor()</pre></div></div></div></div></div>"
      ],
      "text/plain": [
       "RandomForestRegressor()"
      ]
     },
     "execution_count": 12,
     "metadata": {},
     "output_type": "execute_result"
    }
   ],
   "source": [
    "clf.fit(x_train, y_train)"
   ]
  },
  {
   "cell_type": "code",
   "execution_count": 13,
   "id": "3d8b1d3f",
   "metadata": {},
   "outputs": [],
   "source": [
    "x_test = tranformer.transform(x_test)"
   ]
  },
  {
   "cell_type": "code",
   "execution_count": 14,
   "id": "575c79d6",
   "metadata": {},
   "outputs": [],
   "source": [
    "pred = clf.predict(x_test)"
   ]
  },
  {
   "cell_type": "code",
   "execution_count": 15,
   "id": "364e1e23",
   "metadata": {},
   "outputs": [
    {
     "data": {
      "text/plain": [
       "array([105.37789508, 108.08717253, 103.97675856, ..., 118.64542197,\n",
       "       102.15601858, 100.35685723])"
      ]
     },
     "execution_count": 15,
     "metadata": {},
     "output_type": "execute_result"
    }
   ],
   "source": [
    "pred"
   ]
  },
  {
   "cell_type": "code",
   "execution_count": 16,
   "id": "8bac7396",
   "metadata": {},
   "outputs": [
    {
     "data": {
      "text/plain": [
       "(3750,)"
      ]
     },
     "execution_count": 16,
     "metadata": {},
     "output_type": "execute_result"
    }
   ],
   "source": [
    "y_test = np.array(y_test)\n",
    "y_test.shape"
   ]
  },
  {
   "cell_type": "code",
   "execution_count": 17,
   "id": "c64c8c42",
   "metadata": {},
   "outputs": [
    {
     "data": {
      "text/plain": [
       "(3750,)"
      ]
     },
     "execution_count": 17,
     "metadata": {},
     "output_type": "execute_result"
    }
   ],
   "source": [
    "pred.shape"
   ]
  },
  {
   "cell_type": "code",
   "execution_count": 18,
   "id": "10284ae6",
   "metadata": {},
   "outputs": [
    {
     "data": {
      "text/plain": [
       "0.961425518525109"
      ]
     },
     "execution_count": 18,
     "metadata": {},
     "output_type": "execute_result"
    }
   ],
   "source": [
    "clf.score(x_test, y_test)"
   ]
  },
  {
   "cell_type": "code",
   "execution_count": 19,
   "id": "fb162b91",
   "metadata": {},
   "outputs": [],
   "source": [
    "import math  \n",
    "import sklearn.metrics "
   ]
  },
  {
   "cell_type": "code",
   "execution_count": 20,
   "id": "28945e19",
   "metadata": {},
   "outputs": [],
   "source": [
    "mse = sklearn.metrics.mean_squared_error(y_test, pred)  "
   ]
  },
  {
   "cell_type": "code",
   "execution_count": 21,
   "id": "bb81c74f",
   "metadata": {},
   "outputs": [],
   "source": [
    "rmse = math.sqrt(mse)"
   ]
  },
  {
   "cell_type": "code",
   "execution_count": 22,
   "id": "f7de7189",
   "metadata": {},
   "outputs": [
    {
     "name": "stdout",
     "output_type": "stream",
     "text": [
      "Root Mean Squared Error:  2.0117320846527207\n"
     ]
    }
   ],
   "source": [
    "print(\"Root Mean Squared Error: \", rmse)"
   ]
  },
  {
   "cell_type": "code",
   "execution_count": 23,
   "id": "85e893f3",
   "metadata": {},
   "outputs": [
    {
     "data": {
      "text/html": [
       "<div>\n",
       "<style scoped>\n",
       "    .dataframe tbody tr th:only-of-type {\n",
       "        vertical-align: middle;\n",
       "    }\n",
       "\n",
       "    .dataframe tbody tr th {\n",
       "        vertical-align: top;\n",
       "    }\n",
       "\n",
       "    .dataframe thead th {\n",
       "        text-align: right;\n",
       "    }\n",
       "</style>\n",
       "<table border=\"1\" class=\"dataframe\">\n",
       "  <thead>\n",
       "    <tr style=\"text-align: right;\">\n",
       "      <th></th>\n",
       "      <th>Date</th>\n",
       "      <th>Stock</th>\n",
       "      <th>liabilities</th>\n",
       "      <th>equity</th>\n",
       "      <th>total_assets</th>\n",
       "      <th>current_assets</th>\n",
       "      <th>current_liabilities</th>\n",
       "      <th>total_revenue</th>\n",
       "      <th>net_income</th>\n",
       "      <th>dividend</th>\n",
       "      <th>shares_outstanding</th>\n",
       "    </tr>\n",
       "  </thead>\n",
       "  <tbody>\n",
       "    <tr>\n",
       "      <th>0</th>\n",
       "      <td>2019-01-31</td>\n",
       "      <td>Stock 1</td>\n",
       "      <td>777.137456</td>\n",
       "      <td>411.991482</td>\n",
       "      <td>1189.128938</td>\n",
       "      <td>735.376019</td>\n",
       "      <td>834.292436</td>\n",
       "      <td>101.282767</td>\n",
       "      <td>44.303576</td>\n",
       "      <td>12.430562</td>\n",
       "      <td>1038979</td>\n",
       "    </tr>\n",
       "    <tr>\n",
       "      <th>1</th>\n",
       "      <td>2019-02-28</td>\n",
       "      <td>Stock 1</td>\n",
       "      <td>277.194579</td>\n",
       "      <td>499.621626</td>\n",
       "      <td>776.816206</td>\n",
       "      <td>462.172266</td>\n",
       "      <td>447.906629</td>\n",
       "      <td>119.483578</td>\n",
       "      <td>19.410210</td>\n",
       "      <td>4.298036</td>\n",
       "      <td>1033350</td>\n",
       "    </tr>\n",
       "    <tr>\n",
       "      <th>2</th>\n",
       "      <td>2019-03-29</td>\n",
       "      <td>Stock 1</td>\n",
       "      <td>496.436651</td>\n",
       "      <td>372.604918</td>\n",
       "      <td>869.041569</td>\n",
       "      <td>529.266640</td>\n",
       "      <td>683.167288</td>\n",
       "      <td>482.381171</td>\n",
       "      <td>-47.940167</td>\n",
       "      <td>0.000000</td>\n",
       "      <td>1093455</td>\n",
       "    </tr>\n",
       "    <tr>\n",
       "      <th>3</th>\n",
       "      <td>2019-04-30</td>\n",
       "      <td>Stock 1</td>\n",
       "      <td>484.533101</td>\n",
       "      <td>809.661340</td>\n",
       "      <td>1294.194441</td>\n",
       "      <td>412.770236</td>\n",
       "      <td>350.779135</td>\n",
       "      <td>570.934617</td>\n",
       "      <td>121.963652</td>\n",
       "      <td>31.066241</td>\n",
       "      <td>1047609</td>\n",
       "    </tr>\n",
       "    <tr>\n",
       "      <th>4</th>\n",
       "      <td>2019-05-31</td>\n",
       "      <td>Stock 1</td>\n",
       "      <td>290.520190</td>\n",
       "      <td>715.758617</td>\n",
       "      <td>1006.278807</td>\n",
       "      <td>802.761555</td>\n",
       "      <td>892.693784</td>\n",
       "      <td>277.522337</td>\n",
       "      <td>-78.316857</td>\n",
       "      <td>0.000000</td>\n",
       "      <td>1042163</td>\n",
       "    </tr>\n",
       "    <tr>\n",
       "      <th>...</th>\n",
       "      <td>...</td>\n",
       "      <td>...</td>\n",
       "      <td>...</td>\n",
       "      <td>...</td>\n",
       "      <td>...</td>\n",
       "      <td>...</td>\n",
       "      <td>...</td>\n",
       "      <td>...</td>\n",
       "      <td>...</td>\n",
       "      <td>...</td>\n",
       "      <td>...</td>\n",
       "    </tr>\n",
       "    <tr>\n",
       "      <th>4995</th>\n",
       "      <td>2022-10-31</td>\n",
       "      <td>Stock 100</td>\n",
       "      <td>408.766312</td>\n",
       "      <td>440.569040</td>\n",
       "      <td>849.335352</td>\n",
       "      <td>348.102723</td>\n",
       "      <td>312.827547</td>\n",
       "      <td>150.677789</td>\n",
       "      <td>-3.197117</td>\n",
       "      <td>0.000000</td>\n",
       "      <td>1028799</td>\n",
       "    </tr>\n",
       "    <tr>\n",
       "      <th>4996</th>\n",
       "      <td>2022-11-30</td>\n",
       "      <td>Stock 100</td>\n",
       "      <td>492.923805</td>\n",
       "      <td>731.542040</td>\n",
       "      <td>1224.465846</td>\n",
       "      <td>915.110188</td>\n",
       "      <td>892.471680</td>\n",
       "      <td>529.905187</td>\n",
       "      <td>148.531273</td>\n",
       "      <td>30.964416</td>\n",
       "      <td>1004215</td>\n",
       "    </tr>\n",
       "    <tr>\n",
       "      <th>4997</th>\n",
       "      <td>2022-12-30</td>\n",
       "      <td>Stock 100</td>\n",
       "      <td>392.331633</td>\n",
       "      <td>705.422815</td>\n",
       "      <td>1097.754448</td>\n",
       "      <td>353.436744</td>\n",
       "      <td>420.021023</td>\n",
       "      <td>963.856236</td>\n",
       "      <td>-19.214152</td>\n",
       "      <td>0.000000</td>\n",
       "      <td>1005944</td>\n",
       "    </tr>\n",
       "    <tr>\n",
       "      <th>4998</th>\n",
       "      <td>2023-01-31</td>\n",
       "      <td>Stock 100</td>\n",
       "      <td>273.102651</td>\n",
       "      <td>817.198302</td>\n",
       "      <td>1090.300953</td>\n",
       "      <td>787.193836</td>\n",
       "      <td>962.158503</td>\n",
       "      <td>437.654297</td>\n",
       "      <td>13.658068</td>\n",
       "      <td>3.390605</td>\n",
       "      <td>1028097</td>\n",
       "    </tr>\n",
       "    <tr>\n",
       "      <th>4999</th>\n",
       "      <td>2023-02-28</td>\n",
       "      <td>Stock 100</td>\n",
       "      <td>730.523595</td>\n",
       "      <td>532.192933</td>\n",
       "      <td>1262.716528</td>\n",
       "      <td>704.073355</td>\n",
       "      <td>743.358247</td>\n",
       "      <td>370.216809</td>\n",
       "      <td>-100.709161</td>\n",
       "      <td>0.000000</td>\n",
       "      <td>1000408</td>\n",
       "    </tr>\n",
       "  </tbody>\n",
       "</table>\n",
       "<p>5000 rows × 11 columns</p>\n",
       "</div>"
      ],
      "text/plain": [
       "            Date      Stock  liabilities      equity  total_assets  \\\n",
       "0     2019-01-31    Stock 1   777.137456  411.991482   1189.128938   \n",
       "1     2019-02-28    Stock 1   277.194579  499.621626    776.816206   \n",
       "2     2019-03-29    Stock 1   496.436651  372.604918    869.041569   \n",
       "3     2019-04-30    Stock 1   484.533101  809.661340   1294.194441   \n",
       "4     2019-05-31    Stock 1   290.520190  715.758617   1006.278807   \n",
       "...          ...        ...          ...         ...           ...   \n",
       "4995  2022-10-31  Stock 100   408.766312  440.569040    849.335352   \n",
       "4996  2022-11-30  Stock 100   492.923805  731.542040   1224.465846   \n",
       "4997  2022-12-30  Stock 100   392.331633  705.422815   1097.754448   \n",
       "4998  2023-01-31  Stock 100   273.102651  817.198302   1090.300953   \n",
       "4999  2023-02-28  Stock 100   730.523595  532.192933   1262.716528   \n",
       "\n",
       "      current_assets  current_liabilities  total_revenue  net_income  \\\n",
       "0         735.376019           834.292436     101.282767   44.303576   \n",
       "1         462.172266           447.906629     119.483578   19.410210   \n",
       "2         529.266640           683.167288     482.381171  -47.940167   \n",
       "3         412.770236           350.779135     570.934617  121.963652   \n",
       "4         802.761555           892.693784     277.522337  -78.316857   \n",
       "...              ...                  ...            ...         ...   \n",
       "4995      348.102723           312.827547     150.677789   -3.197117   \n",
       "4996      915.110188           892.471680     529.905187  148.531273   \n",
       "4997      353.436744           420.021023     963.856236  -19.214152   \n",
       "4998      787.193836           962.158503     437.654297   13.658068   \n",
       "4999      704.073355           743.358247     370.216809 -100.709161   \n",
       "\n",
       "       dividend  shares_outstanding  \n",
       "0     12.430562             1038979  \n",
       "1      4.298036             1033350  \n",
       "2      0.000000             1093455  \n",
       "3     31.066241             1047609  \n",
       "4      0.000000             1042163  \n",
       "...         ...                 ...  \n",
       "4995   0.000000             1028799  \n",
       "4996  30.964416             1004215  \n",
       "4997   0.000000             1005944  \n",
       "4998   3.390605             1028097  \n",
       "4999   0.000000             1000408  \n",
       "\n",
       "[5000 rows x 11 columns]"
      ]
     },
     "execution_count": 23,
     "metadata": {},
     "output_type": "execute_result"
    }
   ],
   "source": [
    "test_value = pd.read_csv('Test_x.csv')\n",
    "test_value"
   ]
  },
  {
   "cell_type": "code",
   "execution_count": 24,
   "id": "1cdbb596",
   "metadata": {},
   "outputs": [],
   "source": [
    "import datetime as dt\n",
    "test_value['Date'] = pd.to_datetime(test_value['Date'])\n",
    "test_value['Date']=test_value['Date'].map(dt.datetime.toordinal)"
   ]
  },
  {
   "cell_type": "code",
   "execution_count": 25,
   "id": "db26254e",
   "metadata": {},
   "outputs": [
    {
     "name": "stderr",
     "output_type": "stream",
     "text": [
      "C:\\Users\\Family PC\\anaconda3\\lib\\site-packages\\sklearn\\preprocessing\\_encoders.py:828: FutureWarning: `sparse` was renamed to `sparse_output` in version 1.2 and will be removed in 1.4. `sparse_output` is ignored unless you leave `sparse` to its default value.\n",
      "  warnings.warn(\n"
     ]
    }
   ],
   "source": [
    "new_test_value = tranformer.fit_transform(test_value)"
   ]
  },
  {
   "cell_type": "code",
   "execution_count": 26,
   "id": "280bcec0",
   "metadata": {},
   "outputs": [
    {
     "data": {
      "text/plain": [
       "array([106.39241094, 105.02951889, 104.98077224, ..., 104.27176181,\n",
       "       104.65125133, 106.44609468])"
      ]
     },
     "execution_count": 26,
     "metadata": {},
     "output_type": "execute_result"
    }
   ],
   "source": [
    "pred = clf.predict(new_test_value)\n",
    "pred"
   ]
  },
  {
   "cell_type": "code",
   "execution_count": 27,
   "id": "360f5e71",
   "metadata": {},
   "outputs": [],
   "source": [
    "output = pd.DataFrame({'Stock':test_value.Stock, 'cost':pred})\n",
    "output.to_csv('Stocks_Price.csv', index = False)"
   ]
  }
 ],
 "metadata": {
  "kernelspec": {
   "display_name": "Python 3 (ipykernel)",
   "language": "python",
   "name": "python3"
  },
  "language_info": {
   "codemirror_mode": {
    "name": "ipython",
    "version": 3
   },
   "file_extension": ".py",
   "mimetype": "text/x-python",
   "name": "python",
   "nbconvert_exporter": "python",
   "pygments_lexer": "ipython3",
   "version": "3.10.9"
  }
 },
 "nbformat": 4,
 "nbformat_minor": 5
}
