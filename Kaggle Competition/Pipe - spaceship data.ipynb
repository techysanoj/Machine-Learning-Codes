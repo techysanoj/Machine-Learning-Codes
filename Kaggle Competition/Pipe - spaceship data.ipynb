{
 "cells": [
  {
   "cell_type": "code",
   "execution_count": 1,
   "id": "b7f2e999-6841-4cfb-99fa-a94c7f124257",
   "metadata": {},
   "outputs": [],
   "source": [
    "import numpy as np\n",
    "import pandas as pd"
   ]
  },
  {
   "cell_type": "code",
   "execution_count": 2,
   "id": "66ef3d7b-d16b-4ceb-8184-75f016687a30",
   "metadata": {},
   "outputs": [],
   "source": [
    "from sklearn.model_selection import train_test_split\n",
    "from sklearn.compose import ColumnTransformer\n",
    "from sklearn.impute import SimpleImputer\n",
    "from sklearn.preprocessing import OneHotEncoder\n",
    "from sklearn.preprocessing import MinMaxScaler\n",
    "from sklearn.pipeline import Pipeline , make_pipeline\n",
    "from sklearn.feature_selection import SelectKBest, chi2\n",
    "from sklearn.tree import DecisionTreeClassifier"
   ]
  },
  {
   "cell_type": "code",
   "execution_count": 3,
   "id": "d1af3296-6d51-4ff8-895d-8620559b7e56",
   "metadata": {},
   "outputs": [
    {
     "data": {
      "text/html": [
       "<div>\n",
       "<style scoped>\n",
       "    .dataframe tbody tr th:only-of-type {\n",
       "        vertical-align: middle;\n",
       "    }\n",
       "\n",
       "    .dataframe tbody tr th {\n",
       "        vertical-align: top;\n",
       "    }\n",
       "\n",
       "    .dataframe thead th {\n",
       "        text-align: right;\n",
       "    }\n",
       "</style>\n",
       "<table border=\"1\" class=\"dataframe\">\n",
       "  <thead>\n",
       "    <tr style=\"text-align: right;\">\n",
       "      <th></th>\n",
       "      <th>Date</th>\n",
       "      <th>Stock</th>\n",
       "      <th>liabilities</th>\n",
       "      <th>equity</th>\n",
       "      <th>total_assets</th>\n",
       "      <th>current_assets</th>\n",
       "      <th>current_liabilities</th>\n",
       "      <th>total_revenue</th>\n",
       "      <th>net_income</th>\n",
       "      <th>dividend</th>\n",
       "      <th>shares_outstanding</th>\n",
       "      <th>price</th>\n",
       "    </tr>\n",
       "  </thead>\n",
       "  <tbody>\n",
       "    <tr>\n",
       "      <th>0</th>\n",
       "      <td>2006-07-31</td>\n",
       "      <td>Stock 1</td>\n",
       "      <td>625.898686</td>\n",
       "      <td>925.086518</td>\n",
       "      <td>1550.985204</td>\n",
       "      <td>675.789905</td>\n",
       "      <td>555.931329</td>\n",
       "      <td>548.488451</td>\n",
       "      <td>251.282553</td>\n",
       "      <td>68.184030</td>\n",
       "      <td>1040831</td>\n",
       "      <td>100.000000</td>\n",
       "    </tr>\n",
       "    <tr>\n",
       "      <th>1</th>\n",
       "      <td>2006-08-31</td>\n",
       "      <td>Stock 1</td>\n",
       "      <td>407.387467</td>\n",
       "      <td>903.249093</td>\n",
       "      <td>1310.636561</td>\n",
       "      <td>1023.110983</td>\n",
       "      <td>1295.186240</td>\n",
       "      <td>513.446432</td>\n",
       "      <td>207.576940</td>\n",
       "      <td>42.232672</td>\n",
       "      <td>1046649</td>\n",
       "      <td>101.924169</td>\n",
       "    </tr>\n",
       "    <tr>\n",
       "      <th>2</th>\n",
       "      <td>2006-09-29</td>\n",
       "      <td>Stock 1</td>\n",
       "      <td>464.069891</td>\n",
       "      <td>602.668832</td>\n",
       "      <td>1066.738722</td>\n",
       "      <td>709.711673</td>\n",
       "      <td>598.719338</td>\n",
       "      <td>503.519871</td>\n",
       "      <td>133.719700</td>\n",
       "      <td>28.835722</td>\n",
       "      <td>1094158</td>\n",
       "      <td>103.166191</td>\n",
       "    </tr>\n",
       "    <tr>\n",
       "      <th>3</th>\n",
       "      <td>2006-10-31</td>\n",
       "      <td>Stock 1</td>\n",
       "      <td>855.854937</td>\n",
       "      <td>391.375369</td>\n",
       "      <td>1247.230306</td>\n",
       "      <td>649.979564</td>\n",
       "      <td>733.594339</td>\n",
       "      <td>596.006397</td>\n",
       "      <td>-76.881818</td>\n",
       "      <td>0.000000</td>\n",
       "      <td>1018574</td>\n",
       "      <td>104.478956</td>\n",
       "    </tr>\n",
       "    <tr>\n",
       "      <th>4</th>\n",
       "      <td>2006-11-30</td>\n",
       "      <td>Stock 1</td>\n",
       "      <td>453.954969</td>\n",
       "      <td>956.490566</td>\n",
       "      <td>1410.445534</td>\n",
       "      <td>1115.594551</td>\n",
       "      <td>1152.274711</td>\n",
       "      <td>965.939247</td>\n",
       "      <td>-309.204301</td>\n",
       "      <td>0.000000</td>\n",
       "      <td>1036293</td>\n",
       "      <td>104.160907</td>\n",
       "    </tr>\n",
       "    <tr>\n",
       "      <th>...</th>\n",
       "      <td>...</td>\n",
       "      <td>...</td>\n",
       "      <td>...</td>\n",
       "      <td>...</td>\n",
       "      <td>...</td>\n",
       "      <td>...</td>\n",
       "      <td>...</td>\n",
       "      <td>...</td>\n",
       "      <td>...</td>\n",
       "      <td>...</td>\n",
       "      <td>...</td>\n",
       "      <td>...</td>\n",
       "    </tr>\n",
       "    <tr>\n",
       "      <th>14995</th>\n",
       "      <td>2018-08-31</td>\n",
       "      <td>Stock 100</td>\n",
       "      <td>810.402398</td>\n",
       "      <td>953.465125</td>\n",
       "      <td>1763.867523</td>\n",
       "      <td>1014.718528</td>\n",
       "      <td>957.998121</td>\n",
       "      <td>675.953821</td>\n",
       "      <td>102.346000</td>\n",
       "      <td>21.785595</td>\n",
       "      <td>1016713</td>\n",
       "      <td>101.747952</td>\n",
       "    </tr>\n",
       "    <tr>\n",
       "      <th>14996</th>\n",
       "      <td>2018-09-28</td>\n",
       "      <td>Stock 100</td>\n",
       "      <td>811.620957</td>\n",
       "      <td>443.679899</td>\n",
       "      <td>1255.300856</td>\n",
       "      <td>392.059390</td>\n",
       "      <td>365.958118</td>\n",
       "      <td>815.913721</td>\n",
       "      <td>-301.200669</td>\n",
       "      <td>0.000000</td>\n",
       "      <td>1042638</td>\n",
       "      <td>102.039499</td>\n",
       "    </tr>\n",
       "    <tr>\n",
       "      <th>14997</th>\n",
       "      <td>2018-10-31</td>\n",
       "      <td>Stock 100</td>\n",
       "      <td>739.371050</td>\n",
       "      <td>423.172140</td>\n",
       "      <td>1162.543189</td>\n",
       "      <td>478.844995</td>\n",
       "      <td>396.603049</td>\n",
       "      <td>550.561664</td>\n",
       "      <td>227.299298</td>\n",
       "      <td>56.788344</td>\n",
       "      <td>1077825</td>\n",
       "      <td>101.126752</td>\n",
       "    </tr>\n",
       "    <tr>\n",
       "      <th>14998</th>\n",
       "      <td>2018-11-30</td>\n",
       "      <td>Stock 100</td>\n",
       "      <td>741.898496</td>\n",
       "      <td>286.891422</td>\n",
       "      <td>1028.789919</td>\n",
       "      <td>347.793349</td>\n",
       "      <td>358.229637</td>\n",
       "      <td>176.189978</td>\n",
       "      <td>19.405005</td>\n",
       "      <td>5.183536</td>\n",
       "      <td>1003161</td>\n",
       "      <td>102.020776</td>\n",
       "    </tr>\n",
       "    <tr>\n",
       "      <th>14999</th>\n",
       "      <td>2018-12-31</td>\n",
       "      <td>Stock 100</td>\n",
       "      <td>772.426342</td>\n",
       "      <td>538.766121</td>\n",
       "      <td>1311.192462</td>\n",
       "      <td>440.572996</td>\n",
       "      <td>493.849915</td>\n",
       "      <td>586.705439</td>\n",
       "      <td>260.221041</td>\n",
       "      <td>65.005348</td>\n",
       "      <td>1021927</td>\n",
       "      <td>102.594684</td>\n",
       "    </tr>\n",
       "  </tbody>\n",
       "</table>\n",
       "<p>15000 rows × 12 columns</p>\n",
       "</div>"
      ],
      "text/plain": [
       "             Date      Stock  liabilities      equity  total_assets  \\\n",
       "0      2006-07-31    Stock 1   625.898686  925.086518   1550.985204   \n",
       "1      2006-08-31    Stock 1   407.387467  903.249093   1310.636561   \n",
       "2      2006-09-29    Stock 1   464.069891  602.668832   1066.738722   \n",
       "3      2006-10-31    Stock 1   855.854937  391.375369   1247.230306   \n",
       "4      2006-11-30    Stock 1   453.954969  956.490566   1410.445534   \n",
       "...           ...        ...          ...         ...           ...   \n",
       "14995  2018-08-31  Stock 100   810.402398  953.465125   1763.867523   \n",
       "14996  2018-09-28  Stock 100   811.620957  443.679899   1255.300856   \n",
       "14997  2018-10-31  Stock 100   739.371050  423.172140   1162.543189   \n",
       "14998  2018-11-30  Stock 100   741.898496  286.891422   1028.789919   \n",
       "14999  2018-12-31  Stock 100   772.426342  538.766121   1311.192462   \n",
       "\n",
       "       current_assets  current_liabilities  total_revenue  net_income  \\\n",
       "0          675.789905           555.931329     548.488451  251.282553   \n",
       "1         1023.110983          1295.186240     513.446432  207.576940   \n",
       "2          709.711673           598.719338     503.519871  133.719700   \n",
       "3          649.979564           733.594339     596.006397  -76.881818   \n",
       "4         1115.594551          1152.274711     965.939247 -309.204301   \n",
       "...               ...                  ...            ...         ...   \n",
       "14995     1014.718528           957.998121     675.953821  102.346000   \n",
       "14996      392.059390           365.958118     815.913721 -301.200669   \n",
       "14997      478.844995           396.603049     550.561664  227.299298   \n",
       "14998      347.793349           358.229637     176.189978   19.405005   \n",
       "14999      440.572996           493.849915     586.705439  260.221041   \n",
       "\n",
       "        dividend  shares_outstanding       price  \n",
       "0      68.184030             1040831  100.000000  \n",
       "1      42.232672             1046649  101.924169  \n",
       "2      28.835722             1094158  103.166191  \n",
       "3       0.000000             1018574  104.478956  \n",
       "4       0.000000             1036293  104.160907  \n",
       "...          ...                 ...         ...  \n",
       "14995  21.785595             1016713  101.747952  \n",
       "14996   0.000000             1042638  102.039499  \n",
       "14997  56.788344             1077825  101.126752  \n",
       "14998   5.183536             1003161  102.020776  \n",
       "14999  65.005348             1021927  102.594684  \n",
       "\n",
       "[15000 rows x 12 columns]"
      ]
     },
     "execution_count": 3,
     "metadata": {},
     "output_type": "execute_result"
    }
   ],
   "source": [
    "df = pd.read_csv('train.csv')\n",
    "df"
   ]
  },
  {
   "cell_type": "code",
   "execution_count": 4,
   "id": "50124316-dfcb-41bc-a7c0-038af0cd252e",
   "metadata": {},
   "outputs": [
    {
     "ename": "KeyError",
     "evalue": "'RoomService'",
     "output_type": "error",
     "traceback": [
      "\u001b[1;31m---------------------------------------------------------------------------\u001b[0m",
      "\u001b[1;31mKeyError\u001b[0m                                  Traceback (most recent call last)",
      "File \u001b[1;32m~\\anaconda3\\lib\\site-packages\\pandas\\core\\indexes\\base.py:3802\u001b[0m, in \u001b[0;36mIndex.get_loc\u001b[1;34m(self, key, method, tolerance)\u001b[0m\n\u001b[0;32m   3801\u001b[0m \u001b[38;5;28;01mtry\u001b[39;00m:\n\u001b[1;32m-> 3802\u001b[0m     \u001b[38;5;28;01mreturn\u001b[39;00m \u001b[38;5;28;43mself\u001b[39;49m\u001b[38;5;241;43m.\u001b[39;49m\u001b[43m_engine\u001b[49m\u001b[38;5;241;43m.\u001b[39;49m\u001b[43mget_loc\u001b[49m\u001b[43m(\u001b[49m\u001b[43mcasted_key\u001b[49m\u001b[43m)\u001b[49m\n\u001b[0;32m   3803\u001b[0m \u001b[38;5;28;01mexcept\u001b[39;00m \u001b[38;5;167;01mKeyError\u001b[39;00m \u001b[38;5;28;01mas\u001b[39;00m err:\n",
      "File \u001b[1;32m~\\anaconda3\\lib\\site-packages\\pandas\\_libs\\index.pyx:138\u001b[0m, in \u001b[0;36mpandas._libs.index.IndexEngine.get_loc\u001b[1;34m()\u001b[0m\n",
      "File \u001b[1;32m~\\anaconda3\\lib\\site-packages\\pandas\\_libs\\index.pyx:165\u001b[0m, in \u001b[0;36mpandas._libs.index.IndexEngine.get_loc\u001b[1;34m()\u001b[0m\n",
      "File \u001b[1;32mpandas\\_libs\\hashtable_class_helper.pxi:5745\u001b[0m, in \u001b[0;36mpandas._libs.hashtable.PyObjectHashTable.get_item\u001b[1;34m()\u001b[0m\n",
      "File \u001b[1;32mpandas\\_libs\\hashtable_class_helper.pxi:5753\u001b[0m, in \u001b[0;36mpandas._libs.hashtable.PyObjectHashTable.get_item\u001b[1;34m()\u001b[0m\n",
      "\u001b[1;31mKeyError\u001b[0m: 'RoomService'",
      "\nThe above exception was the direct cause of the following exception:\n",
      "\u001b[1;31mKeyError\u001b[0m                                  Traceback (most recent call last)",
      "Cell \u001b[1;32mIn[4], line 1\u001b[0m\n\u001b[1;32m----> 1\u001b[0m df[\u001b[38;5;124m'\u001b[39m\u001b[38;5;124mTotalExpense\u001b[39m\u001b[38;5;124m'\u001b[39m] \u001b[38;5;241m=\u001b[39m \u001b[43mdf\u001b[49m\u001b[43m[\u001b[49m\u001b[38;5;124;43m'\u001b[39;49m\u001b[38;5;124;43mRoomService\u001b[39;49m\u001b[38;5;124;43m'\u001b[39;49m\u001b[43m]\u001b[49m \u001b[38;5;241m+\u001b[39m df[\u001b[38;5;124m'\u001b[39m\u001b[38;5;124mFoodCourt\u001b[39m\u001b[38;5;124m'\u001b[39m]\u001b[38;5;241m+\u001b[39m df[\u001b[38;5;124m'\u001b[39m\u001b[38;5;124mShoppingMall\u001b[39m\u001b[38;5;124m'\u001b[39m]\u001b[38;5;241m+\u001b[39m df[\u001b[38;5;124m'\u001b[39m\u001b[38;5;124mSpa\u001b[39m\u001b[38;5;124m'\u001b[39m]\u001b[38;5;241m+\u001b[39m df[\u001b[38;5;124m'\u001b[39m\u001b[38;5;124mVRDeck\u001b[39m\u001b[38;5;124m'\u001b[39m]\n",
      "File \u001b[1;32m~\\anaconda3\\lib\\site-packages\\pandas\\core\\frame.py:3807\u001b[0m, in \u001b[0;36mDataFrame.__getitem__\u001b[1;34m(self, key)\u001b[0m\n\u001b[0;32m   3805\u001b[0m \u001b[38;5;28;01mif\u001b[39;00m \u001b[38;5;28mself\u001b[39m\u001b[38;5;241m.\u001b[39mcolumns\u001b[38;5;241m.\u001b[39mnlevels \u001b[38;5;241m>\u001b[39m \u001b[38;5;241m1\u001b[39m:\n\u001b[0;32m   3806\u001b[0m     \u001b[38;5;28;01mreturn\u001b[39;00m \u001b[38;5;28mself\u001b[39m\u001b[38;5;241m.\u001b[39m_getitem_multilevel(key)\n\u001b[1;32m-> 3807\u001b[0m indexer \u001b[38;5;241m=\u001b[39m \u001b[38;5;28;43mself\u001b[39;49m\u001b[38;5;241;43m.\u001b[39;49m\u001b[43mcolumns\u001b[49m\u001b[38;5;241;43m.\u001b[39;49m\u001b[43mget_loc\u001b[49m\u001b[43m(\u001b[49m\u001b[43mkey\u001b[49m\u001b[43m)\u001b[49m\n\u001b[0;32m   3808\u001b[0m \u001b[38;5;28;01mif\u001b[39;00m is_integer(indexer):\n\u001b[0;32m   3809\u001b[0m     indexer \u001b[38;5;241m=\u001b[39m [indexer]\n",
      "File \u001b[1;32m~\\anaconda3\\lib\\site-packages\\pandas\\core\\indexes\\base.py:3804\u001b[0m, in \u001b[0;36mIndex.get_loc\u001b[1;34m(self, key, method, tolerance)\u001b[0m\n\u001b[0;32m   3802\u001b[0m     \u001b[38;5;28;01mreturn\u001b[39;00m \u001b[38;5;28mself\u001b[39m\u001b[38;5;241m.\u001b[39m_engine\u001b[38;5;241m.\u001b[39mget_loc(casted_key)\n\u001b[0;32m   3803\u001b[0m \u001b[38;5;28;01mexcept\u001b[39;00m \u001b[38;5;167;01mKeyError\u001b[39;00m \u001b[38;5;28;01mas\u001b[39;00m err:\n\u001b[1;32m-> 3804\u001b[0m     \u001b[38;5;28;01mraise\u001b[39;00m \u001b[38;5;167;01mKeyError\u001b[39;00m(key) \u001b[38;5;28;01mfrom\u001b[39;00m \u001b[38;5;21;01merr\u001b[39;00m\n\u001b[0;32m   3805\u001b[0m \u001b[38;5;28;01mexcept\u001b[39;00m \u001b[38;5;167;01mTypeError\u001b[39;00m:\n\u001b[0;32m   3806\u001b[0m     \u001b[38;5;66;03m# If we have a listlike key, _check_indexing_error will raise\u001b[39;00m\n\u001b[0;32m   3807\u001b[0m     \u001b[38;5;66;03m#  InvalidIndexError. Otherwise we fall through and re-raise\u001b[39;00m\n\u001b[0;32m   3808\u001b[0m     \u001b[38;5;66;03m#  the TypeError.\u001b[39;00m\n\u001b[0;32m   3809\u001b[0m     \u001b[38;5;28mself\u001b[39m\u001b[38;5;241m.\u001b[39m_check_indexing_error(key)\n",
      "\u001b[1;31mKeyError\u001b[0m: 'RoomService'"
     ]
    }
   ],
   "source": [
    "df['TotalExpense'] = df['RoomService'] + df['FoodCourt']+ df['ShoppingMall']+ df['Spa']+ df['VRDeck']"
   ]
  },
  {
   "cell_type": "code",
   "execution_count": null,
   "id": "e1b99438-f685-4b94-8040-dfb95e506e11",
   "metadata": {},
   "outputs": [],
   "source": [
    "df"
   ]
  },
  {
   "cell_type": "code",
   "execution_count": null,
   "id": "00dbef5d-291b-487c-9795-01fb4d001062",
   "metadata": {},
   "outputs": [],
   "source": [
    "df.drop(columns=['PassengerId','Cabin','RoomService','FoodCourt','ShoppingMall','Spa','VRDeck','Name'], inplace = True)"
   ]
  },
  {
   "cell_type": "code",
   "execution_count": null,
   "id": "021612a8-c6a1-4158-a56b-78fb758e3357",
   "metadata": {},
   "outputs": [],
   "source": [
    "df"
   ]
  },
  {
   "cell_type": "code",
   "execution_count": null,
   "id": "b5aded99-1087-486f-a858-ec6a706a545a",
   "metadata": {},
   "outputs": [],
   "source": [
    "X_train, X_test, Y_train, Y_test = train_test_split(df.drop(columns = ['Transported']), df['Transported'], random_state = 1)"
   ]
  },
  {
   "cell_type": "code",
   "execution_count": null,
   "id": "34d333f0-1d3f-48e2-8709-160ce6c03288",
   "metadata": {},
   "outputs": [],
   "source": [
    "X_train"
   ]
  },
  {
   "cell_type": "code",
   "execution_count": null,
   "id": "6b193fde-a59f-4de9-a71c-c4dd1cf1c6c3",
   "metadata": {},
   "outputs": [],
   "source": [
    "X_train.isnull().sum()"
   ]
  },
  {
   "cell_type": "code",
   "execution_count": null,
   "id": "143b4d6e-578d-48c8-a8dc-680b7b4a0a9d",
   "metadata": {},
   "outputs": [],
   "source": [
    "X_train['HomePlanet'].count()"
   ]
  },
  {
   "cell_type": "code",
   "execution_count": null,
   "id": "2514b912-c713-434a-8480-835b951f97c3",
   "metadata": {},
   "outputs": [],
   "source": [
    "trf1 = ColumnTransformer([\n",
    "    ('age_inpute', SimpleImputer(), [3]),\n",
    "    ('Total_expense', SimpleImputer(), [5]),\n",
    "    ('Home_planet', SimpleImputer(strategy = 'most_frequent'), [0]),\n",
    "    ('Cryo_Sleep', SimpleImputer(strategy = 'most_frequent'), [1]),\n",
    "    ('Destination', SimpleImputer(strategy = 'most_frequent'), [2]),\n",
    "    ('Vip_1', SimpleImputer(strategy = 'most_frequent'), [4])\n",
    "])"
   ]
  },
  {
   "cell_type": "code",
   "execution_count": null,
   "id": "56cdcfb9-2cef-447a-a451-4d45f7dd83e5",
   "metadata": {},
   "outputs": [],
   "source": [
    "X_train"
   ]
  },
  {
   "cell_type": "code",
   "execution_count": null,
   "id": "aa930fce",
   "metadata": {},
   "outputs": [],
   "source": [
    "Y_train"
   ]
  },
  {
   "cell_type": "code",
   "execution_count": null,
   "id": "acc9708b-0349-4355-9ef9-1defa9c08041",
   "metadata": {},
   "outputs": [],
   "source": [
    "trf2 = ColumnTransformer(\n",
    "[\n",
    "    ('HomePlanet_ohe',OneHotEncoder(sparse = False, handle_unknown = 'ignore', drop = 'first'), [0]),\n",
    "    ('CryoSleep_ohe',OneHotEncoder(sparse = False, handle_unknown = 'ignore', drop = 'first'), [1]),\n",
    "    ('Destination_ohe',OneHotEncoder(sparse = False, handle_unknown = 'ignore', drop = 'first'), [2]),\n",
    "    ('vip_ohe',OneHotEncoder(sparse = False, handle_unknown = 'ignore', drop = 'first'), [4])\n",
    "]\n",
    ")"
   ]
  },
  {
   "cell_type": "code",
   "execution_count": null,
   "id": "cf3a4489",
   "metadata": {},
   "outputs": [],
   "source": [
    "from keras.models import Sequential"
   ]
  },
  {
   "cell_type": "code",
   "execution_count": null,
   "id": "f781014a",
   "metadata": {},
   "outputs": [],
   "source": [
    "model = Sequential()"
   ]
  },
  {
   "cell_type": "code",
   "execution_count": null,
   "id": "3fea420e",
   "metadata": {},
   "outputs": [],
   "source": [
    "from keras.layers import Dense"
   ]
  },
  {
   "cell_type": "code",
   "execution_count": null,
   "id": "b8fe54a1",
   "metadata": {},
   "outputs": [],
   "source": [
    "model.add(Dense(units = 15, activation = 'relu', input_dim = 6))\n",
    "model.add(Dense(units = 10, activation = 'relu'))\n",
    "model.add(Dense(units = 1, activation = 'sigmoid'))"
   ]
  },
  {
   "cell_type": "code",
   "execution_count": null,
   "id": "726ac3fd",
   "metadata": {},
   "outputs": [],
   "source": [
    "model.compile(optimizer = 'adam', loss = 'binary_crossentropy', metrics = ['accuracy'])"
   ]
  },
  {
   "cell_type": "code",
   "execution_count": null,
   "id": "be184fb2",
   "metadata": {},
   "outputs": [],
   "source": [
    "X_train"
   ]
  },
  {
   "cell_type": "code",
   "execution_count": null,
   "id": "7f036ed5",
   "metadata": {},
   "outputs": [],
   "source": [
    "import tensorflow as tf"
   ]
  },
  {
   "cell_type": "code",
   "execution_count": null,
   "id": "dedb2c76",
   "metadata": {},
   "outputs": [],
   "source": [
    "X_train['VIP'] = np.asarray(X_train['VIP']).astype(np.float32)\n",
    "X_train['CryoSleep'] = np.asarray(X_train['CryoSleep']).astype(np.float32)\n"
   ]
  },
  {
   "cell_type": "code",
   "execution_count": null,
   "id": "049e012a-5b00-4fcf-8b51-6589884e2868",
   "metadata": {},
   "outputs": [],
   "source": [
    "Pipe = make_pipeline(trf1, trf2)"
   ]
  },
  {
   "cell_type": "code",
   "execution_count": null,
   "id": "86f85f80-eb56-4a40-b741-710ec123f6ed",
   "metadata": {},
   "outputs": [],
   "source": [
    "Pipe.fit(X_train,Y_train)"
   ]
  },
  {
   "cell_type": "code",
   "execution_count": null,
   "id": "c3db9be3-500a-4b01-9a34-de73a30f5488",
   "metadata": {},
   "outputs": [],
   "source": [
    "X_train.nunique(axis = 0)"
   ]
  },
  {
   "cell_type": "code",
   "execution_count": null,
   "id": "a1a28588-ed3f-4ba6-b56a-d7404ac49b4a",
   "metadata": {},
   "outputs": [],
   "source": [
    "X_test.nunique(axis=0)"
   ]
  },
  {
   "cell_type": "code",
   "execution_count": null,
   "id": "4802d1bf-68a3-4c3a-97c1-4e978d3c2c5b",
   "metadata": {},
   "outputs": [],
   "source": [
    "import pickle \n",
    "pickle.dump(Pipe, open('pipe_spaceship.pkl', 'wb'))"
   ]
  }
 ],
 "metadata": {
  "kernelspec": {
   "display_name": "Python 3 (ipykernel)",
   "language": "python",
   "name": "python3"
  },
  "language_info": {
   "codemirror_mode": {
    "name": "ipython",
    "version": 3
   },
   "file_extension": ".py",
   "mimetype": "text/x-python",
   "name": "python",
   "nbconvert_exporter": "python",
   "pygments_lexer": "ipython3",
   "version": "3.10.9"
  }
 },
 "nbformat": 4,
 "nbformat_minor": 5
}
