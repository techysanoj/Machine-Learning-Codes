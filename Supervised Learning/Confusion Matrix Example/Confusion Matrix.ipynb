{
 "cells": [
  {
   "cell_type": "code",
   "execution_count": 46,
   "id": "0e977afc-af5e-4d18-a7bc-548d1ca153be",
   "metadata": {},
   "outputs": [],
   "source": [
    "import numpy as np\n",
    "import pandas as pd\n",
    "\n",
    "from sklearn import datasets"
   ]
  },
  {
   "cell_type": "code",
   "execution_count": 47,
   "id": "14fca331-8970-4a0f-8152-3c2714503c6b",
   "metadata": {},
   "outputs": [],
   "source": [
    "from sklearn.linear_model import LogisticRegression\n",
    "from sklearn.model_selection import train_test_split"
   ]
  },
  {
   "cell_type": "code",
   "execution_count": 48,
   "id": "c26dbb47-08b6-41dd-9f22-fbf2737943e8",
   "metadata": {},
   "outputs": [],
   "source": [
    "iris = datasets.load_iris()"
   ]
  },
  {
   "cell_type": "code",
   "execution_count": 49,
   "id": "9c9bf0a5-1ab9-4567-96b1-49d7f809720b",
   "metadata": {},
   "outputs": [
    {
     "data": {
      "text/plain": [
       "array([[6.7, 3. , 5.2, 2.3],\n",
       "       [6.7, 3. , 5. , 1.7],\n",
       "       [5.8, 2.7, 3.9, 1.2],\n",
       "       [5.6, 2.7, 4.2, 1.3],\n",
       "       [5.9, 3.2, 4.8, 1.8],\n",
       "       [5.4, 3.7, 1.5, 0.2],\n",
       "       [6.3, 2.5, 5. , 1.9],\n",
       "       [6.4, 2.8, 5.6, 2.1],\n",
       "       [5.5, 4.2, 1.4, 0.2],\n",
       "       [6.3, 2.8, 5.1, 1.5],\n",
       "       [6.2, 2.9, 4.3, 1.3],\n",
       "       [5.4, 3.9, 1.7, 0.4],\n",
       "       [5.7, 2.6, 3.5, 1. ],\n",
       "       [6.7, 3.1, 5.6, 2.4],\n",
       "       [6.4, 2.8, 5.6, 2.2],\n",
       "       [5.5, 2.5, 4. , 1.3],\n",
       "       [7.2, 3. , 5.8, 1.6],\n",
       "       [6.7, 3.3, 5.7, 2.5],\n",
       "       [6. , 2.2, 4. , 1. ],\n",
       "       [4.9, 2.5, 4.5, 1.7],\n",
       "       [7.6, 3. , 6.6, 2.1],\n",
       "       [5.4, 3.4, 1.7, 0.2],\n",
       "       [7.4, 2.8, 6.1, 1.9],\n",
       "       [5.6, 2.5, 3.9, 1.1],\n",
       "       [4.8, 3. , 1.4, 0.1],\n",
       "       [4.4, 3. , 1.3, 0.2],\n",
       "       [6.3, 2.7, 4.9, 1.8],\n",
       "       [6.5, 3. , 5.8, 2.2],\n",
       "       [5.8, 2.7, 5.1, 1.9],\n",
       "       [5.1, 3.3, 1.7, 0.5],\n",
       "       [5.1, 2.5, 3. , 1.1],\n",
       "       [5.8, 2.7, 4.1, 1. ],\n",
       "       [7.2, 3.2, 6. , 1.8],\n",
       "       [4.9, 2.4, 3.3, 1. ],\n",
       "       [7.3, 2.9, 6.3, 1.8],\n",
       "       [5.2, 2.7, 3.9, 1.4],\n",
       "       [4.3, 3. , 1.1, 0.1],\n",
       "       [4.9, 3. , 1.4, 0.2],\n",
       "       [5.8, 2.7, 5.1, 1.9],\n",
       "       [5.9, 3. , 4.2, 1.5],\n",
       "       [5.6, 2.8, 4.9, 2. ],\n",
       "       [4.4, 2.9, 1.4, 0.2],\n",
       "       [7.7, 3.8, 6.7, 2.2],\n",
       "       [5.6, 2.9, 3.6, 1.3],\n",
       "       [5.4, 3.4, 1.5, 0.4],\n",
       "       [7. , 3.2, 4.7, 1.4],\n",
       "       [5.5, 2.4, 3.7, 1. ],\n",
       "       [6.4, 3.1, 5.5, 1.8],\n",
       "       [5.1, 3.8, 1.9, 0.4],\n",
       "       [4.8, 3. , 1.4, 0.3],\n",
       "       [6.8, 2.8, 4.8, 1.4],\n",
       "       [6.1, 2.8, 4.7, 1.2],\n",
       "       [6.9, 3.1, 5.4, 2.1],\n",
       "       [6.7, 2.5, 5.8, 1.8],\n",
       "       [5.5, 2.3, 4. , 1.3],\n",
       "       [4.8, 3.4, 1.6, 0.2],\n",
       "       [6.7, 3.1, 4.7, 1.5],\n",
       "       [5.8, 4. , 1.2, 0.2],\n",
       "       [5. , 3.4, 1.5, 0.2],\n",
       "       [5.1, 3.8, 1.5, 0.3],\n",
       "       [5.1, 3.5, 1.4, 0.3],\n",
       "       [6.3, 3.4, 5.6, 2.4],\n",
       "       [6.9, 3.2, 5.7, 2.3],\n",
       "       [6.1, 2.8, 4. , 1.3],\n",
       "       [5.1, 3.8, 1.6, 0.2],\n",
       "       [6. , 2.9, 4.5, 1.5],\n",
       "       [5.1, 3.5, 1.4, 0.2],\n",
       "       [6. , 3.4, 4.5, 1.6],\n",
       "       [5.1, 3.7, 1.5, 0.4],\n",
       "       [6.3, 3.3, 6. , 2.5],\n",
       "       [5.7, 2.9, 4.2, 1.3],\n",
       "       [5.7, 2.8, 4.1, 1.3],\n",
       "       [5.8, 2.8, 5.1, 2.4],\n",
       "       [5.7, 2.8, 4.5, 1.3],\n",
       "       [5. , 3.6, 1.4, 0.2],\n",
       "       [6.2, 3.4, 5.4, 2.3],\n",
       "       [6.1, 2.9, 4.7, 1.4],\n",
       "       [6.5, 3. , 5.2, 2. ],\n",
       "       [6.3, 2.5, 4.9, 1.5],\n",
       "       [5.4, 3.9, 1.3, 0.4],\n",
       "       [5.7, 3. , 4.2, 1.2],\n",
       "       [5. , 3.5, 1.6, 0.6],\n",
       "       [6.5, 3. , 5.5, 1.8],\n",
       "       [5.5, 2.4, 3.8, 1.1],\n",
       "       [7.7, 2.8, 6.7, 2. ],\n",
       "       [5.7, 2.5, 5. , 2. ],\n",
       "       [6.5, 3.2, 5.1, 2. ],\n",
       "       [7.9, 3.8, 6.4, 2. ],\n",
       "       [5.7, 3.8, 1.7, 0.3],\n",
       "       [4.6, 3.1, 1.5, 0.2],\n",
       "       [5. , 3.3, 1.4, 0.2],\n",
       "       [4.7, 3.2, 1.3, 0.2],\n",
       "       [5. , 2.3, 3.3, 1. ],\n",
       "       [6.1, 3. , 4.6, 1.4],\n",
       "       [6.2, 2.8, 4.8, 1.8],\n",
       "       [6.4, 3.2, 5.3, 2.3],\n",
       "       [6.7, 3.3, 5.7, 2.1],\n",
       "       [4.9, 3.1, 1.5, 0.1],\n",
       "       [4.9, 3.1, 1.5, 0.2],\n",
       "       [6.7, 3.1, 4.4, 1.4],\n",
       "       [6.4, 2.7, 5.3, 1.9],\n",
       "       [5.2, 3.4, 1.4, 0.2],\n",
       "       [4.8, 3.1, 1.6, 0.2],\n",
       "       [6.8, 3.2, 5.9, 2.3],\n",
       "       [6.8, 3. , 5.5, 2.1],\n",
       "       [4.6, 3.2, 1.4, 0.2],\n",
       "       [6. , 3. , 4.8, 1.8],\n",
       "       [7.7, 3. , 6.1, 2.3],\n",
       "       [6.6, 2.9, 4.6, 1.3],\n",
       "       [5. , 2. , 3.5, 1. ],\n",
       "       [6.1, 2.6, 5.6, 1.4],\n",
       "       [4.6, 3.4, 1.4, 0.3]])"
      ]
     },
     "execution_count": 49,
     "metadata": {},
     "output_type": "execute_result"
    }
   ],
   "source": [
    "X_train, X_test, Y_train, Y_test = train_test_split(iris.data, iris.target)\n",
    "X_train"
   ]
  },
  {
   "cell_type": "code",
   "execution_count": 50,
   "id": "c470c6e6-ba64-481f-85cc-cc6153939b61",
   "metadata": {},
   "outputs": [
    {
     "data": {
      "text/plain": [
       "array([2, 1, 1, 1, 1, 0, 2, 2, 0, 2, 1, 0, 1, 2, 2, 1, 2, 2, 1, 2, 2, 0,\n",
       "       2, 1, 0, 0, 2, 2, 2, 0, 1, 1, 2, 1, 2, 1, 0, 0, 2, 1, 2, 0, 2, 1,\n",
       "       0, 1, 1, 2, 0, 0, 1, 1, 2, 2, 1, 0, 1, 0, 0, 0, 0, 2, 2, 1, 0, 1,\n",
       "       0, 1, 0, 2, 1, 1, 2, 1, 0, 2, 1, 2, 1, 0, 1, 0, 2, 1, 2, 2, 2, 2,\n",
       "       0, 0, 0, 0, 1, 1, 2, 2, 2, 0, 0, 1, 2, 0, 0, 2, 2, 0, 2, 2, 1, 1,\n",
       "       2, 0])"
      ]
     },
     "execution_count": 50,
     "metadata": {},
     "output_type": "execute_result"
    }
   ],
   "source": [
    "Y_train"
   ]
  },
  {
   "cell_type": "code",
   "execution_count": 51,
   "id": "e1223cc9-7a03-4278-86a9-835e3eaae3f8",
   "metadata": {},
   "outputs": [],
   "source": [
    "clf = LogisticRegression(max_iter=1000)"
   ]
  },
  {
   "cell_type": "code",
   "execution_count": 52,
   "id": "ff514cc5-f402-4b1b-bd21-2ffa4edfd66c",
   "metadata": {},
   "outputs": [
    {
     "data": {
      "text/plain": [
       "LogisticRegression(max_iter=1000)"
      ]
     },
     "execution_count": 52,
     "metadata": {},
     "output_type": "execute_result"
    }
   ],
   "source": [
    "clf.fit(X_train,Y_train)"
   ]
  },
  {
   "cell_type": "code",
   "execution_count": 53,
   "id": "d7d94b3a-fb02-4843-969a-5d55ed414e85",
   "metadata": {},
   "outputs": [
    {
     "data": {
      "text/plain": [
       "0.9821428571428571"
      ]
     },
     "execution_count": 53,
     "metadata": {},
     "output_type": "execute_result"
    }
   ],
   "source": [
    "clf.score(X_train,Y_train)"
   ]
  },
  {
   "cell_type": "code",
   "execution_count": 54,
   "id": "03c3c2fc-2e32-4efb-92ab-3cbfd696969d",
   "metadata": {},
   "outputs": [
    {
     "data": {
      "text/plain": [
       "array([1, 1, 0, 0, 0, 1, 2, 2, 2, 0, 0, 0, 1, 0, 1, 1, 2, 0, 0, 0, 0, 2,\n",
       "       1, 1, 0, 2, 2, 0, 0, 1, 1, 0, 2, 1, 1, 1, 0, 2])"
      ]
     },
     "execution_count": 54,
     "metadata": {},
     "output_type": "execute_result"
    }
   ],
   "source": [
    "clf.predict(X_test)"
   ]
  },
  {
   "cell_type": "code",
   "execution_count": 55,
   "id": "5e048033-711c-48b2-835f-79c453dabe71",
   "metadata": {},
   "outputs": [],
   "source": [
    "Y_test_pred = clf.predict(X_test)"
   ]
  },
  {
   "cell_type": "code",
   "execution_count": 56,
   "id": "f4938eb1-efb7-4020-9fa9-203aa83e0453",
   "metadata": {},
   "outputs": [],
   "source": [
    "Y_train_pred = clf.predict(X_train)"
   ]
  },
  {
   "cell_type": "code",
   "execution_count": 57,
   "id": "536dccc0-ce69-40c0-b264-2f505ddc2180",
   "metadata": {},
   "outputs": [
    {
     "data": {
      "text/plain": [
       "array([[16,  0,  0],\n",
       "       [ 0, 13,  1],\n",
       "       [ 0,  0,  8]])"
      ]
     },
     "execution_count": 57,
     "metadata": {},
     "output_type": "execute_result"
    }
   ],
   "source": [
    "from sklearn.metrics import confusion_matrix\n",
    "\n",
    "# confusion matrix for TEST values in dataset \n",
    "confusion_matrix(Y_test, Y_test_pred)"
   ]
  },
  {
   "cell_type": "code",
   "execution_count": 58,
   "id": "51dce504-248e-4c51-a922-e8a7056b7008",
   "metadata": {},
   "outputs": [
    {
     "data": {
      "text/plain": [
       "array([[34,  0,  0],\n",
       "       [ 0, 34,  2],\n",
       "       [ 0,  0, 42]])"
      ]
     },
     "execution_count": 58,
     "metadata": {},
     "output_type": "execute_result"
    }
   ],
   "source": [
    "# confusion matrix for TRAIN values in dataset\n",
    "confusion_matrix(Y_train, Y_train_pred)"
   ]
  },
  {
   "cell_type": "code",
   "execution_count": 59,
   "id": "5ae75b8f-e64f-4fd2-a246-6c10e35894f7",
   "metadata": {},
   "outputs": [],
   "source": [
    "# overall to use confusion matrix we simply use it from sklearn and give first parameter as TRUE VALUES and second parameter as PREDICTED VALUES"
   ]
  },
  {
   "cell_type": "code",
   "execution_count": 60,
   "id": "82eab601-6fdc-4feb-83a1-3979c7f12486",
   "metadata": {},
   "outputs": [
    {
     "name": "stdout",
     "output_type": "stream",
     "text": [
      "              precision    recall  f1-score   support\n",
      "\n",
      "           0       1.00      1.00      1.00        16\n",
      "           1       1.00      0.93      0.96        14\n",
      "           2       0.89      1.00      0.94         8\n",
      "\n",
      "    accuracy                           0.97        38\n",
      "   macro avg       0.96      0.98      0.97        38\n",
      "weighted avg       0.98      0.97      0.97        38\n",
      "\n"
     ]
    }
   ],
   "source": [
    "# to show PRECISION and RECALL of the output values of CONFUSION Matrix\n",
    "from sklearn.metrics import classification_report\n",
    "\n",
    "print(classification_report(Y_test, Y_test_pred))"
   ]
  }
 ],
 "metadata": {
  "kernelspec": {
   "display_name": "anaconda-2022.05-py39",
   "language": "python",
   "name": "conda-env-anaconda-2022.05-py39-py"
  },
  "language_info": {
   "codemirror_mode": {
    "name": "ipython",
    "version": 3
   },
   "file_extension": ".py",
   "mimetype": "text/x-python",
   "name": "python",
   "nbconvert_exporter": "python",
   "pygments_lexer": "ipython3",
   "version": "3.9.12"
  }
 },
 "nbformat": 4,
 "nbformat_minor": 5
}
