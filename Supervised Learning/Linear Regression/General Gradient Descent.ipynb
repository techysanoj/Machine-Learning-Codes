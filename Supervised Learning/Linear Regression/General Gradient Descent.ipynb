{
 "cells": [
  {
   "cell_type": "code",
   "execution_count": 90,
   "id": "f3cf3a07-8f23-4a55-a369-a0a0e3cc7d2a",
   "metadata": {},
   "outputs": [],
   "source": [
    "from sklearn.datasets import load_boston\n",
    "boston = load_boston()\n",
    "X = boston.data\n",
    "Y = boston.target"
   ]
  },
  {
   "cell_type": "code",
   "execution_count": 91,
   "id": "c756cfaf-2909-4320-8e1e-f58647cace24",
   "metadata": {},
   "outputs": [],
   "source": [
    "# m_slope(new) = m_slope(old) - learning_rate * derivative of cost w.r.t m\n",
    "# c_slope(new) = c_slope(old) - learning_rate * derivative of cost w.r.t c\n",
    "\n",
    "#standarised the data\n",
    "from sklearn.preprocessing import StandardScaler\n",
    "sc=StandardScaler()\n",
    "X_transform=sc.fit_transform(X)\n"
   ]
  },
  {
   "cell_type": "code",
   "execution_count": 92,
   "id": "de5c3673-0977-446d-8656-f4725bca99ba",
   "metadata": {},
   "outputs": [],
   "source": [
    "import numpy as np\n",
    "\n",
    "m_slope = np.zeros(X.shape[1])\n",
    "intercept = 0\n",
    "learning_rate = 0.000001\n",
    "iteration = 100"
   ]
  },
  {
   "cell_type": "code",
   "execution_count": 93,
   "id": "ab95593b-0acd-424d-891e-1ff74ef650c5",
   "metadata": {},
   "outputs": [],
   "source": [
    "def cost(y,y_predicted):\n",
    "    n=len(y)\n",
    "    total_cost=0\n",
    "    for i in range(n):\n",
    "        total_cost+=(y[i]-y_predicted[i])**2\n",
    "    return (1/n)*total_cost"
   ]
  },
  {
   "cell_type": "code",
   "execution_count": 94,
   "id": "71ce9044-3e4a-49a5-a320-c42227e5ed1b",
   "metadata": {},
   "outputs": [],
   "source": [
    "def predicted_y(m_slope,x,intercept):\n",
    "    y_lst=[]\n",
    "    for i in range(len(x)):\n",
    "        y_lst.append(m_slope@x[i]+intercept) #dot product btween slope and input\n",
    "    return np.array(y_lst)"
   ]
  },
  {
   "cell_type": "code",
   "execution_count": 95,
   "id": "caa34c88-9109-4ef4-8d9c-a4ceef2163db",
   "metadata": {},
   "outputs": [],
   "source": [
    "#derivative of cost w.r.t slope\n",
    "def d_cost_d_slope(x,y,y_predicted):\n",
    "    s=0\n",
    "    n=len(y)\n",
    "    for i in range(n):\n",
    "        s+=-x[i]*(y[i]-y_predicted[i])\n",
    "    return (2/n)*s"
   ]
  },
  {
   "cell_type": "code",
   "execution_count": 96,
   "id": "ead07502-ce0f-44cd-bde2-15c40f7fa976",
   "metadata": {},
   "outputs": [],
   "source": [
    "# derivative of cost w.r.t intercept\n",
    "def d_cost_d_intercept(y,y_predicted):\n",
    "    n=len(y)\n",
    "    s=0\n",
    "    for i in range(len(y)):\n",
    "        s+=-(y[i]-y_predicted[i])\n",
    "    return (2/n) * s"
   ]
  },
  {
   "cell_type": "code",
   "execution_count": 98,
   "id": "23774743-7bcc-44ee-a50b-dd2c4729d111",
   "metadata": {},
   "outputs": [
    {
     "name": "stdout",
     "output_type": "stream",
     "text": [
      "slope:  [-0.00450831  0.02487138 -0.00320024  0.00016579  0.000114    0.00397555\n",
      "  0.00235024  0.00209494 -0.00141037 -0.00023708  0.00367665  0.06058119\n",
      " -0.00933807]\n",
      "intercept:  0.0003769616165613899\n"
     ]
    }
   ],
   "source": [
    "for i in range(iteration):\n",
    "     y_predicted = predicted_y(m_slope,X,intercept)\n",
    "     m_slope = m_slope - learning_rate *d_cost_d_slope(X,Y,y_predicted)  #update slope\n",
    "     intercept = intercept - learning_rate * d_cost_d_intercept(Y,y_predicted)    #update intercept\n",
    "        \n",
    "print(\"slope: \", m_slope)\n",
    "print(\"intercept: \", intercept)"
   ]
  }
 ],
 "metadata": {
  "kernelspec": {
   "display_name": "anaconda-2022.05-py39",
   "language": "python",
   "name": "conda-env-anaconda-2022.05-py39-py"
  },
  "language_info": {
   "codemirror_mode": {
    "name": "ipython",
    "version": 3
   },
   "file_extension": ".py",
   "mimetype": "text/x-python",
   "name": "python",
   "nbconvert_exporter": "python",
   "pygments_lexer": "ipython3",
   "version": "3.9.12"
  }
 },
 "nbformat": 4,
 "nbformat_minor": 5
}
