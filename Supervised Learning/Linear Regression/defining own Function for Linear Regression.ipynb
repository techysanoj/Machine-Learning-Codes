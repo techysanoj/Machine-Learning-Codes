{
 "cells": [
  {
   "cell_type": "code",
   "execution_count": 163,
   "id": "eee76a92-754e-4a54-ad3f-3a259ca32cb9",
   "metadata": {},
   "outputs": [],
   "source": [
    "import numpy as np\n",
    "\n",
    "data = np.loadtxt(\"data.csv\", delimiter = ',')\n",
    "X = data[:,0]\n",
    "Y = data[:,1]"
   ]
  },
  {
   "cell_type": "code",
   "execution_count": 164,
   "id": "3afce48f-ba44-40a1-a2ac-bf5aa40d9897",
   "metadata": {},
   "outputs": [],
   "source": [
    "from sklearn import model_selection\n",
    "X_train, X_test, Y_train, Y_test = model_selection.train_test_split(X,Y, test_size = 0.3)"
   ]
  },
  {
   "cell_type": "code",
   "execution_count": 165,
   "id": "5e5d1b38-8689-4cb8-bcc5-4b7ff1e33a47",
   "metadata": {},
   "outputs": [
    {
     "name": "stdout",
     "output_type": "stream",
     "text": [
      "1.3532068993633009\n",
      "6.964684283961361\n"
     ]
    }
   ],
   "source": [
    "def fit1(x,y):\n",
    "    m = ((x*y).mean() - x.mean()*y.mean())/((x*x).mean() - x.mean()*x.mean())\n",
    "    c = y.mean() - m*x.mean()\n",
    "    return (m,c)\n",
    "\n",
    "M, C = fit1(X_train, Y_train)\n",
    "print(M)\n",
    "print(C)"
   ]
  },
  {
   "cell_type": "code",
   "execution_count": 166,
   "id": "b2650781-1431-4694-a66e-3dbaa822c9e6",
   "metadata": {},
   "outputs": [],
   "source": [
    "def predict1(x, m, c):\n",
    "    arr  = np.zeros(30)\n",
    "    j =0\n",
    "    for i in x:\n",
    "        arr[j] = m*i + c\n",
    "        j = j+1\n",
    "    return arr\n"
   ]
  },
  {
   "cell_type": "code",
   "execution_count": 167,
   "id": "1b879b44-c7ff-4874-8859-d3b59d50c2c1",
   "metadata": {},
   "outputs": [
    {
     "name": "stdout",
     "output_type": "stream",
     "text": [
      "[51.53996901 70.21035333 94.52683077 80.419906   60.49470914 58.54869316\n",
      " 90.22798928 57.94764038 64.39001767 66.33069999 79.62058139 85.67334126\n",
      " 83.9638006  78.07572639 72.12140554 92.21330987 81.58347409 51.1726597\n",
      " 96.53320078 93.04970068 68.42697648 68.69614778 88.52140102 55.0953173\n",
      " 77.84355909 77.6345561  73.54772438 84.58740899 83.72833361 63.22513072]\n"
     ]
    }
   ],
   "source": [
    "Y_pred = predict1(X_test, M, C)\n",
    "print(Y_pred)"
   ]
  },
  {
   "cell_type": "code",
   "execution_count": 168,
   "id": "cd89a36c-cb0b-4ac8-a21c-52a790b85bf4",
   "metadata": {},
   "outputs": [],
   "source": [
    "def cd1(y_pred, y_test):\n",
    "    sum_u = 0\n",
    "    sum_v =0\n",
    "    mean_of_y = y_test.mean()\n",
    "    j = 0\n",
    "    for i in y_pred:\n",
    "        sum_u = sum_u + (y_test[j] - y_pred[j])**2\n",
    "        sum_v = sum_v + (y_test[j] - mean_of_y)**2\n",
    "    ans = 1 - (sum_u/sum_v)\n",
    "    return ans\n",
    "        "
   ]
  },
  {
   "cell_type": "code",
   "execution_count": 170,
   "id": "cf82c7c0-d5de-4e45-9920-03c671fa5b56",
   "metadata": {},
   "outputs": [
    {
     "name": "stdout",
     "output_type": "stream",
     "text": [
      "Test Data: -5.302122739097432\n"
     ]
    }
   ],
   "source": [
    "coeff = cd1(Y_pred, Y_test)\n",
    "print(\"Test Data:\",coeff)"
   ]
  },
  {
   "cell_type": "code",
   "execution_count": 171,
   "id": "31d4c0a1-7473-4a09-8e26-c4d323570ab2",
   "metadata": {},
   "outputs": [],
   "source": [
    "def cost1(x_test, y_test, m, c):\n",
    "    return((y_test - m*x_test - c)**2).mean()\n"
   ]
  },
  {
   "cell_type": "code",
   "execution_count": 172,
   "id": "499c19f8-28c5-4dcb-9350-bb3147d902c1",
   "metadata": {},
   "outputs": [
    {
     "name": "stdout",
     "output_type": "stream",
     "text": [
      "157.65789812825693\n"
     ]
    }
   ],
   "source": [
    "sum_cost = cost1(X_test, Y_test,M,C)\n",
    "print(sum_cost)\n"
   ]
  },
  {
   "cell_type": "code",
   "execution_count": 184,
   "id": "e5f7e07b-1e7d-4496-be65-2fe5ec79d224",
   "metadata": {},
   "outputs": [
    {
     "name": "stdout",
     "output_type": "stream",
     "text": [
      "[1.3454793]\n",
      "6.6242441186985275\n"
     ]
    },
    {
     "data": {
      "text/plain": [
       "<matplotlib.collections.PathCollection at 0x7f1d6a691160>"
      ]
     },
     "execution_count": 184,
     "metadata": {},
     "output_type": "execute_result"
    },
    {
     "data": {
      "image/png": "[encoded data removed]",
      "text/plain": [
       "<Figure size 432x288 with 1 Axes>"
      ]
     },
     "metadata": {
      "needs_background": "light"
     },
     "output_type": "display_data"
    }
   ],
   "source": [
    "import matplotlib.pyplot as plt\n",
    "m = algo.coef_\n",
    "c = algo.intercept_\n",
    "print(m)\n",
    "print(c)\n",
    "x_line = np.arange(30,70,0.1)\n",
    "y_line = m*x_line + c\n",
    "plt.plot(x_line, y_line)\n",
    "plt.scatter(X_train, Y_train)"
   ]
  },
  {
   "cell_type": "code",
   "execution_count": 177,
   "id": "8c26c5e4-1d35-41f0-b9a7-b3128c78769b",
   "metadata": {},
   "outputs": [
    {
     "data": {
      "text/plain": [
       "LinearRegression()"
      ]
     },
     "execution_count": 177,
     "metadata": {},
     "output_type": "execute_result"
    }
   ],
   "source": [
    "from sklearn.linear_model import LinearRegression\n",
    "algo = LinearRegression()\n",
    "newX = data[:,0].reshape(-1,1)\n",
    "newY = data[:,1]\n",
    "from sklearn import model_selection\n",
    "new_xtrain, new_xtest, new_ytrain, new_ytest = model_selection.train_test_split(newX, newY, test_size=0.3)\n",
    "algo.fit(new_xtrain, new_ytrain)"
   ]
  },
  {
   "cell_type": "code",
   "execution_count": 183,
   "id": "85ae074c-4617-4555-aae4-90543441887e",
   "metadata": {},
   "outputs": [
    {
     "name": "stdout",
     "output_type": "stream",
     "text": [
      "[1.3454793]\n",
      "6.6242441186985275\n"
     ]
    },
    {
     "data": {
      "text/plain": [
       "<matplotlib.collections.PathCollection at 0x7f1d6a6aa820>"
      ]
     },
     "execution_count": 183,
     "metadata": {},
     "output_type": "execute_result"
    },
    {
     "data": {
      "image/png": "[encoded data removed]",
      "text/plain": [
       "<Figure size 432x288 with 1 Axes>"
      ]
     },
     "metadata": {
      "needs_background": "light"
     },
     "output_type": "display_data"
    }
   ],
   "source": [
    "import matplotlib.pyplot as plt\n",
    "m = algo.coef_\n",
    "c = algo.intercept_\n",
    "print(m)\n",
    "print(c)\n",
    "x_line = np.arange(30,70,0.1)\n",
    "y_line = m*x_line + c\n",
    "plt.plot(x_line, y_line)\n",
    "plt.scatter(new_xtrain,new_ytrain)"
   ]
  }
 ],
 "metadata": {
  "kernelspec": {
   "display_name": "anaconda-2022.05-py39",
   "language": "python",
   "name": "conda-env-anaconda-2022.05-py39-py"
  },
  "language_info": {
   "codemirror_mode": {
    "name": "ipython",
    "version": 3
   },
   "file_extension": ".py",
   "mimetype": "text/x-python",
   "name": "python",
   "nbconvert_exporter": "python",
   "pygments_lexer": "ipython3",
   "version": "3.9.12"
  }
 },
 "nbformat": 4,
 "nbformat_minor": 5
}
