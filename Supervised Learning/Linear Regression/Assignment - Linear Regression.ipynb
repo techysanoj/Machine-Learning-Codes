{
 "cells": [
  {
   "cell_type": "code",
   "execution_count": 3,
   "id": "624d5ed2-803c-423d-a545-7ec778c1a5cb",
   "metadata": {},
   "outputs": [],
   "source": [
    "import numpy as np\n",
    "data=np.genfromtxt(\"train.csv\",delimiter=',')\n",
    "x=data[:,:10]\n",
    "y=data[:,10]\n",
    "data=np.genfromtxt(\"test.csv\",delimiter=',')\n",
    "X=data[:,:10]\n",
    "from sklearn.linear_model import LinearRegression\n",
    "alg=LinearRegression()\n",
    "alg.fit(x,y)\n",
    "ans=alg.predict(X)\n",
    "for i in range(len(ans)):\n",
    "    ans[i]=format(ans[i],'.5f')\n",
    "np.savetxt('ans2.csv',ans,fmt='%.5f')"
   ]
  }
 ],
 "metadata": {
  "kernelspec": {
   "display_name": "anaconda-2022.05-py39",
   "language": "python",
   "name": "conda-env-anaconda-2022.05-py39-py"
  },
  "language_info": {
   "codemirror_mode": {
    "name": "ipython",
    "version": 3
   },
   "file_extension": ".py",
   "mimetype": "text/x-python",
   "name": "python",
   "nbconvert_exporter": "python",
   "pygments_lexer": "ipython3",
   "version": "3.9.12"
  }
 },
 "nbformat": 4,
 "nbformat_minor": 5
}
