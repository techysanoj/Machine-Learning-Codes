{
 "cells": [
  {
   "cell_type": "code",
   "execution_count": 38,
   "id": "494a2ff9-727d-4d47-9690-f4617121d4bb",
   "metadata": {},
   "outputs": [],
   "source": [
    "import numpy as np"
   ]
  },
  {
   "cell_type": "code",
   "execution_count": 65,
   "id": "042957d5-fc48-4def-828b-7f74742c189e",
   "metadata": {},
   "outputs": [],
   "source": [
    "def step_gradient(data, learning_rate, m, c):\n",
    "    m_slope = 0\n",
    "    c_slope = 0\n",
    "    M = len(data)\n",
    "    for i in range(M):\n",
    "        x = data[i,0]\n",
    "        y = data[i,1]\n",
    "        m_slope += (-2/M)*((y- m*x - c)**2)*x\n",
    "        c_slope += (-2/M)*((y-m*x - c)**2)\n",
    "    new_m = m - learning_rate*m_slope\n",
    "    new_c = c - learning_rate*c_slope\n",
    "    return (new_m, new_c)"
   ]
  },
  {
   "cell_type": "code",
   "execution_count": 64,
   "id": "c7fe8c56-273b-4804-9a81-0f797c6f15bb",
   "metadata": {},
   "outputs": [],
   "source": [
    "def gd(data, learning_rate, num_iteration):\n",
    "    m = 0\n",
    "    c = 0\n",
    "    for i in range(num_iteration):\n",
    "        m,c = step_gradient(data, learning_rate, m, c)\n",
    "        print(i, \"cost:\", cost(data,m,c))\n",
    "    return m,c"
   ]
  },
  {
   "cell_type": "code",
   "execution_count": 63,
   "id": "2b8c0118-866b-405a-a6e6-35c41ebfe824",
   "metadata": {},
   "outputs": [],
   "source": [
    "def cost(data, m, c):\n",
    "    M = len(data)\n",
    "    total_cost =0\n",
    "    for i in range(M):\n",
    "        x = data[i,0]\n",
    "        y = data[i,1]\n",
    "        total_cost+= (1/M)*((y - m*x - c)**2)\n",
    "    return total_cost"
   ]
  },
  {
   "cell_type": "code",
   "execution_count": 79,
   "id": "0e307a98-efb0-4053-ae19-b2d6eb9a52c6",
   "metadata": {},
   "outputs": [],
   "source": [
    "def run():\n",
    "    data = np.loadtxt(\"data.csv\", delimiter = \",\")\n",
    "    learning_rate = 0.000001\n",
    "    num_iteration  = 25\n",
    "    m,c = gd(data, learning_rate, num_iteration)\n",
    "    print(m,c)"
   ]
  },
  {
   "cell_type": "code",
   "execution_count": 80,
   "id": "7001357c-c551-483e-9680-6e8427416397",
   "metadata": {},
   "outputs": [
    {
     "name": "stdout",
     "output_type": "stream",
     "text": [
      "0 cost: 2117.9746048429233\n",
      "1 cost: 1253.7260459184306\n",
      "2 cost: 857.8489694180819\n",
      "3 cost: 636.3243114263527\n",
      "4 cost: 497.77152616857467\n",
      "5 cost: 404.59494342148054\n",
      "6 cost: 338.6290734177878\n",
      "7 cost: 290.1024557732631\n",
      "8 cost: 253.3343654354926\n",
      "9 cost: 224.8209466959723\n",
      "10 cost: 202.29775273428544\n",
      "11 cost: 184.24505365024788\n",
      "12 cost: 169.61080169863317\n",
      "13 cost: 157.6477515204666\n",
      "14 cost: 147.81373158432757\n",
      "15 cost: 139.70845434276768\n",
      "16 cost: 133.03229584378454\n",
      "17 cost: 127.5587353458259\n",
      "18 cost: 123.11554591786904\n",
      "19 cost: 119.57174662824835\n",
      "20 cost: 116.82844825523613\n",
      "21 cost: 114.8124001567874\n",
      "22 cost: 113.47146529800246\n",
      "23 cost: 112.77151861613709\n",
      "24 cost: 112.69444128968571\n",
      "1.4831080758675064 0.028805441557188376\n"
     ]
    }
   ],
   "source": [
    "run()"
   ]
  }
 ],
 "metadata": {
  "kernelspec": {
   "display_name": "anaconda-2022.05-py39",
   "language": "python",
   "name": "conda-env-anaconda-2022.05-py39-py"
  },
  "language_info": {
   "codemirror_mode": {
    "name": "ipython",
    "version": 3
   },
   "file_extension": ".py",
   "mimetype": "text/x-python",
   "name": "python",
   "nbconvert_exporter": "python",
   "pygments_lexer": "ipython3",
   "version": "3.9.12"
  }
 },
 "nbformat": 4,
 "nbformat_minor": 5
}
