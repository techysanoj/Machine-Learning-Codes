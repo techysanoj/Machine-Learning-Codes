{
 "cells": [
  {
   "cell_type": "code",
   "execution_count": 1,
   "id": "a66e6785-2f1e-4dba-8138-3037a9c681a1",
   "metadata": {},
   "outputs": [],
   "source": [
    "import numpy as np"
   ]
  },
  {
   "cell_type": "code",
   "execution_count": 26,
   "id": "5a599a99-9dc3-4134-bae6-3a1ca498183d",
   "metadata": {},
   "outputs": [],
   "source": [
    "def fit(X_train, Y_train):\n",
    "    \n",
    "    # here result is a dictionary\n",
    "    # which will store the distint TARGET Values to work upon\n",
    "    \n",
    "    result = {}\n",
    "    class_values = set(Y_train)\n",
    "    \n",
    "    # current_values will have all the distinct values in TARGET (Y_train)\n",
    "    \n",
    "    for current_class in class_values:\n",
    "        \n",
    "        # here each value in result dictionary will store \n",
    "        # another dictionary to count the number of rows belonging to the that class\n",
    "        \n",
    "        result[current_class] = {}\n",
    "        \n",
    "        # we are storing total data points which are in set\n",
    "        \n",
    "        result[\"total_data_points\"] = len(Y_train)\n",
    "        \n",
    "        # we are counting the number of rows related to current class and storing in form of TRUE and FALSE\n",
    "        \n",
    "        current_class_rows = (Y_train == current_class)\n",
    "        \n",
    "        # getting all the X train and Y train related to the current class\n",
    "        \n",
    "        X_train_current = X_train[current_class_rows]\n",
    "        Y_train_current = Y_train[current_class_rows]\n",
    "        \n",
    "        # counting the number of features in X train\n",
    "        \n",
    "        num_features = X_train.shape[1]\n",
    "        \n",
    "        # here it will store the total rows belonging to the current class\n",
    "        \n",
    "        result[current_class][\"total_count\"] = len(Y_train_current)\n",
    "        for j in range(1, num_features+1):\n",
    "            result[current_class][j] = {}\n",
    "            \n",
    "            # here it is finding the all distinct values in feature 'j'\n",
    "            \n",
    "            all_posible_values = set(X_train[:, j-1])\n",
    "            for current_values in all_posible_values:\n",
    "                \n",
    "                # we are storing the total count of the every value which is present in the 'Jth' column \n",
    "                \n",
    "                result[current_class][j][current_values] = (X_train_current[:, j-1] == current_values).sum()\n",
    "    return result\n",
    "        \n",
    "        "
   ]
  },
  {
   "cell_type": "code",
   "execution_count": 31,
   "id": "8096cffc-fe9c-4172-b0c6-b0ae36cfc84f",
   "metadata": {},
   "outputs": [],
   "source": [
    "def probability(dictionary, x, current_class):\n",
    "    output = np.log(dictionary[current_class][\"total_count\"]) - np.log(dictionary[\"total_data_points\"])\n",
    "    num_features = len(dictionary[current_class].keys()) - 1\n",
    "    for j in range(1, num_features +1):\n",
    "        xj = x[j-1]\n",
    "        count_current_class_with_value_xj = dictionary[current_class][j][xj] + 1\n",
    "        count_current_class = dictionary[current_class][\"total_count\"] + len(dictionary[current_class][j].keys())\n",
    "        current_xj_probability = np.log(count_current_class_with_value_xj) - np.log(count_current_class)\n",
    "        output = output + current_xj_probability\n",
    "    return output"
   ]
  },
  {
   "cell_type": "code",
   "execution_count": 12,
   "id": "afdc7ce7-a2bb-47f8-a4dc-de7731881027",
   "metadata": {},
   "outputs": [],
   "source": [
    "def predictSinglePoint(dictionary, x):\n",
    "    classes = dictionary.keys()\n",
    "    best_p = -1000\n",
    "    best_class = -1\n",
    "    first_run = True\n",
    "    for current_class in classes:\n",
    "        if(current_class == \"total_data_points\"):\n",
    "            continue\n",
    "        p_current_class = probability(dictionary, x, current_class)\n",
    "        if(first_run or (p_current_class > best_p)):\n",
    "            best_p = p_current_class\n",
    "            best_class = current_class\n",
    "        first_run = False\n",
    "    return best_class"
   ]
  },
  {
   "cell_type": "code",
   "execution_count": 29,
   "id": "12b51bc0-830c-4b48-8591-a34ba56b0d25",
   "metadata": {},
   "outputs": [],
   "source": [
    "def predict(dictionary, X_test):\n",
    "    y_pred = []\n",
    "    for x in X_test:\n",
    "        x_class = predictSinglePoint(dictionary, x)\n",
    "        y_pred.append(x_class)\n",
    "    return y_pred"
   ]
  },
  {
   "cell_type": "code",
   "execution_count": 16,
   "id": "d844f205-11ea-4c32-9cbe-289288d2f8b1",
   "metadata": {},
   "outputs": [],
   "source": [
    "def makeLable(columns): \n",
    "    second_limit = columns.mean()\n",
    "    first_limit = 0.5*second_limit\n",
    "    third_limit = 1.5*second_limit\n",
    "    for i in range(0, len(columns)):\n",
    "        if(columns[i] < first_limit):\n",
    "            columns[i] = 0\n",
    "        elif(columns[i] < second_limit):\n",
    "            columns[i]  = 1\n",
    "        elif(columns[i] < third_limit):\n",
    "            columns[i] = 2\n",
    "        else:\n",
    "            columns[i] = 3\n",
    "    return columns"
   ]
  },
  {
   "cell_type": "code",
   "execution_count": 20,
   "id": "0e044fec-ce9a-4c8d-ae99-af88103ff417",
   "metadata": {},
   "outputs": [],
   "source": [
    "from sklearn import datasets\n",
    "\n",
    "iris = datasets.load_iris()"
   ]
  },
  {
   "cell_type": "code",
   "execution_count": 19,
   "id": "deca8981-8e33-4cba-88e4-808289025b55",
   "metadata": {},
   "outputs": [],
   "source": [
    "X = iris.data\n",
    "Y = iris.target"
   ]
  },
  {
   "cell_type": "code",
   "execution_count": 21,
   "id": "1ee2faf1-bd62-4e9f-98b3-e7e60a135fd0",
   "metadata": {},
   "outputs": [],
   "source": [
    "for i in range(0, X.shape[-1]):\n",
    "    X[:, i] = makeLable(X[:, i])"
   ]
  },
  {
   "cell_type": "code",
   "execution_count": 24,
   "id": "2a408cf7-ad2f-4d64-9725-11692ab4902f",
   "metadata": {},
   "outputs": [],
   "source": [
    "from sklearn.model_selection import train_test_split\n",
    "\n",
    "X_train, X_test, Y_train, Y_test = train_test_split(X, Y)\n"
   ]
  },
  {
   "cell_type": "code",
   "execution_count": 27,
   "id": "b47c36d4-c02c-4e2e-90b0-443a2115870b",
   "metadata": {},
   "outputs": [],
   "source": [
    "dictionary = fit(X_train, Y_train)"
   ]
  },
  {
   "cell_type": "code",
   "execution_count": 32,
   "id": "d74c55d1-7f05-427e-acf3-54c862e9cb30",
   "metadata": {},
   "outputs": [],
   "source": [
    "Y_pred = predict(dictionary, X_test)"
   ]
  },
  {
   "cell_type": "code",
   "execution_count": 36,
   "id": "8251183e-b937-4f1a-9f6c-e3466735d86a",
   "metadata": {},
   "outputs": [
    {
     "data": {
      "text/plain": [
       "array([[14,  0,  0],\n",
       "       [ 0,  9,  0],\n",
       "       [ 0,  1, 14]])"
      ]
     },
     "execution_count": 36,
     "metadata": {},
     "output_type": "execute_result"
    }
   ],
   "source": [
    "from sklearn.metrics import confusion_matrix\n",
    "\n",
    "confusion_matrix(Y_test, Y_pred)"
   ]
  }
 ],
 "metadata": {
  "kernelspec": {
   "display_name": "anaconda-2022.05-py39",
   "language": "python",
   "name": "conda-env-anaconda-2022.05-py39-py"
  },
  "language_info": {
   "codemirror_mode": {
    "name": "ipython",
    "version": 3
   },
   "file_extension": ".py",
   "mimetype": "text/x-python",
   "name": "python",
   "nbconvert_exporter": "python",
   "pygments_lexer": "ipython3",
   "version": "3.9.12"
  }
 },
 "nbformat": 4,
 "nbformat_minor": 5
}
