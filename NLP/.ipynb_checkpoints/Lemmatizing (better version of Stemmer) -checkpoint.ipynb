{
 "cells": [
  {
   "cell_type": "code",
   "execution_count": 1,
   "id": "8a0b3f1c",
   "metadata": {},
   "outputs": [],
   "source": [
    "# stemming was bit confusing and challenging so to do convert the words with proper meaning we will be using\n",
    "# LEMMATIZATION\n",
    "\n",
    "from nltk.stem import WordNetLemmatizer"
   ]
  },
  {
   "cell_type": "code",
   "execution_count": 2,
   "id": "09718502",
   "metadata": {},
   "outputs": [],
   "source": [
    "# creating object of WordNetLemmatizer\n",
    "\n",
    "lemmatizer = WordNetLemmatizer()"
   ]
  },
  {
   "cell_type": "code",
   "execution_count": 7,
   "id": "9216a5d1",
   "metadata": {},
   "outputs": [
    {
     "data": {
      "text/plain": [
       "'good'"
      ]
     },
     "execution_count": 7,
     "metadata": {},
     "output_type": "execute_result"
    }
   ],
   "source": [
    "# generally it required list of words which are to be converted and a pos tag (which denotes which type of words are these)\n",
    "\n",
    "# here good is adjective so it will convert wrt adjective\n",
    "lemmatizer.lemmatize(\"good\", pos = \"a\")\n"
   ]
  },
  {
   "cell_type": "code",
   "execution_count": 8,
   "id": "4fd0b493",
   "metadata": {},
   "outputs": [
    {
     "data": {
      "text/plain": [
       "'good'"
      ]
     },
     "execution_count": 8,
     "metadata": {},
     "output_type": "execute_result"
    }
   ],
   "source": [
    "lemmatizer.lemmatize(\"better\", pos = \"a\")"
   ]
  },
  {
   "cell_type": "code",
   "execution_count": null,
   "id": "f52760b2",
   "metadata": {},
   "outputs": [],
   "source": [
    "# here below we can see painting is converted into paint for verb which is correct, its meaning will not change"
   ]
  },
  {
   "cell_type": "code",
   "execution_count": 10,
   "id": "0104821e",
   "metadata": {},
   "outputs": [
    {
     "data": {
      "text/plain": [
       "'paint'"
      ]
     },
     "execution_count": 10,
     "metadata": {},
     "output_type": "execute_result"
    }
   ],
   "source": [
    "lemmatizer.lemmatize(\"painting\", pos = \"v\")"
   ]
  },
  {
   "cell_type": "code",
   "execution_count": 12,
   "id": "573d183b",
   "metadata": {},
   "outputs": [],
   "source": [
    "# The Mona Lisa is one of the most famous paintings here paintings is acting as a NOUN"
   ]
  },
  {
   "cell_type": "code",
   "execution_count": 11,
   "id": "033fa48f",
   "metadata": {},
   "outputs": [
    {
     "data": {
      "text/plain": [
       "'painting'"
      ]
     },
     "execution_count": 11,
     "metadata": {},
     "output_type": "execute_result"
    }
   ],
   "source": [
    "lemmatizer.lemmatize(\"painting\", pos = \"n\")"
   ]
  }
 ],
 "metadata": {
  "kernelspec": {
   "display_name": "Python 3 (ipykernel)",
   "language": "python",
   "name": "python3"
  },
  "language_info": {
   "codemirror_mode": {
    "name": "ipython",
    "version": 3
   },
   "file_extension": ".py",
   "mimetype": "text/x-python",
   "name": "python",
   "nbconvert_exporter": "python",
   "pygments_lexer": "ipython3",
   "version": "3.10.9"
  }
 },
 "nbformat": 4,
 "nbformat_minor": 5
}
