{
 "cells": [
  {
   "cell_type": "code",
   "execution_count": 2,
   "id": "61bc86a5",
   "metadata": {},
   "outputs": [],
   "source": [
    "from sklearn.feature_extraction.text import CountVectorizer"
   ]
  },
  {
   "cell_type": "code",
   "execution_count": 6,
   "id": "beac3786",
   "metadata": {},
   "outputs": [],
   "source": [
    "train_set = {\"sanoj is good boy\", \"sanoj is fucking good boy\", \"sanoj is gangster or anything\"}"
   ]
  },
  {
   "cell_type": "code",
   "execution_count": 4,
   "id": "9e858cb4",
   "metadata": {},
   "outputs": [],
   "source": [
    "# creating count_vectorizer object\n",
    "\n",
    "count_vec = CountVectorizer(max_features = 5)"
   ]
  },
  {
   "cell_type": "code",
   "execution_count": 6,
   "id": "67e1d14b",
   "metadata": {},
   "outputs": [
    {
     "data": {
      "text/plain": [
       "<3x5 sparse matrix of type '<class 'numpy.int64'>'\n",
       "\twith 11 stored elements in Compressed Sparse Row format>"
      ]
     },
     "execution_count": 6,
     "metadata": {},
     "output_type": "execute_result"
    }
   ],
   "source": [
    "a = count_vec.fit_transform(train_set)\n",
    "a\n",
    "\n",
    "# it return sparse matrix"
   ]
  },
  {
   "cell_type": "code",
   "execution_count": 7,
   "id": "0a75e893",
   "metadata": {},
   "outputs": [
    {
     "data": {
      "text/plain": [
       "matrix([[0, 1, 1, 1, 1],\n",
       "        [0, 1, 1, 1, 1],\n",
       "        [1, 0, 0, 1, 1]], dtype=int64)"
      ]
     },
     "execution_count": 7,
     "metadata": {},
     "output_type": "execute_result"
    }
   ],
   "source": [
    "# to get the sparse matrix\n",
    "\n",
    "a.todense()"
   ]
  },
  {
   "cell_type": "code",
   "execution_count": 18,
   "id": "9c2623a5",
   "metadata": {},
   "outputs": [
    {
     "data": {
      "text/plain": [
       "array(['anything', 'boy', 'good', 'is', 'sanoj'], dtype=object)"
      ]
     },
     "execution_count": 18,
     "metadata": {},
     "output_type": "execute_result"
    }
   ],
   "source": [
    "# to get the feature names\n",
    "\n",
    "count_vec.get_feature_names_out()"
   ]
  },
  {
   "cell_type": "code",
   "execution_count": 5,
   "id": "42f7d81a",
   "metadata": {},
   "outputs": [],
   "source": [
    "# we can have features as two - three words or more than this \n",
    "\n",
    "# for example\n",
    "\n",
    "cv = CountVectorizer(max_features = 3, ngram_range = (2,3))"
   ]
  },
  {
   "cell_type": "code",
   "execution_count": 7,
   "id": "72609571",
   "metadata": {},
   "outputs": [
    {
     "data": {
      "text/plain": [
       "<3x3 sparse matrix of type '<class 'numpy.int64'>'\n",
       "\twith 6 stored elements in Compressed Sparse Row format>"
      ]
     },
     "execution_count": 7,
     "metadata": {},
     "output_type": "execute_result"
    }
   ],
   "source": [
    "cv.fit_transform(train_set)"
   ]
  },
  {
   "cell_type": "code",
   "execution_count": 8,
   "id": "21d39276",
   "metadata": {},
   "outputs": [
    {
     "data": {
      "text/plain": [
       "array(['fucking good', 'good boy', 'sanoj is'], dtype=object)"
      ]
     },
     "execution_count": 8,
     "metadata": {},
     "output_type": "execute_result"
    }
   ],
   "source": [
    "cv.get_feature_names_out()"
   ]
  }
 ],
 "metadata": {
  "kernelspec": {
   "display_name": "Python 3 (ipykernel)",
   "language": "python",
   "name": "python3"
  },
  "language_info": {
   "codemirror_mode": {
    "name": "ipython",
    "version": 3
   },
   "file_extension": ".py",
   "mimetype": "text/x-python",
   "name": "python",
   "nbconvert_exporter": "python",
   "pygments_lexer": "ipython3",
   "version": "3.10.9"
  }
 },
 "nbformat": 4,
 "nbformat_minor": 5
}
