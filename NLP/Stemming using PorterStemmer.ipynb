{
 "cells": [
  {
   "cell_type": "code",
   "execution_count": 7,
   "id": "6b4efb9a",
   "metadata": {},
   "outputs": [],
   "source": [
    "stem_words = [\"player\", \"play\", \"playing\", \"played\", \"plays\", \"happiyer\", \"happiness\"]"
   ]
  },
  {
   "cell_type": "code",
   "execution_count": 8,
   "id": "23d268cc",
   "metadata": {},
   "outputs": [],
   "source": [
    "from nltk.stem import PorterStemmer"
   ]
  },
  {
   "cell_type": "code",
   "execution_count": 11,
   "id": "36fd8b9b",
   "metadata": {},
   "outputs": [],
   "source": [
    "# we need to make an object of PorterStemmer to use it\n",
    "\n",
    "# this basically does converting of the words such as happiness will be converted into happt\n",
    "# here playing is converted into play\n",
    "# but some words which are not part of the real dictionary it is not able to convert it into better meaning\n",
    "# like we can see from happiyer it simply remove er from the end, and from happiness it remove ness\n",
    "\n",
    "ps = PorterStemmer()"
   ]
  },
  {
   "cell_type": "code",
   "execution_count": 10,
   "id": "7ddfcffd",
   "metadata": {},
   "outputs": [
    {
     "data": {
      "text/plain": [
       "['player', 'play', 'play', 'play', 'play', 'happiy', 'happi']"
      ]
     },
     "execution_count": 10,
     "metadata": {},
     "output_type": "execute_result"
    }
   ],
   "source": [
    "stemmed_words = [ps.stem(w) for w in stem_words]\n",
    "stemmed_words"
   ]
  }
 ],
 "metadata": {
  "kernelspec": {
   "display_name": "Python 3 (ipykernel)",
   "language": "python",
   "name": "python3"
  },
  "language_info": {
   "codemirror_mode": {
    "name": "ipython",
    "version": 3
   },
   "file_extension": ".py",
   "mimetype": "text/x-python",
   "name": "python",
   "nbconvert_exporter": "python",
   "pygments_lexer": "ipython3",
   "version": "3.10.9"
  }
 },
 "nbformat": 4,
 "nbformat_minor": 5
}
