{
 "cells": [
  {
   "cell_type": "code",
   "execution_count": 32,
   "id": "217ff143",
   "metadata": {},
   "outputs": [],
   "source": [
    "from keras.models import Sequential"
   ]
  },
  {
   "cell_type": "code",
   "execution_count": 33,
   "id": "6dea2113",
   "metadata": {},
   "outputs": [],
   "source": [
    "# creating a model\n",
    "model = Sequential()"
   ]
  },
  {
   "cell_type": "code",
   "execution_count": 34,
   "id": "e3fdcc9d",
   "metadata": {},
   "outputs": [],
   "source": [
    "# importing dense from keras\n",
    "\n",
    "from keras.layers import Dense"
   ]
  },
  {
   "cell_type": "code",
   "execution_count": 35,
   "id": "63dfda0b",
   "metadata": {},
   "outputs": [],
   "source": [
    "layer1 = Dense(units = 32, activation = 'relu', input_dim = 30)\n",
    "model.add(layer1)\n",
    "model.add(Dense(units = 16, activation = 'relu'))\n",
    "model.add(Dense(units = 1, activation = 'sigmoid'))"
   ]
  },
  {
   "cell_type": "code",
   "execution_count": 36,
   "id": "4b812965",
   "metadata": {},
   "outputs": [],
   "source": [
    "model.compile(optimizer = 'adam', loss = 'binary_crossentropy', metrics = ['accuracy'])"
   ]
  },
  {
   "cell_type": "code",
   "execution_count": 37,
   "id": "2bf08a7e",
   "metadata": {},
   "outputs": [],
   "source": [
    "from sklearn import datasets\n",
    "\n",
    "cancer = datasets.load_breast_cancer()\n",
    "\n",
    "from sklearn.model_selection import train_test_split\n",
    "\n",
    "x_train, x_test, y_train, y_test = train_test_split(cancer.data, cancer.target, random_state = 0, test_size = 0.2)\n",
    "\n",
    "from sklearn.preprocessing import StandardScaler\n",
    "\n",
    "scaler = StandardScaler()\n",
    "\n",
    "x_train = scaler.fit_transform(x_train)\n",
    "x_test = scaler.transform(x_test)"
   ]
  },
  {
   "cell_type": "code",
   "execution_count": 38,
   "id": "12309137",
   "metadata": {},
   "outputs": [
    {
     "name": "stdout",
     "output_type": "stream",
     "text": [
      "Epoch 1/30\n",
      "10/10 [==============================] - 1s 25ms/step - loss: 0.6694 - accuracy: 0.5912 - val_loss: 0.5449 - val_accuracy: 0.7456\n",
      "Epoch 2/30\n",
      "10/10 [==============================] - 0s 6ms/step - loss: 0.5173 - accuracy: 0.8132 - val_loss: 0.4480 - val_accuracy: 0.8772\n",
      "Epoch 3/30\n",
      "10/10 [==============================] - 0s 6ms/step - loss: 0.4259 - accuracy: 0.8835 - val_loss: 0.3899 - val_accuracy: 0.9123\n",
      "Epoch 4/30\n",
      "10/10 [==============================] - 0s 6ms/step - loss: 0.3656 - accuracy: 0.9165 - val_loss: 0.3467 - val_accuracy: 0.9298\n",
      "Epoch 5/30\n",
      "10/10 [==============================] - 0s 6ms/step - loss: 0.3166 - accuracy: 0.9341 - val_loss: 0.3092 - val_accuracy: 0.9298\n",
      "Epoch 6/30\n",
      "10/10 [==============================] - 0s 6ms/step - loss: 0.2757 - accuracy: 0.9385 - val_loss: 0.2758 - val_accuracy: 0.9211\n",
      "Epoch 7/30\n",
      "10/10 [==============================] - 0s 6ms/step - loss: 0.2402 - accuracy: 0.9451 - val_loss: 0.2456 - val_accuracy: 0.9211\n",
      "Epoch 8/30\n",
      "10/10 [==============================] - 0s 7ms/step - loss: 0.2095 - accuracy: 0.9582 - val_loss: 0.2199 - val_accuracy: 0.9035\n",
      "Epoch 9/30\n",
      "10/10 [==============================] - 0s 7ms/step - loss: 0.1832 - accuracy: 0.9626 - val_loss: 0.1981 - val_accuracy: 0.9035\n",
      "Epoch 10/30\n",
      "10/10 [==============================] - 0s 6ms/step - loss: 0.1620 - accuracy: 0.9670 - val_loss: 0.1800 - val_accuracy: 0.9035\n",
      "Epoch 11/30\n",
      "10/10 [==============================] - 0s 6ms/step - loss: 0.1446 - accuracy: 0.9670 - val_loss: 0.1659 - val_accuracy: 0.9123\n",
      "Epoch 12/30\n",
      "10/10 [==============================] - 0s 6ms/step - loss: 0.1313 - accuracy: 0.9670 - val_loss: 0.1533 - val_accuracy: 0.9211\n",
      "Epoch 13/30\n",
      "10/10 [==============================] - 0s 6ms/step - loss: 0.1201 - accuracy: 0.9736 - val_loss: 0.1431 - val_accuracy: 0.9211\n",
      "Epoch 14/30\n",
      "10/10 [==============================] - 0s 6ms/step - loss: 0.1100 - accuracy: 0.9736 - val_loss: 0.1351 - val_accuracy: 0.9211\n",
      "Epoch 15/30\n",
      "10/10 [==============================] - 0s 6ms/step - loss: 0.1021 - accuracy: 0.9758 - val_loss: 0.1292 - val_accuracy: 0.9298\n",
      "Epoch 16/30\n",
      "10/10 [==============================] - 0s 6ms/step - loss: 0.0952 - accuracy: 0.9758 - val_loss: 0.1233 - val_accuracy: 0.9561\n",
      "Epoch 17/30\n",
      "10/10 [==============================] - 0s 6ms/step - loss: 0.0910 - accuracy: 0.9758 - val_loss: 0.1182 - val_accuracy: 0.9561\n",
      "Epoch 18/30\n",
      "10/10 [==============================] - 0s 6ms/step - loss: 0.0862 - accuracy: 0.9802 - val_loss: 0.1149 - val_accuracy: 0.9561\n",
      "Epoch 19/30\n",
      "10/10 [==============================] - 0s 6ms/step - loss: 0.0818 - accuracy: 0.9802 - val_loss: 0.1129 - val_accuracy: 0.9561\n",
      "Epoch 20/30\n",
      "10/10 [==============================] - 0s 7ms/step - loss: 0.0779 - accuracy: 0.9802 - val_loss: 0.1114 - val_accuracy: 0.9561\n",
      "Epoch 21/30\n",
      "10/10 [==============================] - 0s 8ms/step - loss: 0.0746 - accuracy: 0.9802 - val_loss: 0.1104 - val_accuracy: 0.9561\n",
      "Epoch 22/30\n",
      "10/10 [==============================] - 0s 7ms/step - loss: 0.0715 - accuracy: 0.9824 - val_loss: 0.1094 - val_accuracy: 0.9561\n",
      "Epoch 23/30\n",
      "10/10 [==============================] - 0s 6ms/step - loss: 0.0693 - accuracy: 0.9824 - val_loss: 0.1094 - val_accuracy: 0.9561\n",
      "Epoch 24/30\n",
      "10/10 [==============================] - 0s 10ms/step - loss: 0.0664 - accuracy: 0.9846 - val_loss: 0.1100 - val_accuracy: 0.9561\n",
      "Epoch 25/30\n",
      "10/10 [==============================] - 0s 8ms/step - loss: 0.0644 - accuracy: 0.9846 - val_loss: 0.1102 - val_accuracy: 0.9561\n",
      "Epoch 26/30\n",
      "10/10 [==============================] - 0s 6ms/step - loss: 0.0626 - accuracy: 0.9846 - val_loss: 0.1103 - val_accuracy: 0.9561\n",
      "Epoch 27/30\n",
      "10/10 [==============================] - 0s 5ms/step - loss: 0.0610 - accuracy: 0.9846 - val_loss: 0.1104 - val_accuracy: 0.9561\n",
      "Epoch 28/30\n",
      "10/10 [==============================] - 0s 8ms/step - loss: 0.0592 - accuracy: 0.9846 - val_loss: 0.1108 - val_accuracy: 0.9561\n",
      "Epoch 29/30\n",
      "10/10 [==============================] - 0s 8ms/step - loss: 0.0579 - accuracy: 0.9846 - val_loss: 0.1113 - val_accuracy: 0.9561\n",
      "Epoch 30/30\n",
      "10/10 [==============================] - 0s 7ms/step - loss: 0.0564 - accuracy: 0.9846 - val_loss: 0.1093 - val_accuracy: 0.9561\n"
     ]
    },
    {
     "data": {
      "text/plain": [
       "<keras.callbacks.History at 0x24f49aafe20>"
      ]
     },
     "execution_count": 38,
     "metadata": {},
     "output_type": "execute_result"
    }
   ],
   "source": [
    "model.fit(x_train, y_train, epochs = 30, batch_size = 50, validation_data = (x_test, y_test))"
   ]
  },
  {
   "cell_type": "code",
   "execution_count": 39,
   "id": "ead3cff1",
   "metadata": {},
   "outputs": [
    {
     "name": "stdout",
     "output_type": "stream",
     "text": [
      "4/4 [==============================] - 0s 2ms/step\n",
      "4/4 [==============================] - 0s 3ms/step - loss: 0.1093 - accuracy: 0.9561\n"
     ]
    }
   ],
   "source": [
    "prediction = model.predict(x_test)\n",
    "score = model.evaluate(x_test, y_test)"
   ]
  }
 ],
 "metadata": {
  "kernelspec": {
   "display_name": "Python 3 (ipykernel)",
   "language": "python",
   "name": "python3"
  },
  "language_info": {
   "codemirror_mode": {
    "name": "ipython",
    "version": 3
   },
   "file_extension": ".py",
   "mimetype": "text/x-python",
   "name": "python",
   "nbconvert_exporter": "python",
   "pygments_lexer": "ipython3",
   "version": "3.10.9"
  }
 },
 "nbformat": 4,
 "nbformat_minor": 5
}
