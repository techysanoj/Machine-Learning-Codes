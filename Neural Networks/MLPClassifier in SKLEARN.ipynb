{
 "cells": [
  {
   "cell_type": "code",
   "execution_count": 1,
   "id": "d8cafe1f-30db-400c-988c-92dd88944c16",
   "metadata": {},
   "outputs": [],
   "source": [
    "from sklearn import datasets\n",
    "from sklearn.model_selection import train_test_split"
   ]
  },
  {
   "cell_type": "code",
   "execution_count": 2,
   "id": "da958e66-4f96-4b13-8094-5b534683deee",
   "metadata": {},
   "outputs": [],
   "source": [
    "iris = datasets.load_iris()\n",
    "\n",
    "X = iris.data\n",
    "Y = iris.target"
   ]
  },
  {
   "cell_type": "code",
   "execution_count": 3,
   "id": "44207524-4f7d-4aa6-a729-3e783e34c89e",
   "metadata": {},
   "outputs": [],
   "source": [
    "X_train, X_test, Y_train, Y_test = train_test_split(X,Y, random_state = 1)"
   ]
  },
  {
   "cell_type": "code",
   "execution_count": 5,
   "id": "2269c7a1-4bfc-4dfd-990b-87a1e691a27c",
   "metadata": {},
   "outputs": [],
   "source": [
    "# importing sklearn classifier\n",
    "\n",
    "from sklearn.neural_network import MLPClassifier"
   ]
  },
  {
   "cell_type": "code",
   "execution_count": 45,
   "id": "fc0fc22d-90e4-40b7-ba9d-dc1accad8cf3",
   "metadata": {},
   "outputs": [],
   "source": [
    "clf = MLPClassifier(hidden_layer_sizes= (20,), max_iter = 1000)"
   ]
  },
  {
   "cell_type": "code",
   "execution_count": 46,
   "id": "43d3f95a-c35d-465d-930b-82e124f38a46",
   "metadata": {},
   "outputs": [
    {
     "data": {
      "text/plain": [
       "MLPClassifier(hidden_layer_sizes=(20,), max_iter=1000)"
      ]
     },
     "execution_count": 46,
     "metadata": {},
     "output_type": "execute_result"
    }
   ],
   "source": [
    "clf.fit(X_train, Y_train)"
   ]
  },
  {
   "cell_type": "code",
   "execution_count": 47,
   "id": "0c8e5f4b-189b-401e-b0fc-8a350d22cbfe",
   "metadata": {},
   "outputs": [],
   "source": [
    "Y_test_pred = clf.predict(X_test)"
   ]
  },
  {
   "cell_type": "code",
   "execution_count": 48,
   "id": "3c6ce0c8-df62-48df-982c-c747c7d56fc2",
   "metadata": {},
   "outputs": [],
   "source": [
    "from sklearn.metrics import classification_report, confusion_matrix"
   ]
  },
  {
   "cell_type": "code",
   "execution_count": 49,
   "id": "f32c95d4-1c8c-445c-b7b6-a9be117226af",
   "metadata": {},
   "outputs": [
    {
     "name": "stdout",
     "output_type": "stream",
     "text": [
      "              precision    recall  f1-score   support\n",
      "\n",
      "           0       1.00      1.00      1.00        13\n",
      "           1       1.00      1.00      1.00        16\n",
      "           2       1.00      1.00      1.00         9\n",
      "\n",
      "    accuracy                           1.00        38\n",
      "   macro avg       1.00      1.00      1.00        38\n",
      "weighted avg       1.00      1.00      1.00        38\n",
      "\n",
      "[[13  0  0]\n",
      " [ 0 16  0]\n",
      " [ 0  0  9]]\n",
      "1e+00\n"
     ]
    }
   ],
   "source": [
    "print(classification_report(Y_test, Y_test_pred))\n",
    "print(confusion_matrix(Y_test, Y_test_pred))\n",
    "print(clf.score(X_test, Y_test))"
   ]
  },
  {
   "cell_type": "code",
   "execution_count": 51,
   "id": "5f5be53d-6877-462e-b353-cb92866d2a0a",
   "metadata": {},
   "outputs": [
    {
     "data": {
      "text/plain": [
       "[array([[ 1.98532550e-01, -5.11352356e-01,  1.05885401e-01,\n",
       "         -7.65205514e-05, -1.31746571e-01, -2.73087749e-01,\n",
       "          6.52284897e-01,  7.17521100e-01,  5.46358988e-01,\n",
       "          2.84780101e-01,  6.94392829e-01,  4.38080160e-01,\n",
       "          4.07615776e-05,  2.37024798e-01, -2.02477262e-02,\n",
       "         -1.79575025e-02,  2.71093268e-01, -1.13159617e-02,\n",
       "          4.89628814e-01,  1.23337935e-01],\n",
       "        [-2.27735580e-01,  2.13602381e-01,  3.06345728e-01,\n",
       "          2.94143651e-22, -2.29471738e-01, -1.46452957e-01,\n",
       "          3.31777974e-01,  5.55870101e-02,  5.45446585e-01,\n",
       "         -4.82072425e-01,  2.07172463e-01,  2.97019774e-01,\n",
       "         -1.85882260e-03, -4.87408519e-01, -1.35418733e-02,\n",
       "         -2.76726563e-01,  1.55576347e-01,  6.68601159e-01,\n",
       "          6.25859868e-01, -5.00240644e-01],\n",
       "        [ 2.14449036e-01,  3.81455188e-01, -1.27034779e-01,\n",
       "          4.60441970e-04,  8.71773575e-01,  3.59404478e-01,\n",
       "         -7.08001490e-01, -7.46040828e-01, -7.16342239e-01,\n",
       "          4.53734170e-01, -1.09358386e-02,  5.15147050e-01,\n",
       "         -9.78509177e-03, -1.30755426e-01, -8.28645977e-07,\n",
       "          1.69652525e-01, -1.92825289e-01, -1.40605905e-01,\n",
       "         -8.22220081e-01,  6.13200389e-01],\n",
       "        [ 4.29177834e-01, -1.41697265e-02, -1.12569630e-01,\n",
       "         -1.40126986e-02,  6.32727050e-01, -2.22498426e-01,\n",
       "         -7.77457752e-01, -6.75558447e-01, -1.09675444e-01,\n",
       "          4.85923501e-01, -5.97453578e-02,  5.42887073e-02,\n",
       "         -4.14149613e-16,  3.52272198e-01,  1.81653697e-08,\n",
       "         -4.36715845e-01,  1.61335521e-01, -1.91975398e-01,\n",
       "         -5.19563730e-01, -2.09150606e-02]]),\n",
       " array([[-3.12038782e-01, -4.15659935e-01,  1.07031378e-01],\n",
       "        [ 2.20824170e-01,  4.71441750e-01,  9.98708687e-02],\n",
       "        [-6.39448384e-02,  3.39861573e-01, -3.39062627e-01],\n",
       "        [ 1.19324013e-02, -1.79344394e-02, -2.18132863e-02],\n",
       "        [-9.58719722e-01,  5.65890592e-02,  1.09222555e+00],\n",
       "        [ 9.58164642e-05,  1.78811414e-06, -2.01741741e-02],\n",
       "        [ 6.89655322e-01,  6.11512237e-01, -7.78736053e-01],\n",
       "        [ 1.02599534e+00,  1.21230997e+00, -1.26618394e+00],\n",
       "        [ 5.72187118e-01, -2.26157910e-02, -1.89234017e-01],\n",
       "        [-7.84459748e-01,  2.46969056e-01,  8.80579352e-01],\n",
       "        [ 2.32887725e-02, -4.06911014e-01, -5.59891902e-01],\n",
       "        [-1.61453028e-01,  3.21371716e-01, -8.24371698e-02],\n",
       "        [ 5.86574049e-03, -2.74786319e-13,  7.21399387e-03],\n",
       "        [ 3.61902632e-01,  2.76960123e-01, -2.52142983e-01],\n",
       "        [ 7.02357478e-03,  3.10980257e-03,  3.53009480e-04],\n",
       "        [ 3.96348219e-01,  9.07886663e-02,  4.03528693e-01],\n",
       "        [-1.51207336e-01, -4.26504293e-01,  5.75475174e-02],\n",
       "        [ 6.02535286e-01,  6.39816305e-02,  8.51521162e-02],\n",
       "        [ 2.21271242e-01, -3.46564882e-01, -1.04673530e+00],\n",
       "        [-8.49636972e-01, -1.84825441e-01,  3.24264976e-01]])]"
      ]
     },
     "execution_count": 51,
     "metadata": {},
     "output_type": "execute_result"
    }
   ],
   "source": [
    "# to know all the weights \n",
    "clf.coefs_"
   ]
  },
  {
   "cell_type": "code",
   "execution_count": 53,
   "id": "90091eb6-1143-4ed4-8aa4-fb4043eb3821",
   "metadata": {},
   "outputs": [
    {
     "data": {
      "text/plain": [
       "(4, 20)"
      ]
     },
     "execution_count": 53,
     "metadata": {},
     "output_type": "execute_result"
    }
   ],
   "source": [
    "clf.coefs_[0].shape"
   ]
  },
  {
   "cell_type": "code",
   "execution_count": 54,
   "id": "6561302b-d032-40f1-ac66-472efb7bb999",
   "metadata": {},
   "outputs": [
    {
     "data": {
      "text/plain": [
       "(20, 3)"
      ]
     },
     "execution_count": 54,
     "metadata": {},
     "output_type": "execute_result"
    }
   ],
   "source": [
    "clf.coefs_[1].shape"
   ]
  }
 ],
 "metadata": {
  "kernelspec": {
   "display_name": "Python 3 (ipykernel)",
   "language": "python",
   "name": "python3"
  },
  "language_info": {
   "codemirror_mode": {
    "name": "ipython",
    "version": 3
   },
   "file_extension": ".py",
   "mimetype": "text/x-python",
   "name": "python",
   "nbconvert_exporter": "python",
   "pygments_lexer": "ipython3",
   "version": "3.10.9"
  }
 },
 "nbformat": 4,
 "nbformat_minor": 5
}
