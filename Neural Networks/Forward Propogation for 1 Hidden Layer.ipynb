{
 "cells": [
  {
   "cell_type": "code",
   "execution_count": 2,
   "id": "73a6d30c-1c01-46eb-85db-6d2da9f320d1",
   "metadata": {},
   "outputs": [],
   "source": [
    "import numpy as np\n",
    "\n",
    "X = np.array([[0,0], [0,1], [1,0], [1,1]])\n",
    "Y = np.array([[0,1,1,1]]).T\n"
   ]
  },
  {
   "cell_type": "code",
   "execution_count": 3,
   "id": "c51191ba-736b-442c-903b-84d263988d78",
   "metadata": {},
   "outputs": [
    {
     "data": {
      "text/plain": [
       "((4, 2), (4, 1))"
      ]
     },
     "execution_count": 3,
     "metadata": {},
     "output_type": "execute_result"
    }
   ],
   "source": [
    "X.shape, Y.shape"
   ]
  },
  {
   "cell_type": "code",
   "execution_count": 4,
   "id": "bd5cd77f-3b28-4d9f-8718-f1b7859af5b3",
   "metadata": {},
   "outputs": [],
   "source": [
    "# defining own sigmoid function\n",
    "\n",
    "def sig(z):\n",
    "    return 1/(1 + np.exp(-z))"
   ]
  },
  {
   "cell_type": "code",
   "execution_count": 11,
   "id": "d291b27f-4c80-42dc-ba98-fe71f076416b",
   "metadata": {},
   "outputs": [
    {
     "data": {
      "text/plain": [
       "(array([[ 0.59701885, -0.51011708],\n",
       "        [ 0.36381771, -0.97474197]]),\n",
       " array([[-0.96819205,  0.11473961]]),\n",
       " array([[-0.22414442],\n",
       "        [-0.34606637]]),\n",
       " array([-0.08712039]))"
      ]
     },
     "execution_count": 11,
     "metadata": {},
     "output_type": "execute_result"
    }
   ],
   "source": [
    "# defining weights here 1 hidden layer\n",
    "\n",
    "wh = 2*np.random.random((2,2)) - 1\n",
    "bh = 2*np.random.random((1,2)) - 1\n",
    "wo = 2*np.random.random((2,1))  - 1\n",
    "bo = 2*np.random.random(1) - 1\n",
    "\n",
    "wh, bh, wo, bo"
   ]
  },
  {
   "cell_type": "code",
   "execution_count": 12,
   "id": "b5532707-2ffb-4531-b196-214945f83264",
   "metadata": {},
   "outputs": [
    {
     "data": {
      "text/plain": [
       "array([[0.38595616],\n",
       "       [0.40044966],\n",
       "       [0.38862557],\n",
       "       [0.40069939]])"
      ]
     },
     "execution_count": 12,
     "metadata": {},
     "output_type": "execute_result"
    }
   ],
   "source": [
    "output0 = X\n",
    "outputHidden = sig(np.dot(output0, wh)) + bh\n",
    "output  = sig(np.dot(outputHidden, wo)) + bo\n",
    "output"
   ]
  }
 ],
 "metadata": {
  "kernelspec": {
   "display_name": "anaconda-2022.05-py39",
   "language": "python",
   "name": "conda-env-anaconda-2022.05-py39-py"
  },
  "language_info": {
   "codemirror_mode": {
    "name": "ipython",
    "version": 3
   },
   "file_extension": ".py",
   "mimetype": "text/x-python",
   "name": "python",
   "nbconvert_exporter": "python",
   "pygments_lexer": "ipython3",
   "version": "3.9.12"
  }
 },
 "nbformat": 4,
 "nbformat_minor": 5
}
