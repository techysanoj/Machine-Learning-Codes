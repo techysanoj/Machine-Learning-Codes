{
 "cells": [
  {
   "cell_type": "code",
   "execution_count": 1,
   "id": "9f0f2610-769c-4ba8-a9c1-6a654f7b7657",
   "metadata": {},
   "outputs": [],
   "source": [
    "import numpy as np"
   ]
  },
  {
   "cell_type": "code",
   "execution_count": 16,
   "id": "7d723608-9376-404d-b8f0-44dcec1a52f7",
   "metadata": {},
   "outputs": [],
   "source": [
    "# defining own sigmoid function\n",
    "\n",
    "def sig(z):\n",
    "    return 1/(1 + np.exp(-z))"
   ]
  },
  {
   "cell_type": "code",
   "execution_count": 21,
   "id": "732907ad-a6b6-46cf-8d1f-bda54b194179",
   "metadata": {},
   "outputs": [],
   "source": [
    "def derivativeSigmoid(z):\n",
    "    return sig(z)*(1 - sig(z))"
   ]
  },
  {
   "cell_type": "code",
   "execution_count": 83,
   "id": "8143a725-e894-44e8-8905-f5d47ea2cbd5",
   "metadata": {},
   "outputs": [],
   "source": [
    "X = np.array([[0,0], [0,1], [1,0], [1,1]])\n",
    "Y = np.array([[0,0,0,1]]).T"
   ]
  },
  {
   "cell_type": "code",
   "execution_count": 105,
   "id": "a5948fae-e253-451e-a158-551f1b6b1cce",
   "metadata": {},
   "outputs": [
    {
     "data": {
      "text/plain": [
       "(array([[ 0.28848966],\n",
       "        [-0.28972253]]),\n",
       " array([-0.89137928]))"
      ]
     },
     "execution_count": 105,
     "metadata": {},
     "output_type": "execute_result"
    }
   ],
   "source": [
    "weights = 2*np.random.random([2,1]) - 1\n",
    "bias = 2*np.random.random(1) - 1\n",
    "\n",
    "weights, bias"
   ]
  },
  {
   "cell_type": "code",
   "execution_count": 106,
   "id": "54a16d2d-d1a8-4763-bf9d-14c87bf97fd8",
   "metadata": {},
   "outputs": [],
   "source": [
    "# forward propogation \n",
    "\n",
    "output0 = X\n",
    "output = sig(np.dot(output0, weights)) + bias\n",
    "\n",
    "lr = 0.1"
   ]
  },
  {
   "cell_type": "code",
   "execution_count": 80,
   "id": "c029367e-640f-46e4-b8f8-4acd82fbce10",
   "metadata": {},
   "outputs": [
    {
     "name": "stdout",
     "output_type": "stream",
     "text": [
      "[[19.03353293]\n",
      " [19.53313629]\n",
      " [19.53346006]\n",
      " [19.5335329 ]]\n"
     ]
    }
   ],
   "source": [
    "for iter in range(1000):\n",
    "    first_term = output - Y\n",
    "    input_for_last_layer = np.dot(output0, weights) + bias\n",
    "    second_term = derivativeSigmoid(input_for_last_layer)\n",
    "    first_two_term_in_der = first_term * second_term\n",
    "    first_two_term_in_der.shape\n",
    "        # backward propogation\n",
    "    changes_in_weights = np.array([[0.0], [0.0]])\n",
    "    for i in range(2):\n",
    "        for j in range(4):\n",
    "            changes_in_weights[i][0] += first_two_term_in_der[j][0]*output0[j][i]\n",
    "    weights = weights - lr*changes_in_weights\n",
    "    bias_changes = 0.0\n",
    "    for j in range(4):\n",
    "        bias_changes += first_two_term_in_der[j][0]*1\n",
    "    bias = bias - lr*bias_changes\n",
    "    output = sig(np.dot(X, weights)) + bias\n",
    "print(output)"
   ]
  },
  {
   "cell_type": "code",
   "execution_count": 107,
   "id": "12312810-e299-4260-97c4-b7b91f1f1ccd",
   "metadata": {},
   "outputs": [
    {
     "name": "stdout",
     "output_type": "stream",
     "text": [
      "[[-0.15815549]\n",
      " [ 0.183635  ]\n",
      " [ 0.19943374]\n",
      " [ 0.31157921]]\n"
     ]
    }
   ],
   "source": [
    "# we can multiply this in another way\n",
    "\n",
    "for iter in range(1000):\n",
    "    first_term = output - Y\n",
    "    input_for_last_layer = np.dot(output0, weights) + bias\n",
    "    second_term = derivativeSigmoid(input_for_last_layer)\n",
    "    first_two_term_in_der = first_term * second_term\n",
    "    first_two_term_in_der.shape\n",
    "        # backward propogation\n",
    "    changes_in_weights = np.dot(output0.T, first_two_term_in_der)\n",
    "    weights = weights - lr*changes_in_weights\n",
    "    bias_changes = np.sum(first_two_term_in_der)\n",
    "    bias = bias - lr*bias_changes\n",
    "    output = sig(np.dot(X, weights)) + bias\n",
    "print(output)\n"
   ]
  }
 ],
 "metadata": {
  "kernelspec": {
   "display_name": "anaconda-2022.05-py39",
   "language": "python",
   "name": "conda-env-anaconda-2022.05-py39-py"
  },
  "language_info": {
   "codemirror_mode": {
    "name": "ipython",
    "version": 3
   },
   "file_extension": ".py",
   "mimetype": "text/x-python",
   "name": "python",
   "nbconvert_exporter": "python",
   "pygments_lexer": "ipython3",
   "version": "3.9.12"
  }
 },
 "nbformat": 4,
 "nbformat_minor": 5
}
