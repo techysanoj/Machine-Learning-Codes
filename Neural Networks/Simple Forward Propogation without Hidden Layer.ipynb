{
 "cells": [
  {
   "cell_type": "code",
   "execution_count": 1,
   "id": "a50bc3cd-d3f1-4bae-a642-5369599eadfc",
   "metadata": {},
   "outputs": [],
   "source": [
    "import numpy as np\n",
    "\n",
    "X = np.array([[0,0], [0,1], [1,0], [1,1]])\n",
    "Y = np.array([[0,1,1,1]]).T\n"
   ]
  },
  {
   "cell_type": "code",
   "execution_count": 2,
   "id": "eaf79149-4be7-4b19-9e57-0564116d6264",
   "metadata": {},
   "outputs": [
    {
     "data": {
      "text/plain": [
       "((4, 2), (4, 1))"
      ]
     },
     "execution_count": 2,
     "metadata": {},
     "output_type": "execute_result"
    }
   ],
   "source": [
    "X.shape, Y.shape"
   ]
  },
  {
   "cell_type": "code",
   "execution_count": 3,
   "id": "2987f26f-5c74-4240-b236-823aaecd62d0",
   "metadata": {},
   "outputs": [],
   "source": [
    "# defining own sigmoid function\n",
    "\n",
    "def sig(z):\n",
    "    return 1/(1 + np.exp(-z))"
   ]
  },
  {
   "cell_type": "code",
   "execution_count": 5,
   "id": "60809605-16fe-4a9a-8938-ff70bc4ba6da",
   "metadata": {},
   "outputs": [
    {
     "data": {
      "text/plain": [
       "(array([[0.89373352],\n",
       "        [0.49401366]]),\n",
       " array([0.33653966]))"
      ]
     },
     "execution_count": 5,
     "metadata": {},
     "output_type": "execute_result"
    }
   ],
   "source": [
    "# defining weights but here no hidden layer\n",
    "\n",
    "weights = 2*np.random.random((2,1)) - 1\n",
    "bias = 2*np.random.random(1) - 1\n",
    "\n",
    "weights, bias"
   ]
  },
  {
   "cell_type": "code",
   "execution_count": 9,
   "id": "02f4161f-9c18-4fdf-a67d-b11cd5fb217f",
   "metadata": {},
   "outputs": [
    {
     "data": {
      "text/plain": [
       "array([[0.83653966],\n",
       "       [0.95759115],\n",
       "       [1.0461997 ],\n",
       "       [1.13677201]])"
      ]
     },
     "execution_count": 9,
     "metadata": {},
     "output_type": "execute_result"
    }
   ],
   "source": [
    "# store the input in another variable\n",
    "\n",
    "output0 = X\n",
    "# we need to do dot product of output0 with weights to get the outputs\n",
    "\n",
    "output = sig(np.dot(output0, weights)) + bias\n",
    "\n",
    "output"
   ]
  }
 ],
 "metadata": {
  "kernelspec": {
   "display_name": "anaconda-2022.05-py39",
   "language": "python",
   "name": "conda-env-anaconda-2022.05-py39-py"
  },
  "language_info": {
   "codemirror_mode": {
    "name": "ipython",
    "version": 3
   },
   "file_extension": ".py",
   "mimetype": "text/x-python",
   "name": "python",
   "nbconvert_exporter": "python",
   "pygments_lexer": "ipython3",
   "version": "3.9.12"
  }
 },
 "nbformat": 4,
 "nbformat_minor": 5
}
