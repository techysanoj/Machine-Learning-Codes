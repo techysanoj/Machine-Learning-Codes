{
 "cells": [
  {
   "cell_type": "code",
   "execution_count": 15,
   "id": "017364ce",
   "metadata": {},
   "outputs": [
    {
     "name": "stdout",
     "output_type": "stream",
     "text": [
      "102\n",
      "<tf.Variable 'AssignVariableOp_2' shape=() dtype=int32>\n",
      "10002\n"
     ]
    }
   ],
   "source": [
    "import tensorflow as tf\n",
    "with tf.compat.v1.Session() as sess:\n",
    "    var1 = tf.Variable(100)\n",
    "    var2 = tf.Variable(2)\n",
    "    sum = tf.add(var1, var2)\n",
    "    sess.run(tf.compat.v1.global_variables_initializer())\n",
    "    print(sess.run(sum))\n",
    "    \n",
    "    # to assign new value to the variable\n",
    "    assign = var1.assign(10000)\n",
    "    sess.run(assign)\n",
    "    # here it will change the var1  value to 10000 and now if we do sum it will add 10000 + 2\n",
    "    print(assign)\n",
    "    print(sess.run(sum))"
   ]
  }
 ],
 "metadata": {
  "kernelspec": {
   "display_name": "Python 3 (ipykernel)",
   "language": "python",
   "name": "python3"
  },
  "language_info": {
   "codemirror_mode": {
    "name": "ipython",
    "version": 3
   },
   "file_extension": ".py",
   "mimetype": "text/x-python",
   "name": "python",
   "nbconvert_exporter": "python",
   "pygments_lexer": "ipython3",
   "version": "3.10.9"
  }
 },
 "nbformat": 4,
 "nbformat_minor": 5
}
