{
 "cells": [
  {
   "cell_type": "code",
   "execution_count": 14,
   "id": "4072430c",
   "metadata": {},
   "outputs": [
    {
     "name": "stdout",
     "output_type": "stream",
     "text": [
      "150\n",
      "[[1000 2000 3000]\n",
      " [2000 3000 4000]\n",
      " [3000 4000 5000]]\n"
     ]
    }
   ],
   "source": [
    "import tensorflow as tf\n",
    "with tf.compat.v1.Session() as sess:\n",
    "    # creating placeholder\n",
    "    a = tf.compat.v1.placeholder(tf.int32)\n",
    "    b = a*tf.constant(15)\n",
    "    print(sess.run(b, feed_dict={a:10}))\n",
    "    # here we can use shape of the placeholder\n",
    "    a = tf.compat.v1.placeholder(tf.int32, shape= (3,3))\n",
    "    # it means it has shape of 1d array 3 x 3\n",
    "    b = a*tf.constant(100)\n",
    "    print(sess.run(b, feed_dict = {a: [[10,20,30], [20,30,40],[30,40,50]]}))"
   ]
  }
 ],
 "metadata": {
  "kernelspec": {
   "display_name": "Python 3 (ipykernel)",
   "language": "python",
   "name": "python3"
  },
  "language_info": {
   "codemirror_mode": {
    "name": "ipython",
    "version": 3
   },
   "file_extension": ".py",
   "mimetype": "text/x-python",
   "name": "python",
   "nbconvert_exporter": "python",
   "pygments_lexer": "ipython3",
   "version": "3.10.9"
  }
 },
 "nbformat": 4,
 "nbformat_minor": 5
}
