{
 "cells": [
  {
   "cell_type": "code",
   "execution_count": 23,
   "id": "0578f1ff",
   "metadata": {},
   "outputs": [],
   "source": [
    "import tensorflow as tf"
   ]
  },
  {
   "cell_type": "code",
   "execution_count": 24,
   "id": "0dd462f7",
   "metadata": {},
   "outputs": [
    {
     "name": "stdout",
     "output_type": "stream",
     "text": [
      "[ 1.4388602  -0.5984376  -0.3776181   0.19590898  0.19161423  1.3796926\n",
      " -0.06448834 -0.8875859  -1.5694473   0.5930707  -0.43088394 -1.1463968\n",
      " -0.04543351  1.6659316  -0.28816253 -1.2491038  -0.09439474  1.1248437\n",
      "  1.026182   -1.2247499   0.3177036   2.7085667   1.024487   -0.00588719\n",
      " -0.27969056  0.82374275  0.50642955 -1.2508156  -0.7030372  -0.68047154\n",
      "  0.7875998  -2.3394666   0.19665758  0.2382703  -1.4883288   2.7816606\n",
      " -0.18682967 -0.15618236 -0.16719116  0.9857194   1.0752524  -1.3663819\n",
      "  0.09375254  0.68870723 -0.03314176  0.15220912 -0.6641918  -0.59006965\n",
      "  0.35192367  0.56242764  0.5926086   2.557037    1.1275316   0.3976041\n",
      " -0.7895081  -1.7826005  -0.9638187  -0.75173604  0.65558547 -0.34179354\n",
      " -0.51847154  1.5401803   0.18935238 -0.36939284 -0.24772003 -0.06153839\n",
      "  0.18916467  0.85797966  1.750326    0.47394344  0.48275936 -1.7065761\n",
      "  1.2816736  -1.1858405   1.5097016  -0.05272854 -0.06124332 -0.9253902\n",
      " -0.5360642   2.4264326  -1.5889313   0.16842206  0.72967285 -0.07037186\n",
      "  0.45619678 -1.1075908  -0.23936363  0.18761612  0.25257713 -0.2667373\n",
      " -0.2310449   1.3850161  -0.30116296 -0.9052413   0.7873502   0.64467764\n",
      " -0.10578669 -1.4800097   0.86549     0.85550624]\n"
     ]
    }
   ],
   "source": [
    "with tf.compat.v1.Session() as sess:\n",
    "    print(tf.compat.v1.random_normal([100]).eval())\n",
    "    # we will use random_normal to initialize the weights"
   ]
  },
  {
   "cell_type": "code",
   "execution_count": 35,
   "id": "f9a4fbb8",
   "metadata": {},
   "outputs": [],
   "source": [
    "n_input = 784\n",
    "hidden_1 = 256\n",
    "hidden_2 = 256\n",
    "n_classes = 10\n",
    "\n",
    "weights = {\n",
    "    'h1': tf.Variable(tf.compat.v1.random_normal([n_input, hidden_1])),\n",
    "    'h2': tf.Variable(tf.compat.v1.random_normal([hidden_1, hidden_2])),\n",
    "    'out': tf.Variable(tf.compat.v1.random_normal([n_classes]))\n",
    "}"
   ]
  },
  {
   "cell_type": "code",
   "execution_count": 26,
   "id": "c76875b3",
   "metadata": {},
   "outputs": [
    {
     "data": {
      "text/plain": [
       "({'h1': <tf.Variable 'Variable:0' shape=(256,) dtype=float32, numpy=\n",
       "  array([-3.52033347e-01, -1.48944283e+00,  1.59691530e-03, -2.40276128e-01,\n",
       "         -1.15012956e+00, -7.82428831e-02, -1.13472903e+00, -2.97110360e-02,\n",
       "         -1.51762903e-01,  8.83959420e-03, -5.81467509e-01,  2.04492998e+00,\n",
       "          2.23778412e-01,  8.58775973e-01,  1.64174214e-01,  4.17319745e-01,\n",
       "          1.84467340e+00,  4.10711288e-01, -1.71882224e+00,  1.48597884e+00,\n",
       "         -2.31400639e-01, -6.33726001e-01, -5.03972471e-01,  5.91725051e-01,\n",
       "          2.05850625e+00,  8.99436951e-01, -4.18822229e-01,  7.23184705e-01,\n",
       "          2.34936047e+00,  1.22893393e+00,  1.21242392e+00, -2.54640400e-01,\n",
       "         -6.50076509e-01, -9.30755675e-01,  5.50629437e-01,  2.57201105e-01,\n",
       "         -8.08653712e-01, -1.11920428e+00,  4.99099195e-01, -1.12173378e+00,\n",
       "          1.58364952e+00, -7.22455144e-01, -1.11607075e+00,  1.35367668e+00,\n",
       "          5.47332883e-01,  1.62902796e+00,  7.78210878e-01,  1.65645838e-01,\n",
       "          1.94019452e-01,  1.55078843e-01, -4.75591063e-01,  1.07830775e+00,\n",
       "          2.09055826e-01, -4.12730604e-01,  3.11546832e-01, -6.10214710e-01,\n",
       "         -1.76736608e-01, -1.84814811e-01,  1.06047675e-01,  6.34559870e-01,\n",
       "          1.91783249e+00,  1.33087409e+00, -4.05869216e-01,  2.87346184e-01,\n",
       "         -1.41248894e+00,  1.65232110e+00,  6.93122819e-02,  6.50213599e-01,\n",
       "         -6.03825748e-01, -5.61551690e-01,  4.33321208e-01, -2.77068794e-01,\n",
       "         -6.13186836e-01,  7.57976472e-01,  1.23189306e+00,  9.90620077e-01,\n",
       "          1.83131802e+00,  1.01083124e+00,  1.14007878e+00, -1.60226274e+00,\n",
       "         -1.67232370e+00, -5.54873943e-01,  5.71489275e-01,  1.81748439e-02,\n",
       "         -4.69814420e-01, -2.50755608e-01, -4.31415379e-01, -1.56784475e+00,\n",
       "          4.82268296e-02,  2.78907776e-01,  7.00493872e-01, -1.07201016e+00,\n",
       "          5.96018247e-02, -1.22839403e+00, -1.67329633e+00,  2.03691673e+00,\n",
       "         -1.85623229e-01,  2.49178797e-01, -1.12240064e+00, -4.89610255e-01,\n",
       "         -2.15161681e-01, -1.09669819e-01,  8.57682824e-01, -3.11856896e-01,\n",
       "         -6.60597682e-02,  3.94961596e-01,  5.44754982e-01, -2.38149822e-01,\n",
       "          8.01845610e-01, -1.11745453e+00,  1.16382992e+00,  8.69898796e-01,\n",
       "          1.27176487e+00,  1.28099263e+00, -3.93199533e-01,  6.75734937e-01,\n",
       "          7.86670446e-01,  1.83278203e+00,  2.04557514e+00,  9.64967720e-03,\n",
       "          1.27962339e+00, -1.01771581e+00, -1.87311828e+00, -1.18883260e-01,\n",
       "         -3.19498956e-01,  8.50216091e-01, -1.10467899e+00,  4.23083343e-02,\n",
       "         -1.39928067e+00,  1.59637213e-01, -4.64202583e-01,  6.44582868e-01,\n",
       "         -1.44645441e+00,  5.67670047e-01,  3.27901125e-01,  5.14977336e-01,\n",
       "         -2.05085015e+00,  6.33152544e-01, -1.28420860e-01,  6.78175092e-01,\n",
       "          1.22767544e+00, -1.00065064e+00,  9.05503407e-02, -2.02940083e+00,\n",
       "         -4.48246568e-01,  6.38364673e-01,  1.19951762e-01,  2.49945924e-01,\n",
       "          4.31924999e-01,  2.13350922e-01,  5.10945022e-01,  1.65607095e+00,\n",
       "          2.65382320e-01, -5.95156670e-01,  5.07142425e-01,  1.60275352e+00,\n",
       "          6.45980299e-01, -9.07226861e-01,  1.15272844e+00,  3.51835728e-01,\n",
       "          8.65953624e-01,  2.24010730e+00, -7.06065536e-01, -6.92720354e-01,\n",
       "          4.51560467e-01,  1.75472450e+00,  8.20535243e-01, -7.89209247e-01,\n",
       "         -8.29001963e-01,  8.17547202e-01, -2.16004461e-01, -3.70159931e-02,\n",
       "          1.32307976e-01, -6.18138686e-02, -6.35914087e-01,  1.06804097e+00,\n",
       "         -1.35685599e+00, -6.83034003e-01, -2.12116092e-01, -9.09444273e-01,\n",
       "          7.84074128e-01, -4.65337336e-01, -7.25340389e-04,  2.05876052e-01,\n",
       "          2.55281305e+00, -7.33621716e-01,  1.15449882e+00, -4.93588775e-01,\n",
       "         -6.13783062e-01, -8.91071439e-01,  5.60288727e-01,  2.13409662e+00,\n",
       "          8.76891613e-01, -7.27852762e-01, -3.12520653e-01, -2.27024078e+00,\n",
       "          2.28352189e-01, -5.69222391e-01,  1.12196811e-01, -6.16102278e-01,\n",
       "         -2.01521635e-01, -2.08547100e-01,  1.71874809e+00, -1.02992225e+00,\n",
       "         -1.61672926e+00,  1.18568039e+00,  2.79691726e-01,  7.53286481e-01,\n",
       "          7.22214505e-02, -4.46675152e-01, -1.96992481e+00,  7.44299948e-01,\n",
       "         -1.48220634e+00, -1.66556859e+00,  1.97959983e+00,  3.00371408e-01,\n",
       "          4.13095176e-01, -1.69686091e+00,  1.93082929e+00, -5.35743460e-02,\n",
       "          1.00305033e+00, -4.51940686e-01, -1.73812270e+00,  1.03515649e+00,\n",
       "         -1.72393548e+00, -1.54022634e-01,  6.49278522e-01,  2.48126793e+00,\n",
       "         -2.64083073e-02,  1.53353071e+00, -1.10692632e+00,  1.43206632e+00,\n",
       "         -1.14151144e+00, -2.24930096e+00,  1.93726450e-01, -3.94127458e-01,\n",
       "          5.30868411e-01, -1.12155586e-01,  9.65997159e-01,  9.03345764e-01,\n",
       "          4.96187285e-02, -1.07235797e-01, -8.79270315e-01, -1.60480845e+00,\n",
       "         -5.70357680e-01,  9.01103735e-01, -1.82089746e-01, -7.47171491e-02,\n",
       "          4.44961756e-01, -1.22537100e+00, -6.20163262e-01, -1.18303426e-01,\n",
       "         -1.01787555e+00,  1.20485556e+00, -1.10362232e+00, -3.46043020e-01],\n",
       "        dtype=float32)>,\n",
       "  'h2': <tf.Variable 'Variable:0' shape=(256,) dtype=float32, numpy=\n",
       "  array([ 1.4066799e+00,  5.8723843e-01, -1.1136990e+00, -3.8823870e-01,\n",
       "          7.1128684e-01,  2.1590380e-01,  1.1392425e+00,  1.9081714e+00,\n",
       "          6.4589083e-02,  6.0864758e-01, -1.6727023e+00,  7.9268724e-01,\n",
       "          8.9310616e-01, -1.5865264e+00,  3.2797977e-01, -7.9212183e-01,\n",
       "         -2.6240781e-01,  1.0764303e+00,  2.7473554e-01, -4.8005414e-01,\n",
       "          8.4652108e-01, -6.7942643e-01, -2.6043662e-01,  1.9334540e+00,\n",
       "          1.6844840e+00, -1.8238430e+00,  1.4415874e-01,  9.8090388e-02,\n",
       "         -1.9510983e-01,  6.9785893e-01,  2.1548481e+00, -4.0999845e-01,\n",
       "          1.2285678e+00, -8.9334393e-01, -5.6548572e-01,  5.3532368e-01,\n",
       "         -6.1828899e-01, -7.8003734e-01, -6.9436115e-01, -8.6810040e-01,\n",
       "         -5.8419436e-01,  5.5649489e-01, -8.2182658e-01, -8.1239873e-01,\n",
       "         -1.7973950e+00,  1.0122643e+00, -1.8499020e-01, -3.5256982e-01,\n",
       "         -5.3623790e-01, -1.1279141e+00, -6.8377948e-01, -3.1333116e-01,\n",
       "          4.3743891e-01, -1.7402803e+00,  2.9846159e-01,  3.1739742e-01,\n",
       "         -7.9068834e-01, -8.9538890e-01, -4.7217138e-02, -1.7652764e+00,\n",
       "          1.0631787e+00,  1.1778151e+00,  1.5048084e+00,  1.6584423e-01,\n",
       "         -2.8810608e-01,  6.4562756e-01,  6.7234659e-01,  2.7374911e-01,\n",
       "         -9.9548674e-01,  7.1936131e-01, -9.2486006e-01, -6.5548790e-01,\n",
       "         -1.7119337e+00,  5.8244228e-01, -1.3399454e+00,  1.2980858e+00,\n",
       "          3.6866808e-01, -9.9080187e-01,  1.1959327e+00, -1.2727538e+00,\n",
       "          7.1975708e-01,  1.2538071e-01,  9.8583691e-02, -7.4548453e-01,\n",
       "         -3.0064715e-02, -1.0197593e+00, -2.6816291e-01,  2.8524452e-01,\n",
       "         -2.8614905e-01,  8.7298304e-01, -2.8588483e-01,  4.5796025e-01,\n",
       "          8.4074759e-01, -9.9509579e-01, -6.6103959e-01, -1.1268119e+00,\n",
       "          2.5452277e-01,  1.2337657e+00, -1.7920488e-01, -2.1327577e+00,\n",
       "          1.4430755e+00, -6.6563433e-01,  8.2363588e-01,  7.2651225e-01,\n",
       "          9.1621417e-01, -1.4899055e+00, -1.0699767e+00, -5.2554995e-01,\n",
       "         -2.1640391e+00, -1.1766895e+00, -8.6549127e-01, -5.7371706e-02,\n",
       "         -1.4576875e+00, -9.6458244e-01,  8.7788165e-02,  1.3563402e-01,\n",
       "         -9.7283703e-01, -1.9520247e+00, -5.2792782e-01,  1.0443058e+00,\n",
       "         -2.2558597e-01,  2.1452883e-01, -5.3709604e-02,  8.6112851e-01,\n",
       "         -5.5785173e-01, -6.9188076e-01, -5.5507547e-01,  1.2863084e+00,\n",
       "         -1.3470224e+00, -1.5660215e-02,  1.0710797e+00, -2.0020974e-01,\n",
       "          9.1919804e-01, -5.7432395e-01, -1.0342759e+00, -2.1297014e-01,\n",
       "          1.3548586e+00,  1.3576218e+00, -1.5768515e+00,  4.2807255e-02,\n",
       "         -1.5547101e-01, -1.3582382e+00, -3.4334409e-01,  1.7497420e-01,\n",
       "          5.0541788e-01,  3.5469002e-01, -4.3865702e-01, -5.3195126e-02,\n",
       "         -7.0786482e-01, -6.2010330e-01, -1.0461691e-01,  1.5219979e+00,\n",
       "          2.5774583e-01, -1.3052518e+00,  1.5476853e-01,  7.2848624e-01,\n",
       "          1.1317146e+00, -1.3057692e-01,  1.5734987e-01,  6.4628738e-01,\n",
       "         -1.3855920e+00,  2.6312950e+00, -9.5248699e-01, -1.1420606e+00,\n",
       "         -4.6036944e-01,  1.1755948e+00, -3.1205958e-01,  2.1645672e+00,\n",
       "          2.3832928e-01, -1.2496313e+00,  3.3351371e-01,  8.0507606e-01,\n",
       "         -1.9447693e+00,  1.6089836e+00,  3.2954961e-01, -2.9810145e-01,\n",
       "          7.1740180e-01,  1.5558727e-01, -6.0999364e-01,  5.4386866e-01,\n",
       "         -1.5156764e-01, -1.1526163e+00, -1.6079535e+00, -4.1914821e-01,\n",
       "         -3.0236277e-01,  1.3454631e-01,  6.6477466e-01,  1.7343184e+00,\n",
       "         -1.0339745e+00,  2.2619441e-01, -7.4287826e-01,  1.1841800e-01,\n",
       "          2.3116333e+00,  1.8214050e-03, -1.5538166e+00,  1.3194414e+00,\n",
       "          2.1077073e+00,  5.9424466e-01, -1.6954640e+00, -1.6143446e+00,\n",
       "         -1.7665368e+00,  3.7652496e-01, -6.7561579e-01,  1.4342460e-01,\n",
       "          5.3617162e-01, -1.0102153e+00,  8.7805724e-01,  2.9076412e-01,\n",
       "          1.1870199e+00, -1.2279985e+00,  5.0895321e-01,  4.2351437e-01,\n",
       "         -3.5531500e-01, -2.1608664e-01, -1.3496649e-01,  1.3503648e-01,\n",
       "          5.8319807e-01,  1.5990611e+00, -6.2316024e-01, -1.9584513e+00,\n",
       "         -1.0480485e+00,  1.6518151e+00,  2.3275296e-01,  1.1138252e+00,\n",
       "          1.2053516e+00,  6.4000624e-01, -6.8514520e-01,  3.9732260e-01,\n",
       "          1.0809920e+00, -1.8144778e+00,  2.1222746e-01,  7.7531055e-02,\n",
       "         -1.0744206e+00,  2.4453169e-01, -1.3944507e+00,  4.9775544e-01,\n",
       "          3.4290859e-01, -6.5079284e-01, -3.1403756e-01, -1.7762794e+00,\n",
       "          7.8116882e-01,  2.2825027e-02,  1.2771266e+00, -3.8185829e-01,\n",
       "          7.2467089e-01, -7.0144427e-01,  6.0157233e-01, -9.9255168e-01,\n",
       "         -3.5855167e-02, -1.4112471e-01,  1.4242282e+00, -7.4669480e-01,\n",
       "          1.2366428e+00, -6.9212836e-01, -1.6772602e+00, -1.0573990e+00],\n",
       "        dtype=float32)>,\n",
       "  'out': <tf.Variable 'Variable:0' shape=(10,) dtype=float32, numpy=\n",
       "  array([-0.06291196, -0.13645767,  0.26041892, -0.2434669 ,  0.8798786 ,\n",
       "         -0.35616943, -0.15671808,  0.33880576,  0.17774266, -1.4830676 ],\n",
       "        dtype=float32)>},\n",
       " {'h1': <tf.Variable 'Variable:0' shape=(784, 256) dtype=float32, numpy=\n",
       "  array([[ 0.6408539 , -2.2473118 ,  2.04897   , ...,  0.88665867,\n",
       "           0.63803464,  0.2571935 ],\n",
       "         [ 2.2396924 ,  0.44400457,  0.4013952 , ...,  1.1703125 ,\n",
       "          -1.362939  , -0.26973158],\n",
       "         [-1.4279969 ,  0.4436661 , -1.4368451 , ...,  0.68934023,\n",
       "           0.24014099, -0.4951876 ],\n",
       "         ...,\n",
       "         [ 1.1791962 , -0.24918371,  0.36780855, ...,  0.5847041 ,\n",
       "          -0.48162636, -0.95954406],\n",
       "         [-0.1689266 ,  0.4910223 ,  0.7933624 , ...,  1.7679174 ,\n",
       "           0.1285356 ,  1.2544163 ],\n",
       "         [-1.5396069 , -0.5593436 , -0.88448715, ...,  1.4829928 ,\n",
       "           0.05122442,  1.0893422 ]], dtype=float32)>,\n",
       "  'h2': <tf.Variable 'Variable:0' shape=(256, 256) dtype=float32, numpy=\n",
       "  array([[-0.7468121 ,  1.6141592 ,  1.4603708 , ...,  1.898775  ,\n",
       "          -0.0896152 , -0.12473291],\n",
       "         [-0.2464005 , -0.38512683, -0.38532013, ..., -0.22925696,\n",
       "          -0.69311506, -0.6518942 ],\n",
       "         [ 0.04640645, -0.39224806, -0.15967035, ...,  0.05974109,\n",
       "           1.0795152 , -1.1496137 ],\n",
       "         ...,\n",
       "         [-1.7139808 ,  1.3195615 ,  0.08808511, ...,  0.61891323,\n",
       "          -0.15254635,  0.55390507],\n",
       "         [ 0.695168  ,  2.3522677 , -1.2048279 , ...,  0.70462435,\n",
       "          -1.2538671 ,  0.7692984 ],\n",
       "         [-1.088108  ,  0.23847066, -0.8012426 , ..., -0.37178338,\n",
       "           1.3863574 , -0.07902362]], dtype=float32)>,\n",
       "  'out': <tf.Variable 'Variable:0' shape=(10,) dtype=float32, numpy=\n",
       "  array([-0.25361335,  0.28365347, -0.06772014, -0.57925   ,  0.01173965,\n",
       "          0.28267053, -0.9141086 , -0.14489278, -0.08561381, -0.8913897 ],\n",
       "        dtype=float32)>})"
      ]
     },
     "execution_count": 26,
     "metadata": {},
     "output_type": "execute_result"
    }
   ],
   "source": [
    "bias = {\n",
    "    'h1': tf.Variable(tf.compat.v1.random_normal([hidden_1])),\n",
    "    'h2': tf.Variable(tf.compat.v1.random_normal([hidden_2])),\n",
    "    'out': tf.Variable(tf.compat.v1.random_normal([n_classes]))\n",
    "}\n",
    "bias, wieghts"
   ]
  },
  {
   "cell_type": "code",
   "execution_count": 27,
   "id": "f207c4dd",
   "metadata": {},
   "outputs": [
    {
     "name": "stderr",
     "output_type": "stream",
     "text": [
      "C:\\Users\\Family PC\\anaconda3\\lib\\site-packages\\sklearn\\datasets\\_openml.py:932: FutureWarning: The default value of `parser` will change from `'liac-arff'` to `'auto'` in 1.4. You can set `parser='auto'` to silence this warning. Therefore, an `ImportError` will be raised from 1.4 if the dataset is dense and pandas is not installed. Note that the pandas parser may return different data types. See the Notes Section in fetch_openml's API doc for details.\n",
      "  warn(\n"
     ]
    },
    {
     "data": {
      "text/plain": [
       "(70000, 784)"
      ]
     },
     "execution_count": 27,
     "metadata": {},
     "output_type": "execute_result"
    }
   ],
   "source": [
    "from sklearn.datasets import fetch_openml\n",
    "mnist = fetch_openml('mnist_784')\n",
    "mnist.data.shape"
   ]
  },
  {
   "cell_type": "code",
   "execution_count": 33,
   "id": "ae28d48e",
   "metadata": {},
   "outputs": [
    {
     "data": {
      "text/plain": [
       "(6000, 784)"
      ]
     },
     "execution_count": 33,
     "metadata": {},
     "output_type": "execute_result"
    }
   ],
   "source": [
    "x_train, x_test = mnist.data[:6000], mnist.data[6000:7000]\n",
    "y_train, y_test = mnist.target[:6000], mnist.target[6000:7000]\n",
    "x_train.shape"
   ]
  },
  {
   "cell_type": "code",
   "execution_count": 28,
   "id": "1fa37bb1",
   "metadata": {},
   "outputs": [],
   "source": [
    "def forward_propogation(x_train, weights, bias):\n",
    "    in_layer1 = tf.add(tf.matmul(x_train, weights['h1']), bias['h1'])\n",
    "    out_layer1 = tf.nn.relu[in_layer1]\n",
    "    in_layer2 = tf.add(tf.matmul(out_layer1, weights['h2']), bias['h2'])\n",
    "    out_layer2 = tf.nn.relu[in_layer2]\n",
    "    output = tf.add(tf.matmul(out_layer2, weights['out']), bias['out']) \n",
    "    return output"
   ]
  },
  {
   "cell_type": "code",
   "execution_count": 36,
   "id": "638fde36",
   "metadata": {},
   "outputs": [],
   "source": [
    "import tensorflow as tf\n",
    "with tf.compat.v1.Session() as sess:\n",
    "    sess.run(tf.compat.v1.global_variables_initializer())\n",
    "    x = tf.compat.v1.placeholder(\"float\", [None, n_input])\n",
    "    y = tf.compat.v1.placeholder(tf.int32, [None, n_classes])\n",
    "    "
   ]
  },
  {
   "cell_type": "code",
   "execution_count": null,
   "id": "1faaf230",
   "metadata": {},
   "outputs": [],
   "source": [
    "cost= tf.reduce_mean(tf.nn.softmax_cross_entropy_with_logits(logits = pred, )) "
   ]
  },
  {
   "cell_type": "code",
   "execution_count": 34,
   "id": "0a85ab71",
   "metadata": {},
   "outputs": [
    {
     "ename": "TypeError",
     "evalue": "<tf.Tensor 'Placeholder_4:0' shape=(None, 784) dtype=float32> is out of scope and cannot be used here. Use return values, explicit Python locals or TensorFlow collections to access it.\nPlease see https://www.tensorflow.org/guide/function#all_outputs_of_a_tffunction_must_be_return_values for more information.\n\n<tf.Tensor 'Placeholder_4:0' shape=(None, 784) dtype=float32> was defined here:\n    File \"C:\\Users\\Family PC\\anaconda3\\lib\\runpy.py\", line 196, in _run_module_as_main\n      return _run_code(code, main_globals, None,\n    File \"C:\\Users\\Family PC\\anaconda3\\lib\\runpy.py\", line 86, in _run_code\n      exec(code, run_globals)\n    File \"C:\\Users\\Family PC\\anaconda3\\lib\\site-packages\\ipykernel_launcher.py\", line 17, in <module>\n      app.launch_new_instance()\n    File \"C:\\Users\\Family PC\\anaconda3\\lib\\site-packages\\traitlets\\config\\application.py\", line 992, in launch_instance\n      app.start()\n    File \"C:\\Users\\Family PC\\anaconda3\\lib\\site-packages\\ipykernel\\kernelapp.py\", line 711, in start\n      self.io_loop.start()\n    File \"C:\\Users\\Family PC\\anaconda3\\lib\\site-packages\\tornado\\platform\\asyncio.py\", line 199, in start\n      self.asyncio_loop.run_forever()\n    File \"C:\\Users\\Family PC\\anaconda3\\lib\\asyncio\\base_events.py\", line 603, in run_forever\n      self._run_once()\n    File \"C:\\Users\\Family PC\\anaconda3\\lib\\asyncio\\base_events.py\", line 1906, in _run_once\n      handle._run()\n    File \"C:\\Users\\Family PC\\anaconda3\\lib\\asyncio\\events.py\", line 80, in _run\n      self._context.run(self._callback, *self._args)\n    File \"C:\\Users\\Family PC\\anaconda3\\lib\\site-packages\\ipykernel\\kernelbase.py\", line 510, in dispatch_queue\n      await self.process_one()\n    File \"C:\\Users\\Family PC\\anaconda3\\lib\\site-packages\\ipykernel\\kernelbase.py\", line 499, in process_one\n      await dispatch(*args)\n    File \"C:\\Users\\Family PC\\anaconda3\\lib\\site-packages\\ipykernel\\kernelbase.py\", line 406, in dispatch_shell\n      await result\n    File \"C:\\Users\\Family PC\\anaconda3\\lib\\site-packages\\ipykernel\\kernelbase.py\", line 729, in execute_request\n      reply_content = await reply_content\n    File \"C:\\Users\\Family PC\\anaconda3\\lib\\site-packages\\ipykernel\\ipkernel.py\", line 411, in do_execute\n      res = shell.run_cell(\n    File \"C:\\Users\\Family PC\\anaconda3\\lib\\site-packages\\ipykernel\\zmqshell.py\", line 531, in run_cell\n      return super().run_cell(*args, **kwargs)\n    File \"C:\\Users\\Family PC\\anaconda3\\lib\\site-packages\\IPython\\core\\interactiveshell.py\", line 2961, in run_cell\n      result = self._run_cell(\n    File \"C:\\Users\\Family PC\\anaconda3\\lib\\site-packages\\IPython\\core\\interactiveshell.py\", line 3016, in _run_cell\n      result = runner(coro)\n    File \"C:\\Users\\Family PC\\anaconda3\\lib\\site-packages\\IPython\\core\\async_helpers.py\", line 129, in _pseudo_sync_runner\n      coro.send(None)\n    File \"C:\\Users\\Family PC\\anaconda3\\lib\\site-packages\\IPython\\core\\interactiveshell.py\", line 3221, in run_cell_async\n      has_raised = await self.run_ast_nodes(code_ast.body, cell_name,\n    File \"C:\\Users\\Family PC\\anaconda3\\lib\\site-packages\\IPython\\core\\interactiveshell.py\", line 3400, in run_ast_nodes\n      if await self.run_code(code, result, async_=asy):\n    File \"C:\\Users\\Family PC\\anaconda3\\lib\\site-packages\\IPython\\core\\interactiveshell.py\", line 3460, in run_code\n      exec(code_obj, self.user_global_ns, self.user_ns)\n    File \"C:\\Users\\Family PC\\AppData\\Local\\Temp\\ipykernel_8280\\1685766278.py\", line 4, in <module>\n      x = tf.compat.v1.placeholder(\"float\", [None, n_input])\n    File \"C:\\Users\\Family PC\\anaconda3\\lib\\site-packages\\tensorflow\\python\\ops\\array_ops.py\", line 3361, in placeholder\n      return gen_array_ops.placeholder(dtype=dtype, shape=shape, name=name)\n    File \"C:\\Users\\Family PC\\anaconda3\\lib\\site-packages\\tensorflow\\python\\ops\\gen_array_ops.py\", line 8693, in placeholder\n      _, _, _op, _outputs = _op_def_library._apply_op_helper(\n    File \"C:\\Users\\Family PC\\anaconda3\\lib\\site-packages\\tensorflow\\python\\framework\\op_def_library.py\", line 795, in _apply_op_helper\n      op = g._create_op_internal(op_type_name, inputs, dtypes=None,\n    File \"C:\\Users\\Family PC\\anaconda3\\lib\\site-packages\\tensorflow\\python\\framework\\ops.py\", line 3814, in _create_op_internal\n      ret = Operation(\n\nThe tensor <tf.Tensor 'Placeholder_4:0' shape=(None, 784) dtype=float32> cannot be accessed from here, because it was defined in <tensorflow.python.framework.ops.Graph object at 0x0000015187B37370>, which is out of scope.",
     "output_type": "error",
     "traceback": [
      "\u001b[1;31m---------------------------------------------------------------------------\u001b[0m",
      "\u001b[1;31mTypeError\u001b[0m                                 Traceback (most recent call last)",
      "Cell \u001b[1;32mIn[34], line 1\u001b[0m\n\u001b[1;32m----> 1\u001b[0m pred \u001b[38;5;241m=\u001b[39m \u001b[43mforward_propogation\u001b[49m\u001b[43m(\u001b[49m\u001b[43mx\u001b[49m\u001b[43m \u001b[49m\u001b[43m,\u001b[49m\u001b[43m \u001b[49m\u001b[43mweights\u001b[49m\u001b[43m,\u001b[49m\u001b[43m \u001b[49m\u001b[43mbias\u001b[49m\u001b[43m)\u001b[49m\n\u001b[0;32m      2\u001b[0m prediction \u001b[38;5;241m=\u001b[39m tf\u001b[38;5;241m.\u001b[39margmax(pred, \u001b[38;5;241m1\u001b[39m)\n\u001b[0;32m      3\u001b[0m true_labels \u001b[38;5;241m=\u001b[39m tf\u001b[38;5;241m.\u001b[39margmax(y, \u001b[38;5;241m1\u001b[39m)\n",
      "Cell \u001b[1;32mIn[28], line 2\u001b[0m, in \u001b[0;36mforward_propogation\u001b[1;34m(x_train, weights, bias)\u001b[0m\n\u001b[0;32m      1\u001b[0m \u001b[38;5;28;01mdef\u001b[39;00m \u001b[38;5;21mforward_propogation\u001b[39m(x_train, weights, bias):\n\u001b[1;32m----> 2\u001b[0m     in_layer1 \u001b[38;5;241m=\u001b[39m tf\u001b[38;5;241m.\u001b[39madd(\u001b[43mtf\u001b[49m\u001b[38;5;241;43m.\u001b[39;49m\u001b[43mmatmul\u001b[49m\u001b[43m(\u001b[49m\u001b[43mx_train\u001b[49m\u001b[43m,\u001b[49m\u001b[43m \u001b[49m\u001b[43mweights\u001b[49m\u001b[43m[\u001b[49m\u001b[38;5;124;43m'\u001b[39;49m\u001b[38;5;124;43mh1\u001b[39;49m\u001b[38;5;124;43m'\u001b[39;49m\u001b[43m]\u001b[49m\u001b[43m)\u001b[49m, bias[\u001b[38;5;124m'\u001b[39m\u001b[38;5;124mh1\u001b[39m\u001b[38;5;124m'\u001b[39m])\n\u001b[0;32m      3\u001b[0m     out_layer1 \u001b[38;5;241m=\u001b[39m tf\u001b[38;5;241m.\u001b[39mnn\u001b[38;5;241m.\u001b[39mrelu[in_layer1]\n\u001b[0;32m      4\u001b[0m     in_layer2 \u001b[38;5;241m=\u001b[39m tf\u001b[38;5;241m.\u001b[39madd(tf\u001b[38;5;241m.\u001b[39mmatmul(out_layer1, weights[\u001b[38;5;124m'\u001b[39m\u001b[38;5;124mh2\u001b[39m\u001b[38;5;124m'\u001b[39m]), bias[\u001b[38;5;124m'\u001b[39m\u001b[38;5;124mh2\u001b[39m\u001b[38;5;124m'\u001b[39m])\n",
      "File \u001b[1;32m~\\anaconda3\\lib\\site-packages\\tensorflow\\python\\util\\traceback_utils.py:153\u001b[0m, in \u001b[0;36mfilter_traceback.<locals>.error_handler\u001b[1;34m(*args, **kwargs)\u001b[0m\n\u001b[0;32m    151\u001b[0m \u001b[38;5;28;01mexcept\u001b[39;00m \u001b[38;5;167;01mException\u001b[39;00m \u001b[38;5;28;01mas\u001b[39;00m e:\n\u001b[0;32m    152\u001b[0m   filtered_tb \u001b[38;5;241m=\u001b[39m _process_traceback_frames(e\u001b[38;5;241m.\u001b[39m__traceback__)\n\u001b[1;32m--> 153\u001b[0m   \u001b[38;5;28;01mraise\u001b[39;00m e\u001b[38;5;241m.\u001b[39mwith_traceback(filtered_tb) \u001b[38;5;28;01mfrom\u001b[39;00m \u001b[38;5;28mNone\u001b[39m\n\u001b[0;32m    154\u001b[0m \u001b[38;5;28;01mfinally\u001b[39;00m:\n\u001b[0;32m    155\u001b[0m   \u001b[38;5;28;01mdel\u001b[39;00m filtered_tb\n",
      "File \u001b[1;32m~\\anaconda3\\lib\\site-packages\\tensorflow\\python\\eager\\execute.py:52\u001b[0m, in \u001b[0;36mquick_execute\u001b[1;34m(op_name, num_outputs, inputs, attrs, ctx, name)\u001b[0m\n\u001b[0;32m     50\u001b[0m \u001b[38;5;28;01mtry\u001b[39;00m:\n\u001b[0;32m     51\u001b[0m   ctx\u001b[38;5;241m.\u001b[39mensure_initialized()\n\u001b[1;32m---> 52\u001b[0m   tensors \u001b[38;5;241m=\u001b[39m pywrap_tfe\u001b[38;5;241m.\u001b[39mTFE_Py_Execute(ctx\u001b[38;5;241m.\u001b[39m_handle, device_name, op_name,\n\u001b[0;32m     53\u001b[0m                                       inputs, attrs, num_outputs)\n\u001b[0;32m     54\u001b[0m \u001b[38;5;28;01mexcept\u001b[39;00m core\u001b[38;5;241m.\u001b[39m_NotOkStatusException \u001b[38;5;28;01mas\u001b[39;00m e:\n\u001b[0;32m     55\u001b[0m   \u001b[38;5;28;01mif\u001b[39;00m name \u001b[38;5;129;01mis\u001b[39;00m \u001b[38;5;129;01mnot\u001b[39;00m \u001b[38;5;28;01mNone\u001b[39;00m:\n",
      "\u001b[1;31mTypeError\u001b[0m: <tf.Tensor 'Placeholder_4:0' shape=(None, 784) dtype=float32> is out of scope and cannot be used here. Use return values, explicit Python locals or TensorFlow collections to access it.\nPlease see https://www.tensorflow.org/guide/function#all_outputs_of_a_tffunction_must_be_return_values for more information.\n\n<tf.Tensor 'Placeholder_4:0' shape=(None, 784) dtype=float32> was defined here:\n    File \"C:\\Users\\Family PC\\anaconda3\\lib\\runpy.py\", line 196, in _run_module_as_main\n      return _run_code(code, main_globals, None,\n    File \"C:\\Users\\Family PC\\anaconda3\\lib\\runpy.py\", line 86, in _run_code\n      exec(code, run_globals)\n    File \"C:\\Users\\Family PC\\anaconda3\\lib\\site-packages\\ipykernel_launcher.py\", line 17, in <module>\n      app.launch_new_instance()\n    File \"C:\\Users\\Family PC\\anaconda3\\lib\\site-packages\\traitlets\\config\\application.py\", line 992, in launch_instance\n      app.start()\n    File \"C:\\Users\\Family PC\\anaconda3\\lib\\site-packages\\ipykernel\\kernelapp.py\", line 711, in start\n      self.io_loop.start()\n    File \"C:\\Users\\Family PC\\anaconda3\\lib\\site-packages\\tornado\\platform\\asyncio.py\", line 199, in start\n      self.asyncio_loop.run_forever()\n    File \"C:\\Users\\Family PC\\anaconda3\\lib\\asyncio\\base_events.py\", line 603, in run_forever\n      self._run_once()\n    File \"C:\\Users\\Family PC\\anaconda3\\lib\\asyncio\\base_events.py\", line 1906, in _run_once\n      handle._run()\n    File \"C:\\Users\\Family PC\\anaconda3\\lib\\asyncio\\events.py\", line 80, in _run\n      self._context.run(self._callback, *self._args)\n    File \"C:\\Users\\Family PC\\anaconda3\\lib\\site-packages\\ipykernel\\kernelbase.py\", line 510, in dispatch_queue\n      await self.process_one()\n    File \"C:\\Users\\Family PC\\anaconda3\\lib\\site-packages\\ipykernel\\kernelbase.py\", line 499, in process_one\n      await dispatch(*args)\n    File \"C:\\Users\\Family PC\\anaconda3\\lib\\site-packages\\ipykernel\\kernelbase.py\", line 406, in dispatch_shell\n      await result\n    File \"C:\\Users\\Family PC\\anaconda3\\lib\\site-packages\\ipykernel\\kernelbase.py\", line 729, in execute_request\n      reply_content = await reply_content\n    File \"C:\\Users\\Family PC\\anaconda3\\lib\\site-packages\\ipykernel\\ipkernel.py\", line 411, in do_execute\n      res = shell.run_cell(\n    File \"C:\\Users\\Family PC\\anaconda3\\lib\\site-packages\\ipykernel\\zmqshell.py\", line 531, in run_cell\n      return super().run_cell(*args, **kwargs)\n    File \"C:\\Users\\Family PC\\anaconda3\\lib\\site-packages\\IPython\\core\\interactiveshell.py\", line 2961, in run_cell\n      result = self._run_cell(\n    File \"C:\\Users\\Family PC\\anaconda3\\lib\\site-packages\\IPython\\core\\interactiveshell.py\", line 3016, in _run_cell\n      result = runner(coro)\n    File \"C:\\Users\\Family PC\\anaconda3\\lib\\site-packages\\IPython\\core\\async_helpers.py\", line 129, in _pseudo_sync_runner\n      coro.send(None)\n    File \"C:\\Users\\Family PC\\anaconda3\\lib\\site-packages\\IPython\\core\\interactiveshell.py\", line 3221, in run_cell_async\n      has_raised = await self.run_ast_nodes(code_ast.body, cell_name,\n    File \"C:\\Users\\Family PC\\anaconda3\\lib\\site-packages\\IPython\\core\\interactiveshell.py\", line 3400, in run_ast_nodes\n      if await self.run_code(code, result, async_=asy):\n    File \"C:\\Users\\Family PC\\anaconda3\\lib\\site-packages\\IPython\\core\\interactiveshell.py\", line 3460, in run_code\n      exec(code_obj, self.user_global_ns, self.user_ns)\n    File \"C:\\Users\\Family PC\\AppData\\Local\\Temp\\ipykernel_8280\\1685766278.py\", line 4, in <module>\n      x = tf.compat.v1.placeholder(\"float\", [None, n_input])\n    File \"C:\\Users\\Family PC\\anaconda3\\lib\\site-packages\\tensorflow\\python\\ops\\array_ops.py\", line 3361, in placeholder\n      return gen_array_ops.placeholder(dtype=dtype, shape=shape, name=name)\n    File \"C:\\Users\\Family PC\\anaconda3\\lib\\site-packages\\tensorflow\\python\\ops\\gen_array_ops.py\", line 8693, in placeholder\n      _, _, _op, _outputs = _op_def_library._apply_op_helper(\n    File \"C:\\Users\\Family PC\\anaconda3\\lib\\site-packages\\tensorflow\\python\\framework\\op_def_library.py\", line 795, in _apply_op_helper\n      op = g._create_op_internal(op_type_name, inputs, dtypes=None,\n    File \"C:\\Users\\Family PC\\anaconda3\\lib\\site-packages\\tensorflow\\python\\framework\\ops.py\", line 3814, in _create_op_internal\n      ret = Operation(\n\nThe tensor <tf.Tensor 'Placeholder_4:0' shape=(None, 784) dtype=float32> cannot be accessed from here, because it was defined in <tensorflow.python.framework.ops.Graph object at 0x0000015187B37370>, which is out of scope."
     ]
    }
   ],
   "source": [
    "pred = forward_propogation(x , weights, bias)\n",
    "prediction = tf.argmax(pred, 1)\n",
    "true_labels = tf.argmax(y, 1)\n",
    "correct_prediction = tf.equal(predcition, true_labels)"
   ]
  },
  {
   "cell_type": "code",
   "execution_count": null,
   "id": "b2ff1c5d",
   "metadata": {},
   "outputs": [],
   "source": [
    "tf.__version__"
   ]
  }
 ],
 "metadata": {
  "kernelspec": {
   "display_name": "Python 3 (ipykernel)",
   "language": "python",
   "name": "python3"
  },
  "language_info": {
   "codemirror_mode": {
    "name": "ipython",
    "version": 3
   },
   "file_extension": ".py",
   "mimetype": "text/x-python",
   "name": "python",
   "nbconvert_exporter": "python",
   "pygments_lexer": "ipython3",
   "version": "3.10.9"
  }
 },
 "nbformat": 4,
 "nbformat_minor": 5
}
