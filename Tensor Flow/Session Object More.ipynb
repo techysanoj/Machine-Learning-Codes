{
 "cells": [
  {
   "cell_type": "code",
   "execution_count": 9,
   "id": "4557ad69",
   "metadata": {},
   "outputs": [
    {
     "name": "stdout",
     "output_type": "stream",
     "text": [
      "200000\n",
      "2020\n",
      "40000\n"
     ]
    }
   ],
   "source": [
    "import tensorflow as tf\n",
    "with tf.compat.v1.Session() as sess:\n",
    "    a = tf.constant(1000)\n",
    "    b = tf.constant(200)\n",
    "    c = a*b\n",
    "    print(c.eval())\n",
    "    # we can use eval function or sess.run() function to do evaluating\n",
    "    \n",
    "    a1 = tf.constant(20)\n",
    "    a2 = tf.constant(2000)\n",
    "    c = tf.add(a1,a2)\n",
    "    print(c.eval())\n",
    "    c = tf.multiply(a1,a2)\n",
    "    print(c.eval())\n",
    "    \n",
    "    # we need to write tf.compat.v1.Session() to use session object"
   ]
  }
 ],
 "metadata": {
  "kernelspec": {
   "display_name": "Python 3 (ipykernel)",
   "language": "python",
   "name": "python3"
  },
  "language_info": {
   "codemirror_mode": {
    "name": "ipython",
    "version": 3
   },
   "file_extension": ".py",
   "mimetype": "text/x-python",
   "name": "python",
   "nbconvert_exporter": "python",
   "pygments_lexer": "ipython3",
   "version": "3.10.9"
  }
 },
 "nbformat": 4,
 "nbformat_minor": 5
}
